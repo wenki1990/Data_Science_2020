{
 "cells": [
  {
   "cell_type": "code",
   "execution_count": 1,
   "metadata": {
    "collapsed": true
   },
   "outputs": [],
   "source": [
    "from PIL import Image"
   ]
  },
  {
   "cell_type": "code",
   "execution_count": 2,
   "metadata": {
    "collapsed": true
   },
   "outputs": [],
   "source": [
    "path1 = 'F:/Library/Analytics Path/Datasets/02_CNN_Eg2/data/'"
   ]
  },
  {
   "cell_type": "code",
   "execution_count": 3,
   "metadata": {
    "collapsed": true
   },
   "outputs": [],
   "source": [
    "path2 = 'F:\\\\Library\\\\Analytics Path\\\\Datasets\\\\02_CNN_Eg2\\\\preped_data'"
   ]
  },
  {
   "cell_type": "code",
   "execution_count": 4,
   "metadata": {
    "collapsed": true
   },
   "outputs": [],
   "source": [
    "import os"
   ]
  },
  {
   "cell_type": "code",
   "execution_count": 5,
   "metadata": {
    "collapsed": true
   },
   "outputs": [],
   "source": [
    "listing1 = os.listdir(path1)"
   ]
  },
  {
   "cell_type": "code",
   "execution_count": 6,
   "metadata": {
    "collapsed": true
   },
   "outputs": [],
   "source": [
    "for file in listing1:\n",
    "    im = Image.open(path1+'\\\\'+file)\n",
    "    img = im.resize((150,150))\n",
    "   # gray = img.convert('L')\n",
    "                #need to do some more processing here           \n",
    "   # gray.save(path2 +'\\\\' +  file, \"JPEG\")\n",
    "    img.save(path2+'\\\\'+file,\"JPEG\")# does not convert png into jpeg"
   ]
  },
  {
   "cell_type": "code",
   "execution_count": 8,
   "metadata": {
    "collapsed": true
   },
   "outputs": [],
   "source": [
    "from numpy import array"
   ]
  },
  {
   "cell_type": "code",
   "execution_count": 9,
   "metadata": {
    "collapsed": true
   },
   "outputs": [],
   "source": [
    "im1matrix = array([array(Image.open(path2+'\\\\'+im2)) for im2 in listing1],'f')# 'f' is datatype"
   ]
  },
  {
   "cell_type": "code",
   "execution_count": 10,
   "metadata": {},
   "outputs": [
    {
     "data": {
      "text/plain": [
       "(1000, 150, 150, 3)"
      ]
     },
     "execution_count": 10,
     "metadata": {},
     "output_type": "execute_result"
    }
   ],
   "source": [
    "im1matrix.shape"
   ]
  },
  {
   "cell_type": "code",
   "execution_count": 11,
   "metadata": {
    "collapsed": true
   },
   "outputs": [],
   "source": [
    "#one step importing\n",
    "listing1 = os.listdir(path1)"
   ]
  },
  {
   "cell_type": "code",
   "execution_count": 12,
   "metadata": {
    "collapsed": true
   },
   "outputs": [],
   "source": [
    "im2matrix = array([array(Image.open(path1+'\\\\'+im2).resize((150,150)).convert('L')) for im2 in listing1],'f')"
   ]
  },
  {
   "cell_type": "code",
   "execution_count": 13,
   "metadata": {},
   "outputs": [
    {
     "data": {
      "text/plain": [
       "(1000, 150, 150)"
      ]
     },
     "execution_count": 13,
     "metadata": {},
     "output_type": "execute_result"
    }
   ],
   "source": [
    "im2matrix.shape"
   ]
  },
  {
   "cell_type": "code",
   "execution_count": null,
   "metadata": {
    "collapsed": true
   },
   "outputs": [],
   "source": [
    "#scaling\n",
    "im2matrix /= 255"
   ]
  },
  {
   "cell_type": "code",
   "execution_count": 45,
   "metadata": {
    "collapsed": true
   },
   "outputs": [],
   "source": [
    "im3matrix = array([array(Image.open(path1+'\\\\'+im2).convert('L')) for im2 in listing1],'f')"
   ]
  },
  {
   "cell_type": "code",
   "execution_count": 14,
   "metadata": {
    "collapsed": true
   },
   "outputs": [],
   "source": [
    "import os\n",
    "os.chdir('F:\\\\Library\\\\Analytics Path\\\\Datasets\\\\02_CNN_Eg2')"
   ]
  },
  {
   "cell_type": "code",
   "execution_count": 16,
   "metadata": {
    "collapsed": true
   },
   "outputs": [],
   "source": [
    "import pandas as pd"
   ]
  },
  {
   "cell_type": "code",
   "execution_count": 17,
   "metadata": {
    "collapsed": true
   },
   "outputs": [],
   "source": [
    "y = pd.ExcelFile('labels.xlsx')"
   ]
  },
  {
   "cell_type": "code",
   "execution_count": 18,
   "metadata": {},
   "outputs": [
    {
     "data": {
      "text/plain": [
       "['Sheet1', 'Sheet2', 'Sheet3']"
      ]
     },
     "execution_count": 18,
     "metadata": {},
     "output_type": "execute_result"
    }
   ],
   "source": [
    "y.sheet_names"
   ]
  },
  {
   "cell_type": "code",
   "execution_count": 19,
   "metadata": {
    "collapsed": true
   },
   "outputs": [],
   "source": [
    "y = y.parse('Sheet1')"
   ]
  },
  {
   "cell_type": "code",
   "execution_count": 20,
   "metadata": {},
   "outputs": [
    {
     "data": {
      "text/plain": [
       "pandas.core.frame.DataFrame"
      ]
     },
     "execution_count": 20,
     "metadata": {},
     "output_type": "execute_result"
    }
   ],
   "source": [
    "type(y)"
   ]
  },
  {
   "cell_type": "code",
   "execution_count": 21,
   "metadata": {},
   "outputs": [
    {
     "data": {
      "text/html": [
       "<div>\n",
       "<style>\n",
       "    .dataframe thead tr:only-child th {\n",
       "        text-align: right;\n",
       "    }\n",
       "\n",
       "    .dataframe thead th {\n",
       "        text-align: left;\n",
       "    }\n",
       "\n",
       "    .dataframe tbody tr th {\n",
       "        vertical-align: top;\n",
       "    }\n",
       "</style>\n",
       "<table border=\"1\" class=\"dataframe\">\n",
       "  <thead>\n",
       "    <tr style=\"text-align: right;\">\n",
       "      <th></th>\n",
       "      <th>id</th>\n",
       "      <th>label</th>\n",
       "    </tr>\n",
       "  </thead>\n",
       "  <tbody>\n",
       "    <tr>\n",
       "      <th>0</th>\n",
       "      <td>1</td>\n",
       "      <td>frog</td>\n",
       "    </tr>\n",
       "    <tr>\n",
       "      <th>1</th>\n",
       "      <td>2</td>\n",
       "      <td>truck</td>\n",
       "    </tr>\n",
       "    <tr>\n",
       "      <th>2</th>\n",
       "      <td>3</td>\n",
       "      <td>truck</td>\n",
       "    </tr>\n",
       "    <tr>\n",
       "      <th>3</th>\n",
       "      <td>4</td>\n",
       "      <td>deer</td>\n",
       "    </tr>\n",
       "    <tr>\n",
       "      <th>4</th>\n",
       "      <td>5</td>\n",
       "      <td>automobile</td>\n",
       "    </tr>\n",
       "  </tbody>\n",
       "</table>\n",
       "</div>"
      ],
      "text/plain": [
       "   id       label\n",
       "0   1        frog\n",
       "1   2       truck\n",
       "2   3       truck\n",
       "3   4        deer\n",
       "4   5  automobile"
      ]
     },
     "execution_count": 21,
     "metadata": {},
     "output_type": "execute_result"
    }
   ],
   "source": [
    "y.head()"
   ]
  },
  {
   "cell_type": "code",
   "execution_count": 23,
   "metadata": {},
   "outputs": [
    {
     "data": {
      "text/plain": [
       "Index(['id', 'label'], dtype='object')"
      ]
     },
     "execution_count": 23,
     "metadata": {},
     "output_type": "execute_result"
    }
   ],
   "source": [
    "y.columns"
   ]
  },
  {
   "cell_type": "code",
   "execution_count": 24,
   "metadata": {
    "collapsed": true
   },
   "outputs": [],
   "source": [
    "del y['id']"
   ]
  },
  {
   "cell_type": "code",
   "execution_count": 25,
   "metadata": {},
   "outputs": [
    {
     "data": {
      "text/html": [
       "<div>\n",
       "<style>\n",
       "    .dataframe thead tr:only-child th {\n",
       "        text-align: right;\n",
       "    }\n",
       "\n",
       "    .dataframe thead th {\n",
       "        text-align: left;\n",
       "    }\n",
       "\n",
       "    .dataframe tbody tr th {\n",
       "        vertical-align: top;\n",
       "    }\n",
       "</style>\n",
       "<table border=\"1\" class=\"dataframe\">\n",
       "  <thead>\n",
       "    <tr style=\"text-align: right;\">\n",
       "      <th></th>\n",
       "      <th>label</th>\n",
       "    </tr>\n",
       "  </thead>\n",
       "  <tbody>\n",
       "    <tr>\n",
       "      <th>0</th>\n",
       "      <td>frog</td>\n",
       "    </tr>\n",
       "    <tr>\n",
       "      <th>1</th>\n",
       "      <td>truck</td>\n",
       "    </tr>\n",
       "    <tr>\n",
       "      <th>2</th>\n",
       "      <td>truck</td>\n",
       "    </tr>\n",
       "    <tr>\n",
       "      <th>3</th>\n",
       "      <td>deer</td>\n",
       "    </tr>\n",
       "    <tr>\n",
       "      <th>4</th>\n",
       "      <td>automobile</td>\n",
       "    </tr>\n",
       "  </tbody>\n",
       "</table>\n",
       "</div>"
      ],
      "text/plain": [
       "        label\n",
       "0        frog\n",
       "1       truck\n",
       "2       truck\n",
       "3        deer\n",
       "4  automobile"
      ]
     },
     "execution_count": 25,
     "metadata": {},
     "output_type": "execute_result"
    }
   ],
   "source": [
    "y.head()"
   ]
  },
  {
   "cell_type": "code",
   "execution_count": 26,
   "metadata": {},
   "outputs": [
    {
     "data": {
      "text/plain": [
       "label    object\n",
       "dtype: object"
      ]
     },
     "execution_count": 26,
     "metadata": {},
     "output_type": "execute_result"
    }
   ],
   "source": [
    "y.dtypes"
   ]
  },
  {
   "cell_type": "code",
   "execution_count": 27,
   "metadata": {
    "collapsed": true
   },
   "outputs": [],
   "source": [
    "dummied_y = pd.get_dummies(y)"
   ]
  },
  {
   "cell_type": "code",
   "execution_count": 28,
   "metadata": {},
   "outputs": [
    {
     "data": {
      "text/html": [
       "<div>\n",
       "<style>\n",
       "    .dataframe thead tr:only-child th {\n",
       "        text-align: right;\n",
       "    }\n",
       "\n",
       "    .dataframe thead th {\n",
       "        text-align: left;\n",
       "    }\n",
       "\n",
       "    .dataframe tbody tr th {\n",
       "        vertical-align: top;\n",
       "    }\n",
       "</style>\n",
       "<table border=\"1\" class=\"dataframe\">\n",
       "  <thead>\n",
       "    <tr style=\"text-align: right;\">\n",
       "      <th></th>\n",
       "      <th>label_airplane</th>\n",
       "      <th>label_automobile</th>\n",
       "      <th>label_bird</th>\n",
       "      <th>label_cat</th>\n",
       "      <th>label_deer</th>\n",
       "      <th>label_dog</th>\n",
       "      <th>label_frog</th>\n",
       "      <th>label_horse</th>\n",
       "      <th>label_ship</th>\n",
       "      <th>label_truck</th>\n",
       "    </tr>\n",
       "  </thead>\n",
       "  <tbody>\n",
       "    <tr>\n",
       "      <th>0</th>\n",
       "      <td>0</td>\n",
       "      <td>0</td>\n",
       "      <td>0</td>\n",
       "      <td>0</td>\n",
       "      <td>0</td>\n",
       "      <td>0</td>\n",
       "      <td>1</td>\n",
       "      <td>0</td>\n",
       "      <td>0</td>\n",
       "      <td>0</td>\n",
       "    </tr>\n",
       "    <tr>\n",
       "      <th>1</th>\n",
       "      <td>0</td>\n",
       "      <td>0</td>\n",
       "      <td>0</td>\n",
       "      <td>0</td>\n",
       "      <td>0</td>\n",
       "      <td>0</td>\n",
       "      <td>0</td>\n",
       "      <td>0</td>\n",
       "      <td>0</td>\n",
       "      <td>1</td>\n",
       "    </tr>\n",
       "    <tr>\n",
       "      <th>2</th>\n",
       "      <td>0</td>\n",
       "      <td>0</td>\n",
       "      <td>0</td>\n",
       "      <td>0</td>\n",
       "      <td>0</td>\n",
       "      <td>0</td>\n",
       "      <td>0</td>\n",
       "      <td>0</td>\n",
       "      <td>0</td>\n",
       "      <td>1</td>\n",
       "    </tr>\n",
       "    <tr>\n",
       "      <th>3</th>\n",
       "      <td>0</td>\n",
       "      <td>0</td>\n",
       "      <td>0</td>\n",
       "      <td>0</td>\n",
       "      <td>1</td>\n",
       "      <td>0</td>\n",
       "      <td>0</td>\n",
       "      <td>0</td>\n",
       "      <td>0</td>\n",
       "      <td>0</td>\n",
       "    </tr>\n",
       "    <tr>\n",
       "      <th>4</th>\n",
       "      <td>0</td>\n",
       "      <td>1</td>\n",
       "      <td>0</td>\n",
       "      <td>0</td>\n",
       "      <td>0</td>\n",
       "      <td>0</td>\n",
       "      <td>0</td>\n",
       "      <td>0</td>\n",
       "      <td>0</td>\n",
       "      <td>0</td>\n",
       "    </tr>\n",
       "  </tbody>\n",
       "</table>\n",
       "</div>"
      ],
      "text/plain": [
       "   label_airplane  label_automobile  label_bird  label_cat  label_deer  \\\n",
       "0               0                 0           0          0           0   \n",
       "1               0                 0           0          0           0   \n",
       "2               0                 0           0          0           0   \n",
       "3               0                 0           0          0           1   \n",
       "4               0                 1           0          0           0   \n",
       "\n",
       "   label_dog  label_frog  label_horse  label_ship  label_truck  \n",
       "0          0           1            0           0            0  \n",
       "1          0           0            0           0            1  \n",
       "2          0           0            0           0            1  \n",
       "3          0           0            0           0            0  \n",
       "4          0           0            0           0            0  "
      ]
     },
     "execution_count": 28,
     "metadata": {},
     "output_type": "execute_result"
    }
   ],
   "source": [
    "dummied_y.head()"
   ]
  },
  {
   "cell_type": "code",
   "execution_count": 29,
   "metadata": {},
   "outputs": [
    {
     "name": "stderr",
     "output_type": "stream",
     "text": [
      "Using TensorFlow backend.\n"
     ]
    }
   ],
   "source": [
    "import keras"
   ]
  },
  {
   "cell_type": "code",
   "execution_count": 34,
   "metadata": {
    "collapsed": true
   },
   "outputs": [],
   "source": [
    "from sklearn.model_selection import train_test_split"
   ]
  },
  {
   "cell_type": "code",
   "execution_count": 47,
   "metadata": {
    "collapsed": true
   },
   "outputs": [],
   "source": [
    "X_train,X_test,y_train,y_test = train_test_split(im3matrix,dummied_y)"
   ]
  },
  {
   "cell_type": "code",
   "execution_count": 48,
   "metadata": {},
   "outputs": [
    {
     "data": {
      "text/plain": [
       "(750, 32, 32)"
      ]
     },
     "execution_count": 48,
     "metadata": {},
     "output_type": "execute_result"
    }
   ],
   "source": [
    "X_train.shape"
   ]
  },
  {
   "cell_type": "code",
   "execution_count": 49,
   "metadata": {
    "collapsed": true
   },
   "outputs": [],
   "source": [
    "X_train = X_train.reshape(750,32,32,1)"
   ]
  },
  {
   "cell_type": "code",
   "execution_count": 50,
   "metadata": {
    "scrolled": true
   },
   "outputs": [
    {
     "data": {
      "text/plain": [
       "array([[[ 33.],\n",
       "        [ 52.],\n",
       "        [ 55.],\n",
       "        ...,\n",
       "        [144.],\n",
       "        [141.],\n",
       "        [ 85.]],\n",
       "\n",
       "       [[ 40.],\n",
       "        [ 55.],\n",
       "        [ 45.],\n",
       "        ...,\n",
       "        [123.],\n",
       "        [126.],\n",
       "        [ 90.]],\n",
       "\n",
       "       [[ 50.],\n",
       "        [ 46.],\n",
       "        [ 33.],\n",
       "        ...,\n",
       "        [153.],\n",
       "        [137.],\n",
       "        [ 86.]],\n",
       "\n",
       "       ...,\n",
       "\n",
       "       [[175.],\n",
       "        [166.],\n",
       "        [175.],\n",
       "        ...,\n",
       "        [204.],\n",
       "        [208.],\n",
       "        [218.]],\n",
       "\n",
       "       [[167.],\n",
       "        [170.],\n",
       "        [172.],\n",
       "        ...,\n",
       "        [248.],\n",
       "        [249.],\n",
       "        [250.]],\n",
       "\n",
       "       [[160.],\n",
       "        [156.],\n",
       "        [152.],\n",
       "        ...,\n",
       "        [248.],\n",
       "        [247.],\n",
       "        [248.]]], dtype=float32)"
      ]
     },
     "execution_count": 50,
     "metadata": {},
     "output_type": "execute_result"
    }
   ],
   "source": [
    "X_train[1]"
   ]
  },
  {
   "cell_type": "code",
   "execution_count": 51,
   "metadata": {
    "collapsed": true
   },
   "outputs": [],
   "source": [
    "X_test = X_test.reshape(250,32,32,1)"
   ]
  },
  {
   "cell_type": "code",
   "execution_count": 37,
   "metadata": {
    "collapsed": true
   },
   "outputs": [],
   "source": [
    "from keras.models import Sequential\n",
    "from keras.layers import Conv2D,Activation,MaxPooling2D,Dropout,Flatten,Dense"
   ]
  },
  {
   "cell_type": "code",
   "execution_count": 54,
   "metadata": {
    "collapsed": true,
    "scrolled": true
   },
   "outputs": [],
   "source": [
    "model = Sequential()\n",
    "model.add(Conv2D(32, (2,2), padding='same',\n",
    "                 input_shape= X_train.shape[1:]))\n",
    "model.add(Activation('relu'))\n",
    "model.add(Conv2D(32, (2,2)))\n",
    "model.add(Activation('relu'))\n",
    "# max pooling layer\n",
    "model.add(MaxPooling2D(pool_size=(2, 2)))\n",
    "model.add(Dropout(0.25)) \n",
    "# default value of stride = 1\n",
    "model.add(Conv2D(64, (2,2), padding='same'))\n",
    "model.add(Activation('relu'))\n",
    "model.add(Conv2D(64, (2,2)))\n",
    "model.add(Activation('relu'))\n",
    "model.add(MaxPooling2D(pool_size=(2, 2)))\n",
    "model.add(Dropout(0.25))\n",
    "model.add(Flatten())\n",
    "model.add(Dense(512))\n",
    "model.add(Activation('relu'))\n",
    "model.add(Dropout(0.5))\n",
    "model.add(Dense(10))\n",
    "model.add(Activation('softmax'))# the o/p of 10 neurons will be summed together\n",
    "opt = keras.optimizers.rmsprop(lr=0.0001, decay=1e-6)\n",
    "model.compile(loss='categorical_crossentropy',\n",
    "              optimizer=opt,\n",
    "              metrics=['accuracy'])"
   ]
  },
  {
   "cell_type": "code",
   "execution_count": 55,
   "metadata": {
    "scrolled": false
   },
   "outputs": [
    {
     "name": "stdout",
     "output_type": "stream",
     "text": [
      "Epoch 1/20\n",
      "750/750 [==============================] - 3s 5ms/step - loss: 13.2363 - acc: 0.1053\n",
      "Epoch 2/20\n",
      "750/750 [==============================] - 3s 4ms/step - loss: 12.6513 - acc: 0.1040\n",
      "Epoch 3/20\n",
      "750/750 [==============================] - 3s 4ms/step - loss: 12.4458 - acc: 0.0827\n",
      "Epoch 4/20\n",
      "750/750 [==============================] - 3s 4ms/step - loss: 10.6824 - acc: 0.1027\n",
      "Epoch 5/20\n",
      "750/750 [==============================] - 4s 5ms/step - loss: 8.2894 - acc: 0.1027\n",
      "Epoch 6/20\n",
      "750/750 [==============================] - 3s 4ms/step - loss: 5.3205 - acc: 0.1253\n",
      "Epoch 7/20\n",
      "750/750 [==============================] - 3s 4ms/step - loss: 3.8116 - acc: 0.1213A: 2s - loss: 4.3877 -\n",
      "Epoch 8/20\n",
      "750/750 [==============================] - 3s 4ms/step - loss: 2.9891 - acc: 0.1093\n",
      "Epoch 9/20\n",
      "750/750 [==============================] - 3s 4ms/step - loss: 2.6391 - acc: 0.1213\n",
      "Epoch 10/20\n",
      "750/750 [==============================] - 3s 4ms/step - loss: 2.5443 - acc: 0.0960\n",
      "Epoch 11/20\n",
      "750/750 [==============================] - 3s 4ms/step - loss: 2.4314 - acc: 0.1067\n",
      "Epoch 12/20\n",
      "750/750 [==============================] - 4s 5ms/step - loss: 2.4221 - acc: 0.0987\n",
      "Epoch 13/20\n",
      "750/750 [==============================] - 4s 6ms/step - loss: 2.3615 - acc: 0.1267\n",
      "Epoch 14/20\n",
      "750/750 [==============================] - 4s 5ms/step - loss: 2.3746 - acc: 0.1227\n",
      "Epoch 15/20\n",
      "750/750 [==============================] - 3s 4ms/step - loss: 2.3703 - acc: 0.1227\n",
      "Epoch 16/20\n",
      "750/750 [==============================] - 3s 4ms/step - loss: 2.3353 - acc: 0.1240\n",
      "Epoch 17/20\n",
      "750/750 [==============================] - 3s 4ms/step - loss: 2.3504 - acc: 0.0960\n",
      "Epoch 18/20\n",
      "750/750 [==============================] - 3s 5ms/step - loss: 2.3349 - acc: 0.1173\n",
      "Epoch 19/20\n",
      "750/750 [==============================] - 3s 5ms/step - loss: 2.3119 - acc: 0.1200\n",
      "Epoch 20/20\n",
      "750/750 [==============================] - 3s 4ms/step - loss: 2.3307 - acc: 0.1160\n"
     ]
    },
    {
     "data": {
      "text/plain": [
       "<keras.callbacks.History at 0x1bb81fd60f0>"
      ]
     },
     "execution_count": 55,
     "metadata": {},
     "output_type": "execute_result"
    }
   ],
   "source": [
    "model.fit(X_train,y_train,batch_size = 50,epochs = 20)"
   ]
  },
  {
   "cell_type": "code",
   "execution_count": 56,
   "metadata": {
    "collapsed": true
   },
   "outputs": [],
   "source": [
    "preds = model.predict(X_test)"
   ]
  },
  {
   "cell_type": "code",
   "execution_count": 62,
   "metadata": {},
   "outputs": [
    {
     "data": {
      "text/plain": [
       "array([[0.10695065, 0.10149977, 0.10144503, 0.09198449, 0.10436647,\n",
       "        0.09848872, 0.09452496, 0.10155217, 0.10169343, 0.09749428],\n",
       "       [0.09812101, 0.10012903, 0.09979631, 0.10280757, 0.10590097,\n",
       "        0.09369556, 0.09473784, 0.10886425, 0.09900446, 0.09694296],\n",
       "       [0.10731617, 0.10456222, 0.09743408, 0.09891059, 0.09516804,\n",
       "        0.09065988, 0.11392885, 0.10187927, 0.08949105, 0.10064983],\n",
       "       [0.10575689, 0.11690541, 0.10850393, 0.10394993, 0.09407404,\n",
       "        0.09487708, 0.09969103, 0.09239478, 0.0835973 , 0.10024953],\n",
       "       [0.10374178, 0.10148455, 0.10076728, 0.09686438, 0.09929308,\n",
       "        0.09316327, 0.10184029, 0.10188721, 0.09682339, 0.10413487],\n",
       "       [0.10643741, 0.10269848, 0.09024795, 0.09866951, 0.10124485,\n",
       "        0.0928198 , 0.09707882, 0.1002605 , 0.10337572, 0.107167  ],\n",
       "       [0.08617948, 0.09755173, 0.09763175, 0.11004784, 0.0940526 ,\n",
       "        0.09293047, 0.10796358, 0.10990946, 0.09059808, 0.11313501],\n",
       "       [0.09253421, 0.10216132, 0.09894978, 0.09876958, 0.09891072,\n",
       "        0.10109263, 0.10106426, 0.10745479, 0.09510141, 0.10396124],\n",
       "       [0.09533171, 0.0960529 , 0.09903323, 0.10364006, 0.09545898,\n",
       "        0.10274178, 0.10013282, 0.10939064, 0.09247056, 0.10574739],\n",
       "       [0.09197091, 0.09584414, 0.09407955, 0.11582303, 0.0871628 ,\n",
       "        0.10222165, 0.10425918, 0.11020912, 0.08667483, 0.11175472],\n",
       "       [0.10062566, 0.10049912, 0.09649741, 0.1000355 , 0.09675992,\n",
       "        0.09683923, 0.10010044, 0.10153308, 0.10488001, 0.10222969],\n",
       "       [0.11223589, 0.09732037, 0.09711404, 0.09483718, 0.09539514,\n",
       "        0.09171911, 0.09947694, 0.10323991, 0.10249045, 0.10617095],\n",
       "       [0.10384313, 0.09864822, 0.09974502, 0.09982088, 0.12497138,\n",
       "        0.10299093, 0.08802416, 0.09791733, 0.0958024 , 0.08823646],\n",
       "       [0.11000243, 0.10769249, 0.09716815, 0.08333211, 0.11631428,\n",
       "        0.07807674, 0.1070359 , 0.0816738 , 0.11542857, 0.10327557],\n",
       "       [0.08526512, 0.09724828, 0.10733917, 0.09175973, 0.11181071,\n",
       "        0.10007369, 0.10985829, 0.08819599, 0.1087025 , 0.09974664],\n",
       "       [0.0990316 , 0.0907876 , 0.09776834, 0.11359069, 0.08071933,\n",
       "        0.10548364, 0.10936499, 0.11505347, 0.08285049, 0.10534979],\n",
       "       [0.09173829, 0.10002892, 0.10699332, 0.10318416, 0.09910858,\n",
       "        0.08238593, 0.10417952, 0.10865623, 0.08544183, 0.11828322],\n",
       "       [0.09262756, 0.10445283, 0.10024402, 0.10127965, 0.09607984,\n",
       "        0.09742974, 0.10495842, 0.10468548, 0.09967978, 0.09856281],\n",
       "       [0.11334494, 0.10442199, 0.09999763, 0.08745475, 0.0986313 ,\n",
       "        0.08761152, 0.09551754, 0.10850831, 0.09463978, 0.10987225],\n",
       "       [0.10409681, 0.10389148, 0.10359913, 0.09007929, 0.10245601,\n",
       "        0.0931782 , 0.09554942, 0.10288553, 0.09923321, 0.10503093]],\n",
       "      dtype=float32)"
      ]
     },
     "execution_count": 62,
     "metadata": {},
     "output_type": "execute_result"
    }
   ],
   "source": [
    "preds[:20,]"
   ]
  },
  {
   "cell_type": "code",
   "execution_count": 59,
   "metadata": {
    "scrolled": true
   },
   "outputs": [
    {
     "data": {
      "text/plain": [
       "(250, 10)"
      ]
     },
     "execution_count": 59,
     "metadata": {},
     "output_type": "execute_result"
    }
   ],
   "source": [
    "y_test.shape"
   ]
  },
  {
   "cell_type": "code",
   "execution_count": 63,
   "metadata": {},
   "outputs": [
    {
     "data": {
      "text/plain": [
       "pandas.core.frame.DataFrame"
      ]
     },
     "execution_count": 63,
     "metadata": {},
     "output_type": "execute_result"
    }
   ],
   "source": [
    "type(y_test)"
   ]
  },
  {
   "cell_type": "code",
   "execution_count": 64,
   "metadata": {},
   "outputs": [
    {
     "data": {
      "text/html": [
       "<div>\n",
       "<style>\n",
       "    .dataframe thead tr:only-child th {\n",
       "        text-align: right;\n",
       "    }\n",
       "\n",
       "    .dataframe thead th {\n",
       "        text-align: left;\n",
       "    }\n",
       "\n",
       "    .dataframe tbody tr th {\n",
       "        vertical-align: top;\n",
       "    }\n",
       "</style>\n",
       "<table border=\"1\" class=\"dataframe\">\n",
       "  <thead>\n",
       "    <tr style=\"text-align: right;\">\n",
       "      <th></th>\n",
       "      <th>label_airplane</th>\n",
       "      <th>label_automobile</th>\n",
       "      <th>label_bird</th>\n",
       "      <th>label_cat</th>\n",
       "      <th>label_deer</th>\n",
       "      <th>label_dog</th>\n",
       "      <th>label_frog</th>\n",
       "      <th>label_horse</th>\n",
       "      <th>label_ship</th>\n",
       "      <th>label_truck</th>\n",
       "    </tr>\n",
       "  </thead>\n",
       "  <tbody>\n",
       "    <tr>\n",
       "      <th>947</th>\n",
       "      <td>0</td>\n",
       "      <td>1</td>\n",
       "      <td>0</td>\n",
       "      <td>0</td>\n",
       "      <td>0</td>\n",
       "      <td>0</td>\n",
       "      <td>0</td>\n",
       "      <td>0</td>\n",
       "      <td>0</td>\n",
       "      <td>0</td>\n",
       "    </tr>\n",
       "    <tr>\n",
       "      <th>513</th>\n",
       "      <td>0</td>\n",
       "      <td>0</td>\n",
       "      <td>1</td>\n",
       "      <td>0</td>\n",
       "      <td>0</td>\n",
       "      <td>0</td>\n",
       "      <td>0</td>\n",
       "      <td>0</td>\n",
       "      <td>0</td>\n",
       "      <td>0</td>\n",
       "    </tr>\n",
       "    <tr>\n",
       "      <th>584</th>\n",
       "      <td>0</td>\n",
       "      <td>0</td>\n",
       "      <td>0</td>\n",
       "      <td>0</td>\n",
       "      <td>0</td>\n",
       "      <td>0</td>\n",
       "      <td>0</td>\n",
       "      <td>0</td>\n",
       "      <td>1</td>\n",
       "      <td>0</td>\n",
       "    </tr>\n",
       "    <tr>\n",
       "      <th>542</th>\n",
       "      <td>0</td>\n",
       "      <td>0</td>\n",
       "      <td>0</td>\n",
       "      <td>0</td>\n",
       "      <td>0</td>\n",
       "      <td>1</td>\n",
       "      <td>0</td>\n",
       "      <td>0</td>\n",
       "      <td>0</td>\n",
       "      <td>0</td>\n",
       "    </tr>\n",
       "    <tr>\n",
       "      <th>505</th>\n",
       "      <td>0</td>\n",
       "      <td>0</td>\n",
       "      <td>0</td>\n",
       "      <td>0</td>\n",
       "      <td>1</td>\n",
       "      <td>0</td>\n",
       "      <td>0</td>\n",
       "      <td>0</td>\n",
       "      <td>0</td>\n",
       "      <td>0</td>\n",
       "    </tr>\n",
       "    <tr>\n",
       "      <th>491</th>\n",
       "      <td>0</td>\n",
       "      <td>0</td>\n",
       "      <td>0</td>\n",
       "      <td>0</td>\n",
       "      <td>0</td>\n",
       "      <td>1</td>\n",
       "      <td>0</td>\n",
       "      <td>0</td>\n",
       "      <td>0</td>\n",
       "      <td>0</td>\n",
       "    </tr>\n",
       "    <tr>\n",
       "      <th>643</th>\n",
       "      <td>0</td>\n",
       "      <td>0</td>\n",
       "      <td>0</td>\n",
       "      <td>0</td>\n",
       "      <td>0</td>\n",
       "      <td>0</td>\n",
       "      <td>0</td>\n",
       "      <td>0</td>\n",
       "      <td>0</td>\n",
       "      <td>1</td>\n",
       "    </tr>\n",
       "    <tr>\n",
       "      <th>280</th>\n",
       "      <td>0</td>\n",
       "      <td>0</td>\n",
       "      <td>0</td>\n",
       "      <td>0</td>\n",
       "      <td>0</td>\n",
       "      <td>0</td>\n",
       "      <td>0</td>\n",
       "      <td>0</td>\n",
       "      <td>1</td>\n",
       "      <td>0</td>\n",
       "    </tr>\n",
       "    <tr>\n",
       "      <th>509</th>\n",
       "      <td>0</td>\n",
       "      <td>0</td>\n",
       "      <td>0</td>\n",
       "      <td>0</td>\n",
       "      <td>0</td>\n",
       "      <td>0</td>\n",
       "      <td>0</td>\n",
       "      <td>0</td>\n",
       "      <td>1</td>\n",
       "      <td>0</td>\n",
       "    </tr>\n",
       "    <tr>\n",
       "      <th>537</th>\n",
       "      <td>0</td>\n",
       "      <td>0</td>\n",
       "      <td>0</td>\n",
       "      <td>0</td>\n",
       "      <td>0</td>\n",
       "      <td>0</td>\n",
       "      <td>0</td>\n",
       "      <td>1</td>\n",
       "      <td>0</td>\n",
       "      <td>0</td>\n",
       "    </tr>\n",
       "    <tr>\n",
       "      <th>911</th>\n",
       "      <td>1</td>\n",
       "      <td>0</td>\n",
       "      <td>0</td>\n",
       "      <td>0</td>\n",
       "      <td>0</td>\n",
       "      <td>0</td>\n",
       "      <td>0</td>\n",
       "      <td>0</td>\n",
       "      <td>0</td>\n",
       "      <td>0</td>\n",
       "    </tr>\n",
       "    <tr>\n",
       "      <th>586</th>\n",
       "      <td>0</td>\n",
       "      <td>0</td>\n",
       "      <td>1</td>\n",
       "      <td>0</td>\n",
       "      <td>0</td>\n",
       "      <td>0</td>\n",
       "      <td>0</td>\n",
       "      <td>0</td>\n",
       "      <td>0</td>\n",
       "      <td>0</td>\n",
       "    </tr>\n",
       "    <tr>\n",
       "      <th>967</th>\n",
       "      <td>0</td>\n",
       "      <td>0</td>\n",
       "      <td>0</td>\n",
       "      <td>0</td>\n",
       "      <td>0</td>\n",
       "      <td>0</td>\n",
       "      <td>0</td>\n",
       "      <td>0</td>\n",
       "      <td>1</td>\n",
       "      <td>0</td>\n",
       "    </tr>\n",
       "    <tr>\n",
       "      <th>196</th>\n",
       "      <td>0</td>\n",
       "      <td>0</td>\n",
       "      <td>1</td>\n",
       "      <td>0</td>\n",
       "      <td>0</td>\n",
       "      <td>0</td>\n",
       "      <td>0</td>\n",
       "      <td>0</td>\n",
       "      <td>0</td>\n",
       "      <td>0</td>\n",
       "    </tr>\n",
       "    <tr>\n",
       "      <th>592</th>\n",
       "      <td>0</td>\n",
       "      <td>0</td>\n",
       "      <td>0</td>\n",
       "      <td>0</td>\n",
       "      <td>0</td>\n",
       "      <td>0</td>\n",
       "      <td>0</td>\n",
       "      <td>0</td>\n",
       "      <td>1</td>\n",
       "      <td>0</td>\n",
       "    </tr>\n",
       "    <tr>\n",
       "      <th>20</th>\n",
       "      <td>0</td>\n",
       "      <td>0</td>\n",
       "      <td>0</td>\n",
       "      <td>0</td>\n",
       "      <td>1</td>\n",
       "      <td>0</td>\n",
       "      <td>0</td>\n",
       "      <td>0</td>\n",
       "      <td>0</td>\n",
       "      <td>0</td>\n",
       "    </tr>\n",
       "    <tr>\n",
       "      <th>778</th>\n",
       "      <td>0</td>\n",
       "      <td>0</td>\n",
       "      <td>1</td>\n",
       "      <td>0</td>\n",
       "      <td>0</td>\n",
       "      <td>0</td>\n",
       "      <td>0</td>\n",
       "      <td>0</td>\n",
       "      <td>0</td>\n",
       "      <td>0</td>\n",
       "    </tr>\n",
       "    <tr>\n",
       "      <th>511</th>\n",
       "      <td>0</td>\n",
       "      <td>0</td>\n",
       "      <td>0</td>\n",
       "      <td>0</td>\n",
       "      <td>0</td>\n",
       "      <td>0</td>\n",
       "      <td>0</td>\n",
       "      <td>0</td>\n",
       "      <td>0</td>\n",
       "      <td>1</td>\n",
       "    </tr>\n",
       "    <tr>\n",
       "      <th>216</th>\n",
       "      <td>0</td>\n",
       "      <td>0</td>\n",
       "      <td>0</td>\n",
       "      <td>0</td>\n",
       "      <td>0</td>\n",
       "      <td>0</td>\n",
       "      <td>0</td>\n",
       "      <td>0</td>\n",
       "      <td>1</td>\n",
       "      <td>0</td>\n",
       "    </tr>\n",
       "    <tr>\n",
       "      <th>714</th>\n",
       "      <td>0</td>\n",
       "      <td>1</td>\n",
       "      <td>0</td>\n",
       "      <td>0</td>\n",
       "      <td>0</td>\n",
       "      <td>0</td>\n",
       "      <td>0</td>\n",
       "      <td>0</td>\n",
       "      <td>0</td>\n",
       "      <td>0</td>\n",
       "    </tr>\n",
       "  </tbody>\n",
       "</table>\n",
       "</div>"
      ],
      "text/plain": [
       "     label_airplane  label_automobile  label_bird  label_cat  label_deer  \\\n",
       "947               0                 1           0          0           0   \n",
       "513               0                 0           1          0           0   \n",
       "584               0                 0           0          0           0   \n",
       "542               0                 0           0          0           0   \n",
       "505               0                 0           0          0           1   \n",
       "491               0                 0           0          0           0   \n",
       "643               0                 0           0          0           0   \n",
       "280               0                 0           0          0           0   \n",
       "509               0                 0           0          0           0   \n",
       "537               0                 0           0          0           0   \n",
       "911               1                 0           0          0           0   \n",
       "586               0                 0           1          0           0   \n",
       "967               0                 0           0          0           0   \n",
       "196               0                 0           1          0           0   \n",
       "592               0                 0           0          0           0   \n",
       "20                0                 0           0          0           1   \n",
       "778               0                 0           1          0           0   \n",
       "511               0                 0           0          0           0   \n",
       "216               0                 0           0          0           0   \n",
       "714               0                 1           0          0           0   \n",
       "\n",
       "     label_dog  label_frog  label_horse  label_ship  label_truck  \n",
       "947          0           0            0           0            0  \n",
       "513          0           0            0           0            0  \n",
       "584          0           0            0           1            0  \n",
       "542          1           0            0           0            0  \n",
       "505          0           0            0           0            0  \n",
       "491          1           0            0           0            0  \n",
       "643          0           0            0           0            1  \n",
       "280          0           0            0           1            0  \n",
       "509          0           0            0           1            0  \n",
       "537          0           0            1           0            0  \n",
       "911          0           0            0           0            0  \n",
       "586          0           0            0           0            0  \n",
       "967          0           0            0           1            0  \n",
       "196          0           0            0           0            0  \n",
       "592          0           0            0           1            0  \n",
       "20           0           0            0           0            0  \n",
       "778          0           0            0           0            0  \n",
       "511          0           0            0           0            1  \n",
       "216          0           0            0           1            0  \n",
       "714          0           0            0           0            0  "
      ]
     },
     "execution_count": 64,
     "metadata": {},
     "output_type": "execute_result"
    }
   ],
   "source": [
    "y_test.iloc[0:20,:]"
   ]
  },
  {
   "cell_type": "code",
   "execution_count": null,
   "metadata": {
    "collapsed": true
   },
   "outputs": [],
   "source": []
  }
 ],
 "metadata": {
  "kernelspec": {
   "display_name": "Python 3",
   "language": "python",
   "name": "python3"
  },
  "language_info": {
   "codemirror_mode": {
    "name": "ipython",
    "version": 3
   },
   "file_extension": ".py",
   "mimetype": "text/x-python",
   "name": "python",
   "nbconvert_exporter": "python",
   "pygments_lexer": "ipython3",
   "version": "3.6.3"
  }
 },
 "nbformat": 4,
 "nbformat_minor": 2
}
