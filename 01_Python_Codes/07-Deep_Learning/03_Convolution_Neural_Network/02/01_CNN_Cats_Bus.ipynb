{
 "cells": [
  {
   "cell_type": "code",
   "execution_count": 2,
   "metadata": {
    "collapsed": true
   },
   "outputs": [],
   "source": [
    "train_datapath = 'F:\\\\Library\\\\Analytics Path\\\\Datasets\\\\01_CNN_Eg1\\\\data\\\\train'"
   ]
  },
  {
   "cell_type": "code",
   "execution_count": 3,
   "metadata": {
    "collapsed": true
   },
   "outputs": [],
   "source": [
    "test_datapath = 'F:\\\\Library\\\\Analytics Path\\\\Datasets\\\\01_CNN_Eg1\\\\data\\\\test'"
   ]
  },
  {
   "cell_type": "code",
   "execution_count": 1,
   "metadata": {},
   "outputs": [
    {
     "name": "stderr",
     "output_type": "stream",
     "text": [
      "Using TensorFlow backend.\n"
     ]
    }
   ],
   "source": [
    "import keras"
   ]
  },
  {
   "cell_type": "code",
   "execution_count": 2,
   "metadata": {
    "collapsed": true
   },
   "outputs": [],
   "source": [
    "from keras.preprocessing.image import ImageDataGenerator,load_img"
   ]
  },
  {
   "cell_type": "code",
   "execution_count": null,
   "metadata": {
    "collapsed": true
   },
   "outputs": [],
   "source": [
    "#im = load_img('path_till_image_name',target_size = (224,224))"
   ]
  },
  {
   "cell_type": "code",
   "execution_count": 6,
   "metadata": {
    "collapsed": true
   },
   "outputs": [],
   "source": [
    "?ImageDataGenerator.flow_from_directory"
   ]
  },
  {
   "cell_type": "code",
   "execution_count": 7,
   "metadata": {},
   "outputs": [
    {
     "name": "stdout",
     "output_type": "stream",
     "text": [
      "Found 10 images belonging to 2 classes.\n"
     ]
    }
   ],
   "source": [
    "train_data = ImageDataGenerator(rescale = 1.0/255).flow_from_directory(train_datapath,target_size = (150,150),batch_size = 2,classes = ['cats','bus'])"
   ]
  },
  {
   "cell_type": "code",
   "execution_count": 8,
   "metadata": {
    "collapsed": true
   },
   "outputs": [],
   "source": [
    "train,train_labels = next(train_data)"
   ]
  },
  {
   "cell_type": "code",
   "execution_count": 9,
   "metadata": {
    "collapsed": true
   },
   "outputs": [],
   "source": [
    "#works without rescale option only\n",
    "import numpy as np\n",
    "import matplotlib.pyplot as plt\n",
    "from sklearn.metrics import confusion_matrix\n",
    "import itertools\n",
    "import keras\n",
    "from keras.preprocessing.image import ImageDataGenerator\n",
    "\n",
    "# plots images with labels within jupyter notebook\n",
    "def plots(ims, figsize=(12,6), rows=1, interp=False, titles=None):\n",
    "    if type(ims[0]) is np.ndarray:\n",
    "        ims = np.array(ims).astype(np.uint8)\n",
    "        if (ims.shape[-1] != 3):\n",
    "            ims = ims.transpose((0,2,3,1))\n",
    "    f = plt.figure(figsize=figsize)\n",
    "    cols = len(ims)//rows if len(ims) % 2 == 0 else len(ims)//rows + 1\n",
    "    for i in range(len(ims)):\n",
    "        sp = f.add_subplot(rows, cols, i+1)\n",
    "        sp.axis('Off')\n",
    "        if titles is not None:\n",
    "            sp.set_title(titles[i], fontsize=16)\n",
    "        plt.imshow(ims[i], interpolation=None if interp else 'none')"
   ]
  },
  {
   "cell_type": "code",
   "execution_count": 10,
   "metadata": {
    "collapsed": true
   },
   "outputs": [],
   "source": [
    "plots(train,titles = train_labels)"
   ]
  },
  {
   "cell_type": "code",
   "execution_count": 11,
   "metadata": {},
   "outputs": [
    {
     "data": {
      "image/png": "[encoded data removed]",
      "text/plain": [
       "<matplotlib.figure.Figure at 0x23905b4bf98>"
      ]
     },
     "metadata": {},
     "output_type": "display_data"
    }
   ],
   "source": [
    "plt.show()"
   ]
  },
  {
   "cell_type": "code",
   "execution_count": 12,
   "metadata": {},
   "outputs": [
    {
     "data": {
      "text/plain": [
       "(2, 150, 150, 3)"
      ]
     },
     "execution_count": 12,
     "metadata": {},
     "output_type": "execute_result"
    }
   ],
   "source": [
    "train.shape"
   ]
  },
  {
   "cell_type": "code",
   "execution_count": 13,
   "metadata": {
    "scrolled": true
   },
   "outputs": [
    {
     "data": {
      "text/plain": [
       "array([[[0.7019608 , 0.7019608 , 0.7019608 ],\n",
       "        [0.7058824 , 0.7058824 , 0.7058824 ],\n",
       "        [0.70980394, 0.70980394, 0.70980394],\n",
       "        ...,\n",
       "        [0.70980394, 0.70980394, 0.70980394],\n",
       "        [0.70980394, 0.70980394, 0.70980394],\n",
       "        [0.70980394, 0.70980394, 0.70980394]],\n",
       "\n",
       "       [[0.7019608 , 0.7019608 , 0.7019608 ],\n",
       "        [0.7058824 , 0.7058824 , 0.7058824 ],\n",
       "        [0.70980394, 0.70980394, 0.70980394],\n",
       "        ...,\n",
       "        [0.70980394, 0.70980394, 0.70980394],\n",
       "        [0.70980394, 0.70980394, 0.70980394],\n",
       "        [0.70980394, 0.70980394, 0.70980394]],\n",
       "\n",
       "       [[0.7058824 , 0.7058824 , 0.7058824 ],\n",
       "        [0.70980394, 0.70980394, 0.70980394],\n",
       "        [0.7137255 , 0.7137255 , 0.7137255 ],\n",
       "        ...,\n",
       "        [0.7137255 , 0.7137255 , 0.7137255 ],\n",
       "        [0.70980394, 0.70980394, 0.70980394],\n",
       "        [0.70980394, 0.70980394, 0.70980394]],\n",
       "\n",
       "       ...,\n",
       "\n",
       "       [[0.7058824 , 0.7058824 , 0.7058824 ],\n",
       "        [0.70980394, 0.70980394, 0.70980394],\n",
       "        [0.7176471 , 0.7176471 , 0.7176471 ],\n",
       "        ...,\n",
       "        [0.7137255 , 0.7137255 , 0.7137255 ],\n",
       "        [0.7058824 , 0.7058824 , 0.7058824 ],\n",
       "        [0.7058824 , 0.7058824 , 0.7058824 ]],\n",
       "\n",
       "       [[0.7019608 , 0.7019608 , 0.7019608 ],\n",
       "        [0.7058824 , 0.7058824 , 0.7058824 ],\n",
       "        [0.7137255 , 0.7137255 , 0.7137255 ],\n",
       "        ...,\n",
       "        [0.70980394, 0.70980394, 0.70980394],\n",
       "        [0.7058824 , 0.7058824 , 0.7058824 ],\n",
       "        [0.7058824 , 0.7058824 , 0.7058824 ]],\n",
       "\n",
       "       [[0.7019608 , 0.7019608 , 0.7019608 ],\n",
       "        [0.7058824 , 0.7058824 , 0.7058824 ],\n",
       "        [0.70980394, 0.70980394, 0.70980394],\n",
       "        ...,\n",
       "        [0.7058824 , 0.7058824 , 0.7058824 ],\n",
       "        [0.7058824 , 0.7058824 , 0.7058824 ],\n",
       "        [0.7058824 , 0.7058824 , 0.7058824 ]]], dtype=float32)"
      ]
     },
     "execution_count": 13,
     "metadata": {},
     "output_type": "execute_result"
    }
   ],
   "source": [
    "train[1]"
   ]
  },
  {
   "cell_type": "code",
   "execution_count": 14,
   "metadata": {
    "scrolled": false
   },
   "outputs": [
    {
     "name": "stdout",
     "output_type": "stream",
     "text": [
      "Found 6 images belonging to 2 classes.\n"
     ]
    }
   ],
   "source": [
    "test_data = ImageDataGenerator(rescale = 1.0/255).flow_from_directory(test_datapath,target_size = (150,150),batch_size = 2,classes = ['cats','bus'])"
   ]
  },
  {
   "cell_type": "code",
   "execution_count": 15,
   "metadata": {
    "collapsed": true
   },
   "outputs": [],
   "source": [
    "from keras.models import Sequential\n",
    "from keras.layers import Conv2D,Activation,MaxPooling2D,Dropout,Flatten,Dense"
   ]
  },
  {
   "cell_type": "code",
   "execution_count": 16,
   "metadata": {
    "collapsed": true,
    "scrolled": true
   },
   "outputs": [],
   "source": [
    "model = Sequential()\n",
    "model.add(Conv2D(32, (3, 3), padding='same',\n",
    "                 input_shape= train.shape[1:]))\n",
    "model.add(Activation('relu'))\n",
    "model.add(Conv2D(32, (3, 3)))\n",
    "model.add(Activation('relu'))\n",
    "# max pooling layer\n",
    "model.add(MaxPooling2D(pool_size=(2, 2)))\n",
    "model.add(Dropout(0.25)) \n",
    "# default value of stride = 1\n",
    "model.add(Conv2D(64, (3, 3), padding='same'))\n",
    "model.add(Activation('relu'))\n",
    "model.add(Conv2D(64, (3, 3)))\n",
    "model.add(Activation('relu'))\n",
    "model.add(MaxPooling2D(pool_size=(2, 2)))\n",
    "model.add(Dropout(0.25))\n",
    "model.add(Flatten())\n",
    "model.add(Dense(512))\n",
    "model.add(Activation('relu'))\n",
    "model.add(Dropout(0.5))\n",
    "model.add(Dense(2))\n",
    "model.add(Activation('softmax'))# the o/p of 10 neurons will be summed together\n",
    "opt = keras.optimizers.rmsprop(lr=0.0001, decay=1e-6)\n",
    "model.compile(loss='categorical_crossentropy',\n",
    "              optimizer=opt,\n",
    "              metrics=['accuracy'])"
   ]
  },
  {
   "cell_type": "code",
   "execution_count": 17,
   "metadata": {
    "collapsed": true
   },
   "outputs": [],
   "source": [
    "?model.fit_generator"
   ]
  },
  {
   "cell_type": "code",
   "execution_count": 18,
   "metadata": {},
   "outputs": [
    {
     "name": "stdout",
     "output_type": "stream",
     "text": [
      "Epoch 1/11\n",
      "5/5 [==============================] - 8s 2s/step - loss: 1.4862 - acc: 0.6000\n",
      "Epoch 2/11\n",
      "5/5 [==============================] - 6s 1s/step - loss: 1.9483 - acc: 0.3000\n",
      "Epoch 3/11\n",
      "5/5 [==============================] - 5s 1s/step - loss: 0.6233 - acc: 0.6000\n",
      "Epoch 4/11\n",
      "5/5 [==============================] - 5s 1s/step - loss: 0.6564 - acc: 0.9000\n",
      "Epoch 5/11\n",
      "5/5 [==============================] - 5s 1s/step - loss: 0.7777 - acc: 0.5000\n",
      "Epoch 6/11\n",
      "5/5 [==============================] - 5s 1s/step - loss: 0.6004 - acc: 0.6000\n",
      "Epoch 7/11\n",
      "5/5 [==============================] - 5s 1s/step - loss: 0.4742 - acc: 0.7000\n",
      "Epoch 8/11\n",
      "5/5 [==============================] - 5s 1s/step - loss: 0.7457 - acc: 0.6000\n",
      "Epoch 9/11\n",
      "5/5 [==============================] - 5s 1s/step - loss: 0.6433 - acc: 0.6000\n",
      "Epoch 10/11\n",
      "5/5 [==============================] - 5s 1s/step - loss: 0.4591 - acc: 0.7000\n",
      "Epoch 11/11\n",
      "5/5 [==============================] - 5s 1s/step - loss: 0.4839 - acc: 0.7000\n"
     ]
    },
    {
     "data": {
      "text/plain": [
       "<keras.callbacks.History at 0x23906661dd8>"
      ]
     },
     "execution_count": 18,
     "metadata": {},
     "output_type": "execute_result"
    }
   ],
   "source": [
    "model.fit_generator(train_data,steps_per_epoch = 5,epochs = 11)#steps_per_epoch = no.of batches = totnoofrecs/batchsize"
   ]
  },
  {
   "cell_type": "code",
   "execution_count": 19,
   "metadata": {
    "collapsed": true
   },
   "outputs": [],
   "source": [
    "?model.predict_generator"
   ]
  },
  {
   "cell_type": "code",
   "execution_count": 20,
   "metadata": {
    "collapsed": true
   },
   "outputs": [],
   "source": [
    "preds = model.predict_generator(test_data,steps = 3)#steps = no.of test batches = totnoofrecs/batchsize"
   ]
  },
  {
   "cell_type": "code",
   "execution_count": 21,
   "metadata": {},
   "outputs": [
    {
     "data": {
      "text/plain": [
       "array([[0.5762256 , 0.4237744 ],\n",
       "       [0.41465825, 0.5853417 ],\n",
       "       [0.46413356, 0.5358664 ],\n",
       "       [0.47876447, 0.5212355 ],\n",
       "       [0.59568524, 0.40431476],\n",
       "       [0.57762885, 0.42237115]], dtype=float32)"
      ]
     },
     "execution_count": 21,
     "metadata": {},
     "output_type": "execute_result"
    }
   ],
   "source": [
    "preds"
   ]
  },
  {
   "cell_type": "code",
   "execution_count": 22,
   "metadata": {
    "collapsed": true
   },
   "outputs": [],
   "source": [
    "for i in range(preds.shape[0]):\n",
    "    for j in range(preds.shape[1]):\n",
    "        if preds[i][j]>0.5:\n",
    "            preds[i][j] = 1\n",
    "        else:\n",
    "            preds[i][j] = 0"
   ]
  },
  {
   "cell_type": "code",
   "execution_count": 29,
   "metadata": {},
   "outputs": [
    {
     "data": {
      "text/plain": [
       "array([[1., 0.],\n",
       "       [0., 1.],\n",
       "       [0., 1.],\n",
       "       [0., 1.],\n",
       "       [1., 0.],\n",
       "       [1., 0.]], dtype=float32)"
      ]
     },
     "execution_count": 29,
     "metadata": {},
     "output_type": "execute_result"
    }
   ],
   "source": [
    "preds"
   ]
  },
  {
   "cell_type": "code",
   "execution_count": 23,
   "metadata": {
    "collapsed": true
   },
   "outputs": [],
   "source": [
    "test,test_labels = next(test_data)"
   ]
  },
  {
   "cell_type": "code",
   "execution_count": 24,
   "metadata": {},
   "outputs": [
    {
     "data": {
      "text/plain": [
       "array([[1., 0.],\n",
       "       [0., 1.]], dtype=float32)"
      ]
     },
     "execution_count": 24,
     "metadata": {},
     "output_type": "execute_result"
    }
   ],
   "source": [
    "test_labels"
   ]
  },
  {
   "cell_type": "code",
   "execution_count": 25,
   "metadata": {
    "collapsed": true
   },
   "outputs": [],
   "source": [
    "test,test_labels = next(test_data)"
   ]
  },
  {
   "cell_type": "code",
   "execution_count": 26,
   "metadata": {},
   "outputs": [
    {
     "data": {
      "text/plain": [
       "array([[1., 0.],\n",
       "       [1., 0.]], dtype=float32)"
      ]
     },
     "execution_count": 26,
     "metadata": {},
     "output_type": "execute_result"
    }
   ],
   "source": [
    "test_labels"
   ]
  },
  {
   "cell_type": "code",
   "execution_count": 27,
   "metadata": {
    "collapsed": true
   },
   "outputs": [],
   "source": [
    "test,test_labels = next(test_data)"
   ]
  },
  {
   "cell_type": "code",
   "execution_count": 28,
   "metadata": {},
   "outputs": [
    {
     "data": {
      "text/plain": [
       "array([[1., 0.],\n",
       "       [1., 0.]], dtype=float32)"
      ]
     },
     "execution_count": 28,
     "metadata": {},
     "output_type": "execute_result"
    }
   ],
   "source": [
    "test_labels"
   ]
  },
  {
   "cell_type": "code",
   "execution_count": null,
   "metadata": {
    "collapsed": true
   },
   "outputs": [],
   "source": [
    "#4 correct"
   ]
  },
  {
   "cell_type": "code",
   "execution_count": null,
   "metadata": {
    "collapsed": true
   },
   "outputs": [],
   "source": []
  }
 ],
 "metadata": {
  "kernelspec": {
   "display_name": "Python 3",
   "language": "python",
   "name": "python3"
  },
  "language_info": {
   "codemirror_mode": {
    "name": "ipython",
    "version": 3
   },
   "file_extension": ".py",
   "mimetype": "text/x-python",
   "name": "python",
   "nbconvert_exporter": "python",
   "pygments_lexer": "ipython3",
   "version": "3.6.3"
  }
 },
 "nbformat": 4,
 "nbformat_minor": 2
}
