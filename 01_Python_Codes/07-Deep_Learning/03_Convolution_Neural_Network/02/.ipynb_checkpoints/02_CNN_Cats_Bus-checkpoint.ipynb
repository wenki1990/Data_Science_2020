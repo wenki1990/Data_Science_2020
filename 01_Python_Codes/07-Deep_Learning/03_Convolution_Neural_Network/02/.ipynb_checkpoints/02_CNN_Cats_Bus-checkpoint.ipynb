{
 "cells": [
  {
   "cell_type": "code",
   "execution_count": 1,
   "metadata": {
    "collapsed": true
   },
   "outputs": [],
   "source": [
    "train_datapath = 'F:\\\\Library\\\\Analytics Path\\\\Datasets\\\\01_CNN_Eg1\\\\data\\\\train'"
   ]
  },
  {
   "cell_type": "code",
   "execution_count": 2,
   "metadata": {
    "collapsed": true
   },
   "outputs": [],
   "source": [
    "test_datapath = 'F:\\\\Library\\\\Analytics Path\\\\Datasets\\\\01_CNN_Eg1\\\\data\\\\test'"
   ]
  },
  {
   "cell_type": "code",
   "execution_count": 3,
   "metadata": {},
   "outputs": [
    {
     "name": "stderr",
     "output_type": "stream",
     "text": [
      "Using TensorFlow backend.\n"
     ]
    }
   ],
   "source": [
    "import keras"
   ]
  },
  {
   "cell_type": "code",
   "execution_count": 4,
   "metadata": {
    "collapsed": true
   },
   "outputs": [],
   "source": [
    "from keras.preprocessing.image import ImageDataGenerator"
   ]
  },
  {
   "cell_type": "code",
   "execution_count": 6,
   "metadata": {
    "collapsed": true
   },
   "outputs": [],
   "source": [
    "?ImageDataGenerator.flow_from_directory"
   ]
  },
  {
   "cell_type": "code",
   "execution_count": 49,
   "metadata": {},
   "outputs": [
    {
     "name": "stdout",
     "output_type": "stream",
     "text": [
      "Found 10 images belonging to 2 classes.\n"
     ]
    }
   ],
   "source": [
    "train_data = ImageDataGenerator(rescale = 1.0/255).flow_from_directory(train_datapath,target_size = (150,150),batch_size = 2)"
   ]
  },
  {
   "cell_type": "code",
   "execution_count": 50,
   "metadata": {
    "collapsed": true
   },
   "outputs": [],
   "source": [
    "train,train_labels = next(train_data)"
   ]
  },
  {
   "cell_type": "code",
   "execution_count": 10,
   "metadata": {
    "collapsed": true
   },
   "outputs": [],
   "source": [
    "import numpy as np\n",
    "import matplotlib.pyplot as plt\n",
    "from sklearn.metrics import confusion_matrix\n",
    "import itertools\n",
    "import keras\n",
    "from keras.preprocessing.image import ImageDataGenerator\n",
    "\n",
    "# plots images with labels within jupyter notebook\n",
    "def plots(ims, figsize=(12,6), rows=1, interp=False, titles=None):\n",
    "    if type(ims[0]) is np.ndarray:\n",
    "        ims = np.array(ims).astype(np.uint8)\n",
    "        if (ims.shape[-1] != 3):\n",
    "            ims = ims.transpose((0,2,3,1))\n",
    "    f = plt.figure(figsize=figsize)\n",
    "    cols = len(ims)//rows if len(ims) % 2 == 0 else len(ims)//rows + 1\n",
    "    for i in range(len(ims)):\n",
    "        sp = f.add_subplot(rows, cols, i+1)\n",
    "        sp.axis('Off')\n",
    "        if titles is not None:\n",
    "            sp.set_title(titles[i], fontsize=16)\n",
    "        plt.imshow(ims[i], interpolation=None if interp else 'none')"
   ]
  },
  {
   "cell_type": "code",
   "execution_count": 52,
   "metadata": {
    "collapsed": true
   },
   "outputs": [],
   "source": [
    "plots(train,titles = train_labels)"
   ]
  },
  {
   "cell_type": "code",
   "execution_count": 53,
   "metadata": {},
   "outputs": [
    {
     "data": {
      "image/png": "[encoded data removed]",
      "text/plain": [
       "<matplotlib.figure.Figure at 0x1042b4c5080>"
      ]
     },
     "metadata": {},
     "output_type": "display_data"
    }
   ],
   "source": [
    "plt.show()"
   ]
  },
  {
   "cell_type": "code",
   "execution_count": 15,
   "metadata": {},
   "outputs": [
    {
     "data": {
      "text/plain": [
       "(2, 150, 150, 3)"
      ]
     },
     "execution_count": 15,
     "metadata": {},
     "output_type": "execute_result"
    }
   ],
   "source": [
    "train.shape"
   ]
  },
  {
   "cell_type": "code",
   "execution_count": 54,
   "metadata": {
    "scrolled": true
   },
   "outputs": [
    {
     "data": {
      "text/plain": [
       "array([[[0.75294125, 0.5764706 , 0.46274513],\n",
       "        [0.86274517, 0.7411765 , 0.38823533],\n",
       "        [0.8705883 , 0.7372549 , 0.34509805],\n",
       "        ...,\n",
       "        [0.69411767, 0.42352945, 0.3647059 ],\n",
       "        [0.6901961 , 0.5294118 , 0.4431373 ],\n",
       "        [0.6392157 , 0.54901963, 0.34509805]],\n",
       "\n",
       "       [[0.34117648, 0.18431373, 0.08627451],\n",
       "        [1.        , 0.91372555, 0.59607846],\n",
       "        [1.        , 0.9333334 , 0.59607846],\n",
       "        ...,\n",
       "        [0.6509804 , 0.3803922 , 0.32156864],\n",
       "        [0.6901961 , 0.5294118 , 0.4431373 ],\n",
       "        [0.64705884, 0.5568628 , 0.3529412 ]],\n",
       "\n",
       "       [[0.29411766, 0.14509805, 0.0627451 ],\n",
       "        [1.        , 0.93725497, 0.64705884],\n",
       "        [1.        , 0.92549026, 0.627451  ],\n",
       "        ...,\n",
       "        [0.62352943, 0.3529412 , 0.29411766],\n",
       "        [0.6901961 , 0.5294118 , 0.4431373 ],\n",
       "        [0.64705884, 0.5568628 , 0.3529412 ]],\n",
       "\n",
       "       ...,\n",
       "\n",
       "       [[0.6666667 , 0.54509807, 0.43137258],\n",
       "        [0.52156866, 0.40000004, 0.28627452],\n",
       "        [0.5568628 , 0.43529415, 0.32156864],\n",
       "        ...,\n",
       "        [0.6156863 , 0.48235297, 0.37254903],\n",
       "        [0.6784314 , 0.54901963, 0.427451  ],\n",
       "        [0.6627451 , 0.53333336, 0.4039216 ]],\n",
       "\n",
       "       [[0.6627451 , 0.54901963, 0.43137258],\n",
       "        [0.6627451 , 0.54901963, 0.43137258],\n",
       "        [0.6627451 , 0.54901963, 0.43137258],\n",
       "        ...,\n",
       "        [0.6745098 , 0.5411765 , 0.43137258],\n",
       "        [0.6745098 , 0.54509807, 0.42352945],\n",
       "        [0.6784314 , 0.54901963, 0.41960788]],\n",
       "\n",
       "       [[0.6666667 , 0.54901963, 0.4156863 ],\n",
       "        [0.6666667 , 0.54901963, 0.4156863 ],\n",
       "        [0.6666667 , 0.54901963, 0.4156863 ],\n",
       "        ...,\n",
       "        [0.6745098 , 0.54509807, 0.4156863 ],\n",
       "        [0.6784314 , 0.54901963, 0.41176474],\n",
       "        [0.6784314 , 0.54901963, 0.41176474]]], dtype=float32)"
      ]
     },
     "execution_count": 54,
     "metadata": {},
     "output_type": "execute_result"
    }
   ],
   "source": [
    "train[1]"
   ]
  },
  {
   "cell_type": "code",
   "execution_count": 55,
   "metadata": {
    "scrolled": false
   },
   "outputs": [
    {
     "name": "stdout",
     "output_type": "stream",
     "text": [
      "Found 6 images belonging to 2 classes.\n"
     ]
    }
   ],
   "source": [
    "test_data = ImageDataGenerator(rescale = 1.0/255).flow_from_directory(test_datapath,target_size = (150,150),batch_size = 2)"
   ]
  },
  {
   "cell_type": "code",
   "execution_count": 57,
   "metadata": {
    "collapsed": true
   },
   "outputs": [],
   "source": [
    "from keras.models import Sequential\n",
    "from keras.layers import Conv2D,Activation,MaxPooling2D,Dropout,Flatten,Dense"
   ]
  },
  {
   "cell_type": "code",
   "execution_count": 59,
   "metadata": {
    "collapsed": true,
    "scrolled": true
   },
   "outputs": [],
   "source": [
    "model = Sequential()\n",
    "model.add(Conv2D(32, (3, 3), padding='same',\n",
    "                 input_shape= train.shape[1:]))\n",
    "model.add(Activation('relu'))\n",
    "model.add(Conv2D(32, (3, 3)))\n",
    "model.add(Activation('relu'))\n",
    "# max pooling layer\n",
    "model.add(MaxPooling2D(pool_size=(2, 2)))\n",
    "model.add(Dropout(0.25)) \n",
    "# default value of stride = 1\n",
    "model.add(Conv2D(64, (3, 3), padding='same'))\n",
    "model.add(Activation('relu'))\n",
    "model.add(Conv2D(64, (3, 3)))\n",
    "model.add(Activation('relu'))\n",
    "model.add(MaxPooling2D(pool_size=(2, 2)))\n",
    "model.add(Dropout(0.25))\n",
    "model.add(Flatten())\n",
    "model.add(Dense(512))\n",
    "model.add(Activation('relu'))\n",
    "model.add(Dropout(0.5))\n",
    "model.add(Dense(2))\n",
    "model.add(Activation('softmax'))# the o/p of 10 neurons will be summed together\n",
    "opt = keras.optimizers.rmsprop(lr=0.0001, decay=1e-6)\n",
    "model.compile(loss='categorical_crossentropy',\n",
    "              optimizer=opt,\n",
    "              metrics=['accuracy'])"
   ]
  },
  {
   "cell_type": "code",
   "execution_count": 60,
   "metadata": {
    "collapsed": true
   },
   "outputs": [],
   "source": [
    "?model.fit_generator"
   ]
  },
  {
   "cell_type": "code",
   "execution_count": 61,
   "metadata": {},
   "outputs": [
    {
     "name": "stdout",
     "output_type": "stream",
     "text": [
      "Epoch 1/11\n",
      "5/5 [==============================] - 8s 2s/step - loss: 1.4014 - acc: 0.3000\n",
      "Epoch 2/11\n",
      "5/5 [==============================] - 5s 1s/step - loss: 1.3771 - acc: 0.3000\n",
      "Epoch 3/11\n",
      "5/5 [==============================] - 6s 1s/step - loss: 0.8041 - acc: 0.5000\n",
      "Epoch 4/11\n",
      "5/5 [==============================] - 5s 1s/step - loss: 0.8105 - acc: 0.5000\n",
      "Epoch 5/11\n",
      "5/5 [==============================] - 6s 1s/step - loss: 0.6979 - acc: 0.6000\n",
      "Epoch 6/11\n",
      "5/5 [==============================] - 5s 1s/step - loss: 0.5496 - acc: 0.7000\n",
      "Epoch 7/11\n",
      "5/5 [==============================] - 5s 1s/step - loss: 0.3050 - acc: 1.0000\n",
      "Epoch 8/11\n",
      "5/5 [==============================] - 5s 1s/step - loss: 0.3677 - acc: 0.9000\n",
      "Epoch 9/11\n",
      "5/5 [==============================] - 5s 1s/step - loss: 0.2161 - acc: 0.9000\n",
      "Epoch 10/11\n",
      "5/5 [==============================] - 5s 1s/step - loss: 0.1492 - acc: 1.0000\n",
      "Epoch 11/11\n",
      "5/5 [==============================] - 5s 1s/step - loss: 0.1046 - acc: 1.0000\n"
     ]
    },
    {
     "data": {
      "text/plain": [
       "<keras.callbacks.History at 0x1042f382ba8>"
      ]
     },
     "execution_count": 61,
     "metadata": {},
     "output_type": "execute_result"
    }
   ],
   "source": [
    "model.fit_generator(train_data,steps_per_epoch = 5,epochs = 11)#steps_per_epoch = no.of batches = totnoofrecs/batchsize"
   ]
  },
  {
   "cell_type": "code",
   "execution_count": 63,
   "metadata": {
    "collapsed": true
   },
   "outputs": [],
   "source": [
    "?model.predict_generator"
   ]
  },
  {
   "cell_type": "code",
   "execution_count": 64,
   "metadata": {
    "collapsed": true
   },
   "outputs": [],
   "source": [
    "preds = model.predict_generator(test_data,steps = 3)#steps = no.of test batches = "
   ]
  },
  {
   "cell_type": "code",
   "execution_count": 65,
   "metadata": {},
   "outputs": [
    {
     "data": {
      "text/plain": [
       "array([[0.79939514, 0.20060481],\n",
       "       [0.23481184, 0.76518816],\n",
       "       [0.63282216, 0.36717787],\n",
       "       [0.12139028, 0.8786097 ],\n",
       "       [0.2527898 , 0.74721014],\n",
       "       [0.49211046, 0.50788957]], dtype=float32)"
      ]
     },
     "execution_count": 65,
     "metadata": {},
     "output_type": "execute_result"
    }
   ],
   "source": [
    "preds"
   ]
  },
  {
   "cell_type": "code",
   "execution_count": 66,
   "metadata": {
    "collapsed": true
   },
   "outputs": [],
   "source": [
    "test,test_labels = next(test_data)"
   ]
  },
  {
   "cell_type": "code",
   "execution_count": 67,
   "metadata": {},
   "outputs": [
    {
     "data": {
      "text/plain": [
       "array([[0., 1.],\n",
       "       [1., 0.]], dtype=float32)"
      ]
     },
     "execution_count": 67,
     "metadata": {},
     "output_type": "execute_result"
    }
   ],
   "source": [
    "test_labels"
   ]
  },
  {
   "cell_type": "code",
   "execution_count": 68,
   "metadata": {
    "collapsed": true
   },
   "outputs": [],
   "source": [
    "test,test_labels = next(test_data)"
   ]
  },
  {
   "cell_type": "code",
   "execution_count": 69,
   "metadata": {},
   "outputs": [
    {
     "data": {
      "text/plain": [
       "array([[1., 0.],\n",
       "       [0., 1.]], dtype=float32)"
      ]
     },
     "execution_count": 69,
     "metadata": {},
     "output_type": "execute_result"
    }
   ],
   "source": [
    "test_labels"
   ]
  },
  {
   "cell_type": "code",
   "execution_count": 70,
   "metadata": {
    "collapsed": true
   },
   "outputs": [],
   "source": [
    "test,test_labels = next(test_data)"
   ]
  },
  {
   "cell_type": "code",
   "execution_count": 71,
   "metadata": {},
   "outputs": [
    {
     "data": {
      "text/plain": [
       "array([[0., 1.],\n",
       "       [1., 0.]], dtype=float32)"
      ]
     },
     "execution_count": 71,
     "metadata": {},
     "output_type": "execute_result"
    }
   ],
   "source": [
    "test_labels"
   ]
  },
  {
   "cell_type": "code",
   "execution_count": null,
   "metadata": {
    "collapsed": true
   },
   "outputs": [],
   "source": []
  }
 ],
 "metadata": {
  "kernelspec": {
   "display_name": "Python 3",
   "language": "python",
   "name": "python3"
  },
  "language_info": {
   "codemirror_mode": {
    "name": "ipython",
    "version": 3
   },
   "file_extension": ".py",
   "mimetype": "text/x-python",
   "name": "python",
   "nbconvert_exporter": "python",
   "pygments_lexer": "ipython3",
   "version": "3.6.3"
  }
 },
 "nbformat": 4,
 "nbformat_minor": 2
}
