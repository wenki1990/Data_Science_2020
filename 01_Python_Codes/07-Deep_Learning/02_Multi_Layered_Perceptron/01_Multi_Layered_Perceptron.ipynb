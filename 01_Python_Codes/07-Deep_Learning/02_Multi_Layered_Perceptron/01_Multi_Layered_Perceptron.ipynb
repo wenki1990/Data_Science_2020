{
 "cells": [
  {
   "cell_type": "code",
   "execution_count": 1,
   "metadata": {
    "collapsed": true
   },
   "outputs": [],
   "source": [
    "import os"
   ]
  },
  {
   "cell_type": "code",
   "execution_count": 2,
   "metadata": {
    "collapsed": true
   },
   "outputs": [],
   "source": [
    "os.chdir('F:\\\\Library\\\\Analytics Path\\\\01-Python\\\\02-Datasets\\\\ANN')"
   ]
  },
  {
   "cell_type": "code",
   "execution_count": 3,
   "metadata": {
    "collapsed": true
   },
   "outputs": [],
   "source": [
    "import pandas as pd"
   ]
  },
  {
   "cell_type": "code",
   "execution_count": 4,
   "metadata": {
    "collapsed": true
   },
   "outputs": [],
   "source": [
    "sonar = pd.read_csv('sonar.csv',header = None)"
   ]
  },
  {
   "cell_type": "code",
   "execution_count": 5,
   "metadata": {
    "collapsed": true
   },
   "outputs": [],
   "source": [
    "X = sonar.iloc[:,:60]"
   ]
  },
  {
   "cell_type": "code",
   "execution_count": 6,
   "metadata": {
    "collapsed": true
   },
   "outputs": [],
   "source": [
    "y = sonar[60]"
   ]
  },
  {
   "cell_type": "code",
   "execution_count": 17,
   "metadata": {
    "collapsed": true
   },
   "outputs": [],
   "source": [
    "from sklearn.preprocessing import LabelEncoder"
   ]
  },
  {
   "cell_type": "code",
   "execution_count": 18,
   "metadata": {
    "collapsed": true
   },
   "outputs": [],
   "source": [
    "encoder = LabelEncoder()\n",
    "y = encoder.fit_transform(y)"
   ]
  },
  {
   "cell_type": "code",
   "execution_count": 58,
   "metadata": {},
   "outputs": [
    {
     "data": {
      "text/plain": [
       "array([1, 1, 1, 1, 1, 1, 1, 1, 1, 1, 1, 1, 1, 1, 1, 1, 1, 1, 1, 1, 1, 1, 1,\n",
       "       1, 1, 1, 1, 1, 1, 1, 1, 1, 1, 1, 1, 1, 1, 1, 1, 1, 1, 1, 1, 1, 1, 1,\n",
       "       1, 1, 1, 1, 1, 1, 1, 1, 1, 1, 1, 1, 1, 1, 1, 1, 1, 1, 1, 1, 1, 1, 1,\n",
       "       1, 1, 1, 1, 1, 1, 1, 1, 1, 1, 1, 1, 1, 1, 1, 1, 1, 1, 1, 1, 1, 1, 1,\n",
       "       1, 1, 1, 1, 1, 0, 0, 0, 0, 0, 0, 0, 0, 0, 0, 0, 0, 0, 0, 0, 0, 0, 0,\n",
       "       0, 0, 0, 0, 0, 0, 0, 0, 0, 0, 0, 0, 0, 0, 0, 0, 0, 0, 0, 0, 0, 0, 0,\n",
       "       0, 0, 0, 0, 0, 0, 0, 0, 0, 0, 0, 0, 0, 0, 0, 0, 0, 0, 0, 0, 0, 0, 0,\n",
       "       0, 0, 0, 0, 0, 0, 0, 0, 0, 0, 0, 0, 0, 0, 0, 0, 0, 0, 0, 0, 0, 0, 0,\n",
       "       0, 0, 0, 0, 0, 0, 0, 0, 0, 0, 0, 0, 0, 0, 0, 0, 0, 0, 0, 0, 0, 0, 0,\n",
       "       0], dtype=int64)"
      ]
     },
     "execution_count": 58,
     "metadata": {},
     "output_type": "execute_result"
    }
   ],
   "source": [
    "y"
   ]
  },
  {
   "cell_type": "code",
   "execution_count": 7,
   "metadata": {
    "collapsed": true
   },
   "outputs": [],
   "source": [
    "from sklearn.preprocessing import MinMaxScaler"
   ]
  },
  {
   "cell_type": "code",
   "execution_count": 8,
   "metadata": {
    "collapsed": true
   },
   "outputs": [],
   "source": [
    "scaler = MinMaxScaler()"
   ]
  },
  {
   "cell_type": "code",
   "execution_count": 9,
   "metadata": {
    "collapsed": true
   },
   "outputs": [],
   "source": [
    "X = scaler.fit_transform(X)"
   ]
  },
  {
   "cell_type": "code",
   "execution_count": 10,
   "metadata": {
    "collapsed": true
   },
   "outputs": [],
   "source": [
    "from sklearn.model_selection import train_test_split"
   ]
  },
  {
   "cell_type": "code",
   "execution_count": 19,
   "metadata": {
    "collapsed": true
   },
   "outputs": [],
   "source": [
    "X_train,X_test,y_train,y_test = train_test_split(X,y,random_state = 7)"
   ]
  },
  {
   "cell_type": "code",
   "execution_count": 12,
   "metadata": {},
   "outputs": [
    {
     "name": "stderr",
     "output_type": "stream",
     "text": [
      "Using TensorFlow backend.\n"
     ]
    }
   ],
   "source": [
    "import keras"
   ]
  },
  {
   "cell_type": "code",
   "execution_count": 13,
   "metadata": {
    "collapsed": true
   },
   "outputs": [],
   "source": [
    "from keras.models import Sequential"
   ]
  },
  {
   "cell_type": "code",
   "execution_count": 14,
   "metadata": {
    "collapsed": true
   },
   "outputs": [],
   "source": [
    "from keras.layers import Dense,Dropout"
   ]
  },
  {
   "cell_type": "code",
   "execution_count": 42,
   "metadata": {
    "collapsed": true
   },
   "outputs": [],
   "source": [
    "del model"
   ]
  },
  {
   "cell_type": "code",
   "execution_count": 43,
   "metadata": {
    "collapsed": true
   },
   "outputs": [],
   "source": [
    "model = Sequential()"
   ]
  },
  {
   "cell_type": "code",
   "execution_count": 44,
   "metadata": {
    "collapsed": true
   },
   "outputs": [],
   "source": [
    "model.add(Dense(input_dim = 60,kernel_initializer = 'uniform',units = 32,activation = 'relu'))"
   ]
  },
  {
   "cell_type": "code",
   "execution_count": 45,
   "metadata": {
    "collapsed": true
   },
   "outputs": [],
   "source": [
    "model.add(Dropout(0.25))"
   ]
  },
  {
   "cell_type": "code",
   "execution_count": 46,
   "metadata": {
    "collapsed": true
   },
   "outputs": [],
   "source": [
    "model.add(Dense(kernel_initializer = 'uniform',units = 32,activation = 'relu'))"
   ]
  },
  {
   "cell_type": "code",
   "execution_count": 47,
   "metadata": {
    "collapsed": true
   },
   "outputs": [],
   "source": [
    "model.add(Dropout(0.25))"
   ]
  },
  {
   "cell_type": "code",
   "execution_count": 48,
   "metadata": {
    "collapsed": true
   },
   "outputs": [],
   "source": [
    "model.add(Dense(kernel_initializer = 'uniform',units = 1,activation = 'sigmoid'))"
   ]
  },
  {
   "cell_type": "code",
   "execution_count": 49,
   "metadata": {
    "collapsed": true
   },
   "outputs": [],
   "source": [
    "model.compile(optimizer = 'adam',loss = 'binary_crossentropy',metrics = ['accuracy'])"
   ]
  },
  {
   "cell_type": "code",
   "execution_count": 59,
   "metadata": {
    "scrolled": true
   },
   "outputs": [
    {
     "name": "stdout",
     "output_type": "stream",
     "text": [
      "Epoch 1/40\n",
      "156/156 [==============================] - 0s 100us/step - loss: 0.6664 - acc: 0.6218\n",
      "Epoch 2/40\n",
      "156/156 [==============================] - 0s 100us/step - loss: 0.6602 - acc: 0.6410\n",
      "Epoch 3/40\n",
      "156/156 [==============================] - 0s 0us/step - loss: 0.6542 - acc: 0.6667\n",
      "Epoch 4/40\n",
      "156/156 [==============================] - 0s 0us/step - loss: 0.6436 - acc: 0.6987\n",
      "Epoch 5/40\n",
      "156/156 [==============================] - 0s 100us/step - loss: 0.6309 - acc: 0.6795\n",
      "Epoch 6/40\n",
      "156/156 [==============================] - 0s 100us/step - loss: 0.6274 - acc: 0.6474\n",
      "Epoch 7/40\n",
      "156/156 [==============================] - 0s 127us/step - loss: 0.6024 - acc: 0.7115\n",
      "Epoch 8/40\n",
      "156/156 [==============================] - 0s 154us/step - loss: 0.5954 - acc: 0.6987\n",
      "Epoch 9/40\n",
      "156/156 [==============================] - 0s 77us/step - loss: 0.5846 - acc: 0.6987\n",
      "Epoch 10/40\n",
      "156/156 [==============================] - 0s 128us/step - loss: 0.5647 - acc: 0.7564\n",
      "Epoch 11/40\n",
      "156/156 [==============================] - 0s 103us/step - loss: 0.5571 - acc: 0.7564\n",
      "Epoch 12/40\n",
      "156/156 [==============================] - 0s 77us/step - loss: 0.5301 - acc: 0.7756\n",
      "Epoch 13/40\n",
      "156/156 [==============================] - 0s 154us/step - loss: 0.5390 - acc: 0.7500\n",
      "Epoch 14/40\n",
      "156/156 [==============================] - 0s 77us/step - loss: 0.5059 - acc: 0.7885\n",
      "Epoch 15/40\n",
      "156/156 [==============================] - 0s 77us/step - loss: 0.5123 - acc: 0.7692\n",
      "Epoch 16/40\n",
      "156/156 [==============================] - 0s 77us/step - loss: 0.4960 - acc: 0.8013\n",
      "Epoch 17/40\n",
      "156/156 [==============================] - 0s 77us/step - loss: 0.4825 - acc: 0.8077\n",
      "Epoch 18/40\n",
      "156/156 [==============================] - 0s 51us/step - loss: 0.4950 - acc: 0.7564\n",
      "Epoch 19/40\n",
      "156/156 [==============================] - 0s 51us/step - loss: 0.4750 - acc: 0.7692\n",
      "Epoch 20/40\n",
      "156/156 [==============================] - 0s 51us/step - loss: 0.4621 - acc: 0.7885\n",
      "Epoch 21/40\n",
      "156/156 [==============================] - 0s 51us/step - loss: 0.4630 - acc: 0.7949\n",
      "Epoch 22/40\n",
      "156/156 [==============================] - 0s 77us/step - loss: 0.4699 - acc: 0.7628\n",
      "Epoch 23/40\n",
      "156/156 [==============================] - 0s 77us/step - loss: 0.4534 - acc: 0.7628\n",
      "Epoch 24/40\n",
      "156/156 [==============================] - 0s 77us/step - loss: 0.4395 - acc: 0.8013\n",
      "Epoch 25/40\n",
      "156/156 [==============================] - 0s 103us/step - loss: 0.4151 - acc: 0.8333\n",
      "Epoch 26/40\n",
      "156/156 [==============================] - 0s 154us/step - loss: 0.4584 - acc: 0.7885\n",
      "Epoch 27/40\n",
      "156/156 [==============================] - 0s 128us/step - loss: 0.4302 - acc: 0.7821\n",
      "Epoch 28/40\n",
      "156/156 [==============================] - 0s 128us/step - loss: 0.4213 - acc: 0.8269\n",
      "Epoch 29/40\n",
      "156/156 [==============================] - 0s 154us/step - loss: 0.4036 - acc: 0.8141\n",
      "Epoch 30/40\n",
      "156/156 [==============================] - 0s 128us/step - loss: 0.4351 - acc: 0.8013\n",
      "Epoch 31/40\n",
      "156/156 [==============================] - 0s 103us/step - loss: 0.4135 - acc: 0.8013\n",
      "Epoch 32/40\n",
      "156/156 [==============================] - 0s 125us/step - loss: 0.3922 - acc: 0.8333\n",
      "Epoch 33/40\n",
      "156/156 [==============================] - 0s 72us/step - loss: 0.3998 - acc: 0.8462\n",
      "Epoch 34/40\n",
      "156/156 [==============================] - 0s 51us/step - loss: 0.3901 - acc: 0.8205\n",
      "Epoch 35/40\n",
      "156/156 [==============================] - 0s 77us/step - loss: 0.3955 - acc: 0.7885\n",
      "Epoch 36/40\n",
      "156/156 [==============================] - 0s 77us/step - loss: 0.3988 - acc: 0.8397\n",
      "Epoch 37/40\n",
      "156/156 [==============================] - 0s 77us/step - loss: 0.3992 - acc: 0.8205\n",
      "Epoch 38/40\n",
      "156/156 [==============================] - 0s 128us/step - loss: 0.3879 - acc: 0.8397\n",
      "Epoch 39/40\n",
      "156/156 [==============================] - 0s 128us/step - loss: 0.3756 - acc: 0.8397\n",
      "Epoch 40/40\n",
      "156/156 [==============================] - 0s 103us/step - loss: 0.3697 - acc: 0.8205\n"
     ]
    },
    {
     "data": {
      "text/plain": [
       "<keras.callbacks.History at 0x121242cf630>"
      ]
     },
     "execution_count": 59,
     "metadata": {},
     "output_type": "execute_result"
    }
   ],
   "source": [
    "model.fit(X_train,y_train,batch_size = 32,epochs = 40)"
   ]
  },
  {
   "cell_type": "code",
   "execution_count": 60,
   "metadata": {
    "collapsed": true
   },
   "outputs": [],
   "source": [
    "preds = model.predict(X_test)>0.5"
   ]
  },
  {
   "cell_type": "code",
   "execution_count": 61,
   "metadata": {
    "collapsed": true
   },
   "outputs": [],
   "source": [
    "from sklearn.metrics import confusion_matrix"
   ]
  },
  {
   "cell_type": "code",
   "execution_count": 62,
   "metadata": {
    "scrolled": true
   },
   "outputs": [
    {
     "data": {
      "text/plain": [
       "array([[23,  7],\n",
       "       [ 4, 18]], dtype=int64)"
      ]
     },
     "execution_count": 62,
     "metadata": {},
     "output_type": "execute_result"
    }
   ],
   "source": [
    "confusion_matrix(y_test,preds)"
   ]
  },
  {
   "cell_type": "code",
   "execution_count": 63,
   "metadata": {
    "collapsed": true
   },
   "outputs": [],
   "source": [
    "#GridSearchCV"
   ]
  },
  {
   "cell_type": "code",
   "execution_count": 64,
   "metadata": {
    "collapsed": true
   },
   "outputs": [],
   "source": [
    "from sklearn.model_selection import GridSearchCV"
   ]
  },
  {
   "cell_type": "code",
   "execution_count": 65,
   "metadata": {
    "collapsed": true
   },
   "outputs": [],
   "source": [
    "from keras.wrappers.scikit_learn import KerasClassifier"
   ]
  },
  {
   "cell_type": "code",
   "execution_count": 66,
   "metadata": {
    "collapsed": true
   },
   "outputs": [],
   "source": [
    "def build_classifier(optimizer1):\n",
    "    model = Sequential()\n",
    "    model.add(Dense(input_dim = 60,kernel_initializer = 'uniform',units = 32,activation = 'relu'))\n",
    "    model.add(Dropout(0.25))\n",
    "    model.add(Dense(kernel_initializer = 'uniform',units = 32,activation = 'relu'))\n",
    "    model.add(Dropout(0.25))\n",
    "    model.add(Dense(kernel_initializer = 'uniform',units = 1,activation = 'sigmoid'))\n",
    "    model.compile(optimizer = optimizer1,loss = 'binary_crossentropy',metrics = ['accuracy'])\n",
    "    return model"
   ]
  },
  {
   "cell_type": "code",
   "execution_count": 67,
   "metadata": {
    "collapsed": true
   },
   "outputs": [],
   "source": [
    "parameters = {'optimizer':['adam','rmspro'],'batch_size':[32,64],'epochs':[20,40]}"
   ]
  },
  {
   "cell_type": "code",
   "execution_count": 68,
   "metadata": {
    "collapsed": true
   },
   "outputs": [],
   "source": [
    "classifier = KerasClassifier(build_fn = build_classifier)"
   ]
  },
  {
   "cell_type": "code",
   "execution_count": 69,
   "metadata": {
    "collapsed": true
   },
   "outputs": [],
   "source": [
    "?GridSearchCV"
   ]
  },
  {
   "cell_type": "code",
   "execution_count": 71,
   "metadata": {},
   "outputs": [],
   "source": [
    "gridcv = GridSearchCV(estimator = classifier,param_grid = parameters,scoring = 'accuracy',n_jobs = -1,cv = 10)"
   ]
  },
  {
   "cell_type": "code",
   "execution_count": null,
   "metadata": {
    "collapsed": true
   },
   "outputs": [],
   "source": [
    "gridcv.fit(X_train,y_train)"
   ]
  },
  {
   "cell_type": "code",
   "execution_count": null,
   "metadata": {
    "collapsed": true
   },
   "outputs": [],
   "source": [
    "gridcv.best_score_"
   ]
  },
  {
   "cell_type": "code",
   "execution_count": null,
   "metadata": {
    "collapsed": true
   },
   "outputs": [],
   "source": [
    "gridcv.best_params_"
   ]
  }
 ],
 "metadata": {
  "kernelspec": {
   "display_name": "Python 3",
   "language": "python",
   "name": "python3"
  },
  "language_info": {
   "codemirror_mode": {
    "name": "ipython",
    "version": 3
   },
   "file_extension": ".py",
   "mimetype": "text/x-python",
   "name": "python",
   "nbconvert_exporter": "python",
   "pygments_lexer": "ipython3",
   "version": "3.6.3"
  }
 },
 "nbformat": 4,
 "nbformat_minor": 2
}
