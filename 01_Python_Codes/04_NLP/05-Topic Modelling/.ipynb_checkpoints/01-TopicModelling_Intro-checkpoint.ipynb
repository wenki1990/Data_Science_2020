{
 "cells": [
  {
   "cell_type": "markdown",
   "metadata": {},
   "source": [
    "# Topic Modelling in python - data source is a textfile"
   ]
  },
  {
   "cell_type": "code",
   "execution_count": 2,
   "metadata": {
    "collapsed": true,
    "scrolled": true
   },
   "outputs": [],
   "source": [
    " #coding: utf-8 \n",
    "#encoding=utf-8\n",
    "import pandas as pd\n",
    "from textblob import TextBlob\n",
    "from sklearn.feature_extraction.text import TfidfVectorizer\n",
    "import nltk \n",
    "import unicodedata\n",
    "import re\n",
    "from nltk.stem import PorterStemmer\n",
    "from nltk.stem import WordNetLemmatizer\n",
    "from sklearn.decomposition import NMF, LatentDirichletAllocation\n",
    "%matplotlib inline\n",
    "import pyLDAvis\n",
    "import pyLDAvis.sklearn"
   ]
  },
  {
   "cell_type": "markdown",
   "metadata": {},
   "source": [
    "### Set working directory ( only if not using a vitual environment)"
   ]
  },
  {
   "cell_type": "code",
   "execution_count": 1,
   "metadata": {
    "collapsed": true
   },
   "outputs": [],
   "source": [
    "\n",
    "import os\n",
    "os.chdir('F:/Library/Analytics Path/Python/Datasets/Topic Modelling')"
   ]
  },
  {
   "cell_type": "code",
   "execution_count": 9,
   "metadata": {},
   "outputs": [
    {
     "data": {
      "text/plain": [
       "list"
      ]
     },
     "execution_count": 9,
     "metadata": {},
     "output_type": "execute_result"
    }
   ],
   "source": [
    "df = pd.DataFrame()\n",
    "f = open(\"rt-polarity-pos.txt\", \"r+\", encoding=\"latin1\")\n",
    "txt = f.readlines()#reads each line as elements in list \n",
    "#f.read() will read whole doc as 1 string\n",
    "type(txt)"
   ]
  },
  {
   "cell_type": "code",
   "execution_count": 10,
   "metadata": {
    "collapsed": true
   },
   "outputs": [],
   "source": [
    "imd = pd.DataFrame(txt, columns=[\"comments\"])\n",
    "imd[\"row\"] = imd.index"
   ]
  },
  {
   "cell_type": "code",
   "execution_count": 11,
   "metadata": {},
   "outputs": [
    {
     "data": {
      "text/html": [
       "<div>\n",
       "<style>\n",
       "    .dataframe thead tr:only-child th {\n",
       "        text-align: right;\n",
       "    }\n",
       "\n",
       "    .dataframe thead th {\n",
       "        text-align: left;\n",
       "    }\n",
       "\n",
       "    .dataframe tbody tr th {\n",
       "        vertical-align: top;\n",
       "    }\n",
       "</style>\n",
       "<table border=\"1\" class=\"dataframe\">\n",
       "  <thead>\n",
       "    <tr style=\"text-align: right;\">\n",
       "      <th></th>\n",
       "      <th>comments</th>\n",
       "      <th>row</th>\n",
       "    </tr>\n",
       "  </thead>\n",
       "  <tbody>\n",
       "    <tr>\n",
       "      <th>0</th>\n",
       "      <td>the rock is destined to be the 21st century's ...</td>\n",
       "      <td>0</td>\n",
       "    </tr>\n",
       "    <tr>\n",
       "      <th>1</th>\n",
       "      <td>the gorgeously elaborate continuation of \" the...</td>\n",
       "      <td>1</td>\n",
       "    </tr>\n",
       "    <tr>\n",
       "      <th>2</th>\n",
       "      <td>effective but too-tepid biopic\\n</td>\n",
       "      <td>2</td>\n",
       "    </tr>\n",
       "    <tr>\n",
       "      <th>3</th>\n",
       "      <td>if you sometimes like to go to the movies to h...</td>\n",
       "      <td>3</td>\n",
       "    </tr>\n",
       "    <tr>\n",
       "      <th>4</th>\n",
       "      <td>emerges as something rare , an issue movie tha...</td>\n",
       "      <td>4</td>\n",
       "    </tr>\n",
       "  </tbody>\n",
       "</table>\n",
       "</div>"
      ],
      "text/plain": [
       "                                            comments  row\n",
       "0  the rock is destined to be the 21st century's ...    0\n",
       "1  the gorgeously elaborate continuation of \" the...    1\n",
       "2                   effective but too-tepid biopic\\n    2\n",
       "3  if you sometimes like to go to the movies to h...    3\n",
       "4  emerges as something rare , an issue movie tha...    4"
      ]
     },
     "execution_count": 11,
     "metadata": {},
     "output_type": "execute_result"
    }
   ],
   "source": [
    "imd.head()"
   ]
  },
  {
   "cell_type": "code",
   "execution_count": 12,
   "metadata": {
    "collapsed": true
   },
   "outputs": [],
   "source": [
    "stop_words = nltk.corpus.stopwords.words('english')\n",
    "extended_stopwords = ['\\'ll','\\'d','\\'m','\\'re','\\'s','\\'ve','ca n\\'t','r','n\\'t','ca','see','get','movies','movie','go','say','come','many','another','could','would','made','really','want','even','odd','films','plot','ever','actually','also','movie','film']\n",
    "stops = stop_words + extended_stopwords"
   ]
  },
  {
   "cell_type": "markdown",
   "metadata": {},
   "source": [
    "#### Check with stemming and lemmatization to clean the data"
   ]
  },
  {
   "cell_type": "code",
   "execution_count": 1,
   "metadata": {
    "scrolled": true
   },
   "outputs": [
    {
     "ename": "NameError",
     "evalue": "name 'nltk' is not defined",
     "output_type": "error",
     "traceback": [
      "\u001b[1;31m---------------------------------------------------------------------------\u001b[0m",
      "\u001b[1;31mNameError\u001b[0m                                 Traceback (most recent call last)",
      "\u001b[1;32m<ipython-input-1-226617232998>\u001b[0m in \u001b[0;36m<module>\u001b[1;34m()\u001b[0m\n\u001b[0;32m      2\u001b[0m \u001b[1;33m\u001b[0m\u001b[0m\n\u001b[0;32m      3\u001b[0m \u001b[1;32mfrom\u001b[0m \u001b[0mnltk\u001b[0m\u001b[1;33m.\u001b[0m\u001b[0mtokenize\u001b[0m \u001b[1;32mimport\u001b[0m \u001b[0mword_tokenize\u001b[0m\u001b[1;33m\u001b[0m\u001b[0m\n\u001b[1;32m----> 4\u001b[1;33m \u001b[0mtokens\u001b[0m \u001b[1;33m=\u001b[0m \u001b[1;33m[\u001b[0m\u001b[0mword\u001b[0m\u001b[1;33m.\u001b[0m\u001b[0mlower\u001b[0m\u001b[1;33m(\u001b[0m\u001b[1;33m)\u001b[0m \u001b[1;32mfor\u001b[0m \u001b[0msent\u001b[0m \u001b[1;32min\u001b[0m \u001b[0mnltk\u001b[0m\u001b[1;33m.\u001b[0m\u001b[0msent_tokenize\u001b[0m\u001b[1;33m(\u001b[0m\u001b[0mtext\u001b[0m\u001b[1;33m)\u001b[0m \u001b[1;32mfor\u001b[0m \u001b[0mword\u001b[0m \u001b[1;32min\u001b[0m \u001b[0mnltk\u001b[0m\u001b[1;33m.\u001b[0m\u001b[0mword_tokenize\u001b[0m\u001b[1;33m(\u001b[0m\u001b[0msent\u001b[0m\u001b[1;33m)\u001b[0m\u001b[1;33m]\u001b[0m\u001b[1;33m\u001b[0m\u001b[0m\n\u001b[0m\u001b[0;32m      5\u001b[0m \u001b[0mstm\u001b[0m \u001b[1;33m=\u001b[0m \u001b[0mPorterStemmer\u001b[0m\u001b[1;33m(\u001b[0m\u001b[1;33m)\u001b[0m\u001b[1;33m\u001b[0m\u001b[0m\n\u001b[0;32m      6\u001b[0m \u001b[0mlemm\u001b[0m \u001b[1;33m=\u001b[0m \u001b[0mWordNetLemmatizer\u001b[0m\u001b[1;33m(\u001b[0m\u001b[1;33m)\u001b[0m\u001b[1;33m\u001b[0m\u001b[0m\n",
      "\u001b[1;31mNameError\u001b[0m: name 'nltk' is not defined"
     ]
    }
   ],
   "source": [
    "text = \" this is a test for stemmer and stemming \"\n",
    "\n",
    "from nltk.tokenize import word_tokenize\n",
    "tokens = [word.lower() for sent in nltk.sent_tokenize(text) for word in nltk.word_tokenize(sent)]\n",
    "stm = PorterStemmer()\n",
    "lemm = WordNetLemmatizer()\n",
    "\n",
    "#tokens = [stm.stem(w) for w in tokens]\n",
    "tokens = [lemm.lemmatize(w) for w in tokens]\n",
    "#tokens = lemm.lemmatize(tokens)\n",
    "print(tokens)"
   ]
  },
  {
   "cell_type": "markdown",
   "metadata": {},
   "source": [
    "#### Define function to tokenize and lemmatize the data"
   ]
  },
  {
   "cell_type": "code",
   "execution_count": 16,
   "metadata": {
    "collapsed": true
   },
   "outputs": [],
   "source": [
    "def tokenize(text):\n",
    "    # first tokenize by sentence, then by word to ensure that punctuation is caught as it's own token\n",
    "    tokens = [word.lower() for sent in nltk.sent_tokenize(text) for word in nltk.word_tokenize(sent)]\n",
    "    stm = PorterStemmer()\n",
    "    lemm = WordNetLemmatizer()\n",
    "    #tokens = [stm.stem(w) for w in tokens]\n",
    "    tokens = [lemm.lemmatize(w) for w in tokens]\n",
    "    filtered_tokens = []\n",
    "    # filter out any tokens not containing letters (e.g., numeric tokens, raw punctuation)\n",
    "    for token in tokens:\n",
    "        if re.search('[a-zA-Z]', token):\n",
    "            filtered_tokens.append(token)\n",
    "    #import pdb;pdb.set_trace()\n",
    "    return filtered_tokens"
   ]
  },
  {
   "cell_type": "markdown",
   "metadata": {},
   "source": [
    "##### Texblob sentiment analysis"
   ]
  },
  {
   "cell_type": "code",
   "execution_count": 17,
   "metadata": {
    "scrolled": true
   },
   "outputs": [
    {
     "data": {
      "text/plain": [
       "0.7749999999999999"
      ]
     },
     "execution_count": 17,
     "metadata": {},
     "output_type": "execute_result"
    }
   ],
   "source": [
    "comm = \" This is a beautiful phone, good performance\" \n",
    "\n",
    "comm_blob = TextBlob(comm)\n",
    "\n",
    "comm_blob.sentiment.polarity\n"
   ]
  },
  {
   "cell_type": "markdown",
   "metadata": {},
   "source": [
    "#### Setiment Analysis with textblob "
   ]
  },
  {
   "cell_type": "code",
   "execution_count": 23,
   "metadata": {
    "collapsed": true
   },
   "outputs": [],
   "source": [
    "imd['polarity'] = imd.comments.apply(lambda s: TextBlob(s).sentiment.polarity)"
   ]
  },
  {
   "cell_type": "code",
   "execution_count": 24,
   "metadata": {
    "scrolled": true
   },
   "outputs": [
    {
     "data": {
      "text/html": [
       "<div>\n",
       "<style>\n",
       "    .dataframe thead tr:only-child th {\n",
       "        text-align: right;\n",
       "    }\n",
       "\n",
       "    .dataframe thead th {\n",
       "        text-align: left;\n",
       "    }\n",
       "\n",
       "    .dataframe tbody tr th {\n",
       "        vertical-align: top;\n",
       "    }\n",
       "</style>\n",
       "<table border=\"1\" class=\"dataframe\">\n",
       "  <thead>\n",
       "    <tr style=\"text-align: right;\">\n",
       "      <th></th>\n",
       "      <th>comments</th>\n",
       "      <th>row</th>\n",
       "      <th>polarity</th>\n",
       "    </tr>\n",
       "  </thead>\n",
       "  <tbody>\n",
       "    <tr>\n",
       "      <th>5326</th>\n",
       "      <td>both exuberantly romantic and serenely melanch...</td>\n",
       "      <td>5326</td>\n",
       "      <td>0.000</td>\n",
       "    </tr>\n",
       "    <tr>\n",
       "      <th>5327</th>\n",
       "      <td>mazel tov to a film about a family's joyous li...</td>\n",
       "      <td>5327</td>\n",
       "      <td>0.000</td>\n",
       "    </tr>\n",
       "    <tr>\n",
       "      <th>5328</th>\n",
       "      <td>standing in the shadows of motown is the best ...</td>\n",
       "      <td>5328</td>\n",
       "      <td>0.465</td>\n",
       "    </tr>\n",
       "    <tr>\n",
       "      <th>5329</th>\n",
       "      <td>it's nice to see piscopo again after all these...</td>\n",
       "      <td>5329</td>\n",
       "      <td>0.800</td>\n",
       "    </tr>\n",
       "    <tr>\n",
       "      <th>5330</th>\n",
       "      <td>provides a porthole into that noble , tremblin...</td>\n",
       "      <td>5330</td>\n",
       "      <td>0.600</td>\n",
       "    </tr>\n",
       "  </tbody>\n",
       "</table>\n",
       "</div>"
      ],
      "text/plain": [
       "                                               comments   row  polarity\n",
       "5326  both exuberantly romantic and serenely melanch...  5326     0.000\n",
       "5327  mazel tov to a film about a family's joyous li...  5327     0.000\n",
       "5328  standing in the shadows of motown is the best ...  5328     0.465\n",
       "5329  it's nice to see piscopo again after all these...  5329     0.800\n",
       "5330  provides a porthole into that noble , tremblin...  5330     0.600"
      ]
     },
     "execution_count": 24,
     "metadata": {},
     "output_type": "execute_result"
    }
   ],
   "source": [
    "#imd.head()\n",
    "imd.tail()"
   ]
  },
  {
   "cell_type": "code",
   "execution_count": 32,
   "metadata": {
    "scrolled": false
   },
   "outputs": [
    {
     "data": {
      "text/plain": [
       "0    the rock is destined to be the 21st century's ...\n",
       "1    the gorgeously elaborate continuation of \" the...\n",
       "2                     effective but too-tepid biopic\\n\n",
       "3    if you sometimes like to go to the movies to h...\n",
       "4    emerges as something rare , an issue movie tha...\n",
       "Name: comments, dtype: object"
      ]
     },
     "execution_count": 32,
     "metadata": {},
     "output_type": "execute_result"
    }
   ],
   "source": [
    "imd['comments'].head()"
   ]
  },
  {
   "cell_type": "markdown",
   "metadata": {},
   "source": [
    "#### Document term matrix with TF-IDF values "
   ]
  },
  {
   "cell_type": "code",
   "execution_count": 25,
   "metadata": {},
   "outputs": [
    {
     "name": "stdout",
     "output_type": "stream",
     "text": [
      "Wall time: 2.49 s\n"
     ]
    },
    {
     "data": {
      "text/plain": [
       "(5331, 300)"
      ]
     },
     "execution_count": 25,
     "metadata": {},
     "output_type": "execute_result"
    }
   ],
   "source": [
    "term_idf_vectorizer       = TfidfVectorizer(max_df=0.99, max_features=2000,min_df=0.005, stop_words=stops, use_idf=True, tokenizer=tokenize, ngram_range=(1,1))\n",
    "%time term_idf_matrix     = term_idf_vectorizer.fit_transform(imd.comments) \n",
    "term_idf_feature_names    = term_idf_vectorizer.get_feature_names()\n",
    "term_idf_matrix.shape\n"
   ]
  },
  {
   "cell_type": "code",
   "execution_count": 27,
   "metadata": {
    "scrolled": true
   },
   "outputs": [
    {
     "data": {
      "text/plain": [
       "['acting',\n",
       " 'action',\n",
       " 'actor',\n",
       " 'adult',\n",
       " 'adventure',\n",
       " 'age',\n",
       " 'almost',\n",
       " 'although',\n",
       " 'always',\n",
       " 'american',\n",
       " 'amusing',\n",
       " 'anyone',\n",
       " 'anything',\n",
       " 'around',\n",
       " 'art',\n",
       " 'artist',\n",
       " 'audience',\n",
       " 'away',\n",
       " 'back',\n",
       " 'bad',\n",
       " 'beautiful',\n",
       " 'beautifully',\n",
       " 'beauty',\n",
       " 'become',\n",
       " 'best',\n",
       " 'better',\n",
       " 'big',\n",
       " 'bit',\n",
       " 'book',\n",
       " 'boy',\n",
       " 'brilliant',\n",
       " 'capture',\n",
       " 'care',\n",
       " 'cast',\n",
       " 'character',\n",
       " 'charm',\n",
       " 'charming',\n",
       " 'child',\n",
       " 'cinema',\n",
       " 'cinematic',\n",
       " 'classic',\n",
       " 'clever',\n",
       " 'comedy',\n",
       " 'comic',\n",
       " 'coming-of-age',\n",
       " 'compelling',\n",
       " 'complex',\n",
       " 'culture',\n",
       " 'dark',\n",
       " 'day',\n",
       " 'de',\n",
       " 'debut',\n",
       " 'deeply',\n",
       " 'delivers',\n",
       " 'despite',\n",
       " 'dialogue',\n",
       " 'different',\n",
       " 'direction',\n",
       " 'director',\n",
       " 'documentary',\n",
       " 'doe',\n",
       " 'done',\n",
       " 'drama',\n",
       " 'e',\n",
       " 'easy',\n",
       " 'effect',\n",
       " 'effort',\n",
       " 'emotion',\n",
       " 'emotional',\n",
       " 'end',\n",
       " 'energy',\n",
       " 'engaging',\n",
       " 'engrossing',\n",
       " 'enjoy',\n",
       " 'enjoyable',\n",
       " 'enough',\n",
       " 'entertaining',\n",
       " 'entertainment',\n",
       " 'epic',\n",
       " 'especially',\n",
       " 'event',\n",
       " 'every',\n",
       " 'everyone',\n",
       " 'experience',\n",
       " 'eye',\n",
       " 'face',\n",
       " 'familiar',\n",
       " 'family',\n",
       " 'fan',\n",
       " 'far',\n",
       " 'fascinating',\n",
       " 'feature',\n",
       " 'feel',\n",
       " 'feeling',\n",
       " 'filmmaker',\n",
       " 'filmmaking',\n",
       " 'find',\n",
       " 'fine',\n",
       " 'first',\n",
       " 'flick',\n",
       " 'force',\n",
       " 'form',\n",
       " 'french',\n",
       " 'fresh',\n",
       " 'full',\n",
       " 'fun',\n",
       " 'funny',\n",
       " 'game',\n",
       " 'genre',\n",
       " 'girl',\n",
       " 'give',\n",
       " 'going',\n",
       " 'good',\n",
       " 'great',\n",
       " 'ha',\n",
       " 'hard',\n",
       " 'heart',\n",
       " 'help',\n",
       " 'high',\n",
       " 'hilarious',\n",
       " 'history',\n",
       " 'hit',\n",
       " 'hollywood',\n",
       " 'home',\n",
       " 'honest',\n",
       " 'horror',\n",
       " 'hour',\n",
       " 'human',\n",
       " 'humor',\n",
       " 'idea',\n",
       " 'image',\n",
       " 'intelligent',\n",
       " 'interesting',\n",
       " 'intriguing',\n",
       " 'journey',\n",
       " 'keep',\n",
       " 'kid',\n",
       " 'kind',\n",
       " 'know',\n",
       " 'lack',\n",
       " 'last',\n",
       " 'laugh',\n",
       " 'le',\n",
       " 'lead',\n",
       " 'least',\n",
       " 'leave',\n",
       " 'level',\n",
       " 'life',\n",
       " 'like',\n",
       " 'little',\n",
       " 'long',\n",
       " 'look',\n",
       " 'lot',\n",
       " 'love',\n",
       " 'make',\n",
       " 'making',\n",
       " 'man',\n",
       " 'manages',\n",
       " 'mark',\n",
       " 'material',\n",
       " 'matter',\n",
       " 'may',\n",
       " 'memory',\n",
       " 'message',\n",
       " 'might',\n",
       " 'mind',\n",
       " 'minute',\n",
       " 'modern',\n",
       " 'moment',\n",
       " 'mood',\n",
       " 'mostly',\n",
       " 'moving',\n",
       " 'mr',\n",
       " 'much',\n",
       " 'music',\n",
       " 'narrative',\n",
       " 'nearly',\n",
       " 'need',\n",
       " 'never',\n",
       " 'new',\n",
       " 'nothing',\n",
       " 'offer',\n",
       " 'often',\n",
       " 'old',\n",
       " 'one',\n",
       " 'original',\n",
       " 'part',\n",
       " 'passion',\n",
       " 'people',\n",
       " 'perfect',\n",
       " 'performance',\n",
       " 'personal',\n",
       " 'picture',\n",
       " 'piece',\n",
       " 'place',\n",
       " 'play',\n",
       " 'pleasure',\n",
       " 'point',\n",
       " 'political',\n",
       " 'portrait',\n",
       " 'power',\n",
       " 'powerful',\n",
       " 'pretty',\n",
       " 'prof',\n",
       " 'provides',\n",
       " 'psychological',\n",
       " 'put',\n",
       " 'question',\n",
       " 'quiet',\n",
       " 'quirky',\n",
       " 'quite',\n",
       " 'rare',\n",
       " 'rather',\n",
       " 'real',\n",
       " 'recent',\n",
       " 'relationship',\n",
       " 'remarkable',\n",
       " 'rich',\n",
       " 'ride',\n",
       " 'right',\n",
       " 'role',\n",
       " 'romance',\n",
       " 'romantic',\n",
       " 'satisfying',\n",
       " 'scene',\n",
       " 'screen',\n",
       " 'script',\n",
       " 'seem',\n",
       " 'seems',\n",
       " 'seen',\n",
       " 'sense',\n",
       " 'set',\n",
       " 'shot',\n",
       " 'show',\n",
       " 'side',\n",
       " 'simple',\n",
       " 'simply',\n",
       " 'since',\n",
       " 'small',\n",
       " 'smart',\n",
       " 'solid',\n",
       " 'something',\n",
       " 'sometimes',\n",
       " 'special',\n",
       " 'spirit',\n",
       " 'star',\n",
       " 'still',\n",
       " 'story',\n",
       " 'strong',\n",
       " 'study',\n",
       " 'stuff',\n",
       " 'style',\n",
       " 'subject',\n",
       " 'summer',\n",
       " 'surprise',\n",
       " 'surprisingly',\n",
       " 'sweet',\n",
       " 'take',\n",
       " 'tale',\n",
       " 'terrific',\n",
       " 'theater',\n",
       " 'theme',\n",
       " 'thing',\n",
       " 'think',\n",
       " 'though',\n",
       " 'thoughtful',\n",
       " 'three',\n",
       " 'thriller',\n",
       " 'time',\n",
       " 'together',\n",
       " 'tone',\n",
       " 'touching',\n",
       " 'true',\n",
       " 'turn',\n",
       " 'two',\n",
       " 'u',\n",
       " 'ultimately',\n",
       " 'version',\n",
       " 'viewer',\n",
       " 'visual',\n",
       " 'wa',\n",
       " 'war',\n",
       " 'warm',\n",
       " 'watch',\n",
       " 'watching',\n",
       " 'way',\n",
       " 'well',\n",
       " 'whose',\n",
       " 'wit',\n",
       " 'without',\n",
       " 'witty',\n",
       " 'wo',\n",
       " 'woman',\n",
       " 'wonderful',\n",
       " 'work',\n",
       " 'world',\n",
       " 'worth',\n",
       " 'year',\n",
       " 'yet',\n",
       " 'young']"
      ]
     },
     "execution_count": 27,
     "metadata": {},
     "output_type": "execute_result"
    }
   ],
   "source": [
    "term_idf_feature_names"
   ]
  },
  {
   "cell_type": "code",
   "execution_count": 33,
   "metadata": {
    "collapsed": true
   },
   "outputs": [],
   "source": [
    "def print_top_words(model, feature_names, n_top_words):\n",
    "    for topic_idx, topic in enumerate(model.components_):\n",
    "        print(\"Topic #%d:\" % topic_idx)\n",
    "        print(\" , \".join([feature_names[i]\n",
    "                        for i in topic.argsort()[:-n_top_words - 1:-1]]))\n",
    "    print()"
   ]
  },
  {
   "cell_type": "markdown",
   "metadata": {},
   "source": [
    "#### Topic Modelling using LDA "
   ]
  },
  {
   "cell_type": "code",
   "execution_count": 34,
   "metadata": {
    "scrolled": true
   },
   "outputs": [
    {
     "name": "stderr",
     "output_type": "stream",
     "text": [
      "C:\\Users\\HP\\Anaconda3\\lib\\site-packages\\sklearn\\decomposition\\online_lda.py:294: DeprecationWarning: n_topics has been renamed to n_components in version 0.19 and will be removed in 0.21\n",
      "  DeprecationWarning)\n"
     ]
    },
    {
     "name": "stdout",
     "output_type": "stream",
     "text": [
      "Wall time: 8.39 s\n",
      "\n",
      "Topics using Latent Dirichlet Allocation model with Term frequencies: \n",
      "\n",
      "Topic #0:\n",
      "life documentary year world one character tale humor often moment\n",
      "Topic #1:\n",
      "funny good ha look heart fun take de little moving\n",
      "Topic #2:\n",
      "comedy never give cast time worth american romantic performance great\n",
      "Topic #3:\n",
      "one like doe entertaining work best audience something drama people\n",
      "Topic #4:\n",
      "love way director story performance without thriller picture well much\n",
      "\n"
     ]
    }
   ],
   "source": [
    "lda = LatentDirichletAllocation(n_topics=5, max_iter=10,learning_method='online',learning_offset=10.,random_state=1)\n",
    "#max_itr - to prevent infinite loop- in each iteration words are assigned to topics,learning_offset = 10,\n",
    "#random_state = 1  starts assinging each word with a same topic every new time \n",
    "%time lda.fit(term_idf_matrix)\n",
    "print(\"\\nTopics using Latent Dirichlet Allocation model with Term frequencies: \\n\")\n",
    "print_top_words(lda, term_idf_feature_names, 10)"
   ]
  },
  {
   "cell_type": "markdown",
   "metadata": {
    "collapsed": true
   },
   "source": [
    "#### Avoid noise in unigrams, TFIDF matrix on bigrams and trigrams"
   ]
  },
  {
   "cell_type": "code",
   "execution_count": 35,
   "metadata": {},
   "outputs": [
    {
     "name": "stdout",
     "output_type": "stream",
     "text": [
      "Wall time: 3.83 s\n"
     ]
    },
    {
     "data": {
      "text/plain": [
       "(5331, 730)"
      ]
     },
     "execution_count": 35,
     "metadata": {},
     "output_type": "execute_result"
    }
   ],
   "source": [
    "term_idf_vectorizer       = TfidfVectorizer(max_df=0.99, max_features=2000,min_df=0.0005, stop_words=stops, use_idf=True, tokenizer=tokenize, ngram_range=(2,3))\n",
    "%time term_idf_matrix     = term_idf_vectorizer.fit_transform(imd.comments) \n",
    "term_idf_feature_names    = term_idf_vectorizer.get_feature_names()\n",
    "term_idf_matrix.shape"
   ]
  },
  {
   "cell_type": "markdown",
   "metadata": {},
   "source": [
    "#### Topic Modelling using LDA ( with bigrams and trigams)"
   ]
  },
  {
   "cell_type": "code",
   "execution_count": 36,
   "metadata": {},
   "outputs": [
    {
     "name": "stderr",
     "output_type": "stream",
     "text": [
      "C:\\Users\\HP\\Anaconda3\\lib\\site-packages\\sklearn\\decomposition\\online_lda.py:294: DeprecationWarning: n_topics has been renamed to n_components in version 0.19 and will be removed in 0.21\n",
      "  DeprecationWarning)\n"
     ]
    },
    {
     "name": "stdout",
     "output_type": "stream",
     "text": [
      "Wall time: 4.02 s\n",
      "\n",
      "Topics using Latent Dirichlet Allocation model with Term frequencies: \n",
      "\n",
      "Topic #0:\n",
      "subject matter feel like worth seeing best year young woman worth look tell story one man birthday girl hong kong\n",
      "Topic #1:\n",
      "character study make u piece work big screen sense humor look like never let hard resist blue crush often funny\n",
      "Topic #2:\n",
      "good time special effect de niro one thing give u motion picture work well ha something still manages ensemble cast\n",
      "Topic #3:\n",
      "romantic comedy one best new york lead performance austin power one year feature debut pleasant enough edge seat mostly martha\n",
      "Topic #4:\n",
      "love story ha created ha enough recent memory psychological drama break heart like mike red dragon guilty pleasure doe give\n",
      "\n"
     ]
    }
   ],
   "source": [
    "lda = LatentDirichletAllocation(n_topics=5, max_iter=10,learning_method='online',learning_offset=10.,random_state=1)\n",
    "%time lda.fit(term_idf_matrix)\n",
    "print(\"\\nTopics using Latent Dirichlet Allocation model with Term frequencies: \\n\")\n",
    "print_top_words(lda, term_idf_feature_names, 10)"
   ]
  },
  {
   "cell_type": "code",
   "execution_count": 37,
   "metadata": {
    "collapsed": true
   },
   "outputs": [],
   "source": [
    "pyLDAvis.enable_notebook()"
   ]
  },
  {
   "cell_type": "code",
   "execution_count": 38,
   "metadata": {
    "scrolled": true
   },
   "outputs": [
    {
     "data": {
      "text/html": [
       "\n",
       "<link rel=\"stylesheet\" type=\"text/css\" href=\"https://cdn.rawgit.com/bmabey/pyLDAvis/files/ldavis.v1.0.0.css\">\n",
       "\n",
       "\n",
       "<div id=\"ldavis_el1017213772190479767957678896\"></div>\n",
       "<script type=\"text/javascript\">\n",
       "\n",
       "var ldavis_el1017213772190479767957678896_data = {\"mdsDat\": {\"Freq\": [20.64914527697527, 19.931036417900806, 19.849156673786673, 19.84637556099805, 19.72428607033921], \"cluster\": [1, 1, 1, 1, 1], \"topics\": [1, 2, 3, 4, 5], \"x\": [-0.27174523839474546, 0.10628791579716017, 0.05654522945652326, 0.051113235287938596, 0.05779885785312348], \"y\": [-0.03801150763505994, -0.2442271012088933, 0.13904317039694788, 0.0762557857340716, 0.06693965271293405]}, \"tinfo\": {\"Category\": [\"Default\", \"Default\", \"Default\", \"Default\", \"Default\", \"Default\", \"Default\", \"Default\", \"Default\", \"Default\", \"Default\", \"Default\", \"Default\", \"Default\", \"Default\", \"Default\", \"Default\", \"Default\", \"Default\", \"Default\", \"Default\", \"Default\", \"Default\", \"Default\", \"Default\", \"Default\", \"Default\", \"Default\", \"Default\", \"Default\", \"Topic1\", \"Topic1\", \"Topic1\", \"Topic1\", \"Topic1\", \"Topic1\", \"Topic1\", \"Topic1\", \"Topic1\", \"Topic1\", \"Topic1\", \"Topic1\", \"Topic1\", \"Topic1\", \"Topic1\", \"Topic1\", \"Topic1\", \"Topic1\", \"Topic1\", \"Topic1\", \"Topic1\", \"Topic1\", \"Topic1\", \"Topic1\", \"Topic1\", \"Topic1\", \"Topic1\", \"Topic1\", \"Topic1\", \"Topic1\", \"Topic2\", \"Topic2\", \"Topic2\", \"Topic2\", \"Topic2\", \"Topic2\", \"Topic2\", \"Topic2\", \"Topic2\", \"Topic2\", \"Topic2\", \"Topic2\", \"Topic2\", \"Topic2\", \"Topic2\", \"Topic2\", \"Topic2\", \"Topic2\", \"Topic2\", \"Topic2\", \"Topic2\", \"Topic2\", \"Topic2\", \"Topic2\", \"Topic2\", \"Topic2\", \"Topic2\", \"Topic2\", \"Topic2\", \"Topic2\", \"Topic3\", \"Topic3\", \"Topic3\", \"Topic3\", \"Topic3\", \"Topic3\", \"Topic3\", \"Topic3\", \"Topic3\", \"Topic3\", \"Topic3\", \"Topic3\", \"Topic3\", \"Topic3\", \"Topic3\", \"Topic3\", \"Topic3\", \"Topic3\", \"Topic3\", \"Topic3\", \"Topic3\", \"Topic3\", \"Topic3\", \"Topic3\", \"Topic3\", \"Topic3\", \"Topic3\", \"Topic3\", \"Topic3\", \"Topic3\", \"Topic4\", \"Topic4\", \"Topic4\", \"Topic4\", \"Topic4\", \"Topic4\", \"Topic4\", \"Topic4\", \"Topic4\", \"Topic4\", \"Topic4\", \"Topic4\", \"Topic4\", \"Topic4\", \"Topic4\", \"Topic4\", \"Topic4\", \"Topic4\", \"Topic4\", \"Topic4\", \"Topic4\", \"Topic4\", \"Topic4\", \"Topic4\", \"Topic4\", \"Topic4\", \"Topic4\", \"Topic4\", \"Topic4\", \"Topic4\", \"Topic4\", \"Topic5\", \"Topic5\", \"Topic5\", \"Topic5\", \"Topic5\", \"Topic5\", \"Topic5\", \"Topic5\", \"Topic5\", \"Topic5\", \"Topic5\", \"Topic5\", \"Topic5\", \"Topic5\", \"Topic5\", \"Topic5\", \"Topic5\", \"Topic5\", \"Topic5\", \"Topic5\", \"Topic5\", \"Topic5\", \"Topic5\", \"Topic5\", \"Topic5\", \"Topic5\", \"Topic5\", \"Topic5\", \"Topic5\", \"Topic5\"], \"Freq\": [26.0, 19.0, 14.0, 12.0, 11.0, 10.0, 10.0, 10.0, 9.0, 9.0, 9.0, 9.0, 8.0, 8.0, 7.0, 7.0, 8.0, 6.0, 6.0, 6.0, 6.0, 6.0, 6.0, 6.0, 6.0, 6.0, 6.0, 6.0, 6.0, 6.0, 11.387025542810628, 9.919923179667558, 9.237136321991757, 8.41203467948965, 7.446995409092685, 5.788622600244144, 5.716574637083, 5.637024975604648, 5.570286379474023, 5.412323157303621, 5.134997627583617, 4.964964566830449, 4.950394204665334, 4.945954400404925, 4.833393258576161, 4.6992758060846445, 4.425212862615063, 4.411687838264941, 4.267910036157579, 4.146874143279565, 4.033138124797043, 3.991158793724816, 3.9033651410412467, 3.874227487958731, 3.8320264601455767, 3.7946229826113163, 3.79049245199021, 3.7912170680357593, 3.781514792242688, 3.7695181506836, 10.36612688720219, 10.032594253064632, 6.029681421954601, 5.818392851940701, 5.751299728804852, 5.648259379918859, 5.641407763926195, 5.148616469766874, 5.0279015354670555, 4.8319956384973874, 4.7299239918736316, 4.654365855497042, 4.606847940200277, 4.485504289371395, 4.460047382960189, 4.429712606283902, 4.434543194501745, 4.404714672434586, 4.373693929903219, 4.299170105054241, 4.03783223581824, 3.9732528508177767, 3.959546965541797, 3.893393428541887, 3.8797062422992385, 3.8584498763301465, 3.8140379559820228, 3.814514066883768, 3.667441470151969, 3.621922767494206, 19.083651248806344, 8.401465510581897, 7.206394576929303, 5.8894760269048865, 5.664292242505183, 5.364918659699871, 5.082459907075823, 4.800521123426759, 4.769431834962706, 4.638273750755982, 4.482191077909325, 4.46260294661712, 4.419124503190413, 4.41463904569246, 4.276539703770518, 4.282631174311765, 4.193605077748744, 4.176034082370087, 4.166076356393584, 4.090051599209223, 3.9650449629683147, 3.870711740001067, 3.8707116031671993, 3.8707116333291642, 3.801583635922497, 3.734402606154242, 3.7200944045751476, 3.5736141888338193, 3.53529935670041, 3.5343047480023473, 25.657079989109288, 14.064875221705313, 7.707078851112702, 6.348212987780579, 5.834331449725351, 5.653573018763072, 5.416420041526194, 5.11249937333896, 4.722205227472155, 4.4137186690677135, 4.124377440755923, 3.8439265747859315, 3.71162565190474, 3.6724663019126194, 3.6389141838450207, 3.590976176591425, 3.5358901123710114, 3.5372376079485184, 3.397440899754051, 3.3688316319504437, 3.3030929905471678, 3.2851442903322687, 3.2443866816776024, 3.192828136876798, 3.1761969868657847, 3.0770680070602396, 3.0735380511280304, 3.0655237617831457, 3.0689882178851233, 3.052048978494153, 3.0842932864179704, 10.414737842843861, 8.488816660937642, 7.643751326621795, 7.193283433520367, 5.889338636993599, 5.086454094445584, 4.837111991339643, 4.7620136415702525, 4.350117634623945, 4.25517974024391, 4.152475267904375, 4.021422611386366, 3.9651273604130104, 3.933814753879881, 3.860656608490286, 3.7757237208003818, 3.718105734932963, 3.5041338896890184, 3.503482536105798, 3.4725018391475837, 3.4010770714416445, 3.370240132331305, 3.288452795398709, 3.279419098297152, 3.2593015125442566, 3.144496900147583, 3.1250704189371508, 3.1002253335584236, 3.0975135961250664, 3.07461428369893], \"Term\": [\"romantic comedy\", \"love story\", \"one best\", \"subject matter\", \"character study\", \"good time\", \"special effect\", \"feel like\", \"worth seeing\", \"make u\", \"ha created\", \"best year\", \"new york\", \"piece work\", \"big screen\", \"ha enough\", \"young woman\", \"lead performance\", \"de niro\", \"sense humor\", \"recent memory\", \"austin power\", \"one thing\", \"give u\", \"psychological drama\", \"one year\", \"motion picture\", \"work well\", \"worth look\", \"tell story\", \"subject matter\", \"feel like\", \"worth seeing\", \"best year\", \"young woman\", \"worth look\", \"tell story\", \"one man\", \"birthday girl\", \"hong kong\", \"coming-of-age story\", \"black comedy\", \"read lip\", \"running time\", \"well worth\", \"ha lot\", \"human spirit\", \"human nature\", \"make worth\", \"one rare\", \"lot fun\", \"compelling story\", \"ha done\", \"soap opera\", \"look back\", \"de palma\", \"ha crafted\", \"grey zone\", \"moonlight mile\", \"make great\", \"good time\", \"special effect\", \"de niro\", \"one thing\", \"give u\", \"motion picture\", \"work well\", \"ha something\", \"still manages\", \"ensemble cast\", \"deeply felt\", \"make one\", \"nothing short\", \"reign fire\", \"lady duke\", \"first time\", \"feeling like\", \"enough make\", \"great deal\", \"steven spielberg\", \"recent year\", \"credit roll\", \"darkly funny\", \"funny touching\", \"cautionary tale\", \"female friendship\", \"ha never\", \"every bit\", \"blade ii\", \"minority report\", \"love story\", \"ha created\", \"ha enough\", \"recent memory\", \"psychological drama\", \"break heart\", \"like mike\", \"red dragon\", \"guilty pleasure\", \"doe give\", \"solid performance\", \"tale love\", \"lan yu\", \"much like\", \"brown sugar\", \"doe make\", \"son bride\", \"comic timing\", \"spy kid\", \"big fat\", \"every frame\", \"de force\", \"tour de force\", \"tour de\", \"pretty much\", \"new zealand\", \"safe conduct\", \"bourne identity\", \"lovely amazing\", \"wild ride\", \"romantic comedy\", \"one best\", \"new york\", \"lead performance\", \"austin power\", \"one year\", \"feature debut\", \"pleasant enough\", \"edge seat\", \"mostly martha\", \"start finish\", \"year best\", \"human face\", \"ha become\", \"director michael\", \"directorial debut\", \"seems like\", \"first feature\", \"ryan gosling\", \"quite funny\", \"secret ballot\", \"oscar nomination\", \"allows u\", \"fun watch\", \"charming funny\", \"douglas mcgrath\", \"wa one\", \"every day\", \"changing lane\", \"charlie kaufman\", \"offer much\", \"character study\", \"make u\", \"piece work\", \"big screen\", \"sense humor\", \"look like\", \"never let\", \"hard resist\", \"blue crush\", \"often funny\", \"play like\", \"wild thornberrys\", \"coming-of-age tale\", \"quiet american\", \"terrific performance\", \"often hilarious\", \"manages find\", \"michael moore\", \"much fun\", \"much better\", \"long time\", \"long way\", \"production value\", \"two lead\", \"worth watching\", \"ultimately satisfying\", \"stuart little\", \"one greatest\", \"keep thing\", \"brutally honest\"], \"Total\": [26.0, 19.0, 14.0, 12.0, 11.0, 10.0, 10.0, 10.0, 9.0, 9.0, 9.0, 9.0, 8.0, 8.0, 7.0, 7.0, 8.0, 6.0, 6.0, 6.0, 6.0, 6.0, 6.0, 6.0, 6.0, 6.0, 6.0, 6.0, 6.0, 6.0, 12.011230552465474, 10.544879900562657, 9.859836255329883, 9.038058153313788, 8.069741617557714, 6.410610976628673, 6.339317675959168, 6.262409244363851, 6.193095448126451, 6.03508229200996, 5.760140556814126, 5.587905369914714, 5.573693471119337, 5.569262360106256, 5.456177892427689, 5.322916578580943, 5.047211826182296, 5.035033450590367, 4.893567492129247, 4.770328243977332, 4.658266093748116, 4.615083564037561, 4.526141108244768, 4.49622716017318, 4.454043960902358, 4.416636919400311, 4.412615596147439, 4.4143247806409, 4.40351079166436, 4.39459051910988, 10.986529374779566, 10.651573093048228, 6.6514466446683, 6.436809645485196, 6.371284486191713, 6.267940937464588, 6.264170325741383, 5.768834161579772, 5.64723220496355, 5.452153295767748, 5.349783202562028, 5.277072923663201, 5.227018664676155, 5.103869879344495, 5.0805508421553505, 5.048225374538694, 5.055124746783322, 5.025117210846547, 4.996120219024458, 4.917607890936972, 4.656204360493236, 4.593759406443846, 4.578768348164761, 4.514612386542626, 4.498966246861788, 4.476819058501134, 4.433228185873075, 4.436754103005308, 4.287094156308692, 4.24026621279427, 19.700807796665394, 9.01837811595394, 7.824424527653791, 6.505662459884321, 6.280838415251868, 5.9808928449495795, 5.700749248676731, 5.418668921225178, 5.386106537288596, 5.2595789927092955, 5.098141396765661, 5.078565503252124, 5.035313581771943, 5.03415930130897, 4.893282175337192, 4.901319364222521, 4.81073905388313, 4.793027113306012, 4.783088573363033, 4.706062624427881, 4.581017655142199, 4.487128846374249, 4.4871289176168085, 4.487129125425223, 4.419050035277642, 4.351347536323552, 4.339863541895183, 4.189564504552451, 4.151287736449842, 4.150976265543629, 26.274730655796215, 14.681430982575092, 8.32245291591124, 6.963103565960303, 6.450126172247782, 6.269691007012617, 6.032539292090833, 5.728071834008269, 5.338066314497088, 5.0319736037160325, 4.740678758061753, 4.459131829038374, 4.326636610346982, 4.288488648527431, 4.255315709097165, 4.206096064636981, 4.150788751000511, 4.152934397804343, 4.012353953638774, 3.9837438892278922, 3.9189318949180088, 3.900056794597207, 3.8600848397667304, 3.8103750350312047, 3.792261985734243, 3.6919762583156377, 3.688579265044104, 3.6810211729396265, 3.68570760669172, 3.6669515959771033, 3.7064365151004255, 11.034119923662669, 9.109277348120491, 8.262311197296084, 7.812134470777445, 6.5097238481981075, 5.707573669067231, 5.457073667684771, 5.380581173242827, 4.96943908938771, 4.87428800714636, 4.7719186927451345, 4.642713657175507, 4.5848678339278095, 4.5523856376416205, 4.480781635210931, 4.395082782511444, 4.33823110928991, 4.1233054420410395, 4.1242624390898435, 4.093481100470903, 4.0196316594177715, 3.9887925179468033, 3.907037776892045, 3.8985698743649095, 3.88458644450826, 3.763069281701056, 3.7436468218024896, 3.7191694627606617, 3.716083836362688, 3.693207114541927], \"loglift\": [30.0, 29.0, 28.0, 27.0, 26.0, 25.0, 24.0, 23.0, 22.0, 21.0, 20.0, 19.0, 18.0, 17.0, 16.0, 15.0, 14.0, 13.0, 12.0, 11.0, 10.0, 9.0, 8.0, 7.0, 6.0, 5.0, 4.0, 3.0, 2.0, 1.0, 1.5241, 1.5164, 1.5123, 1.5057, 1.4972, 1.4754, 1.4741, 1.4723, 1.4715, 1.4686, 1.4626, 1.4593, 1.4589, 1.4588, 1.4563, 1.4529, 1.446, 1.4453, 1.4407, 1.4374, 1.4334, 1.4322, 1.4295, 1.4286, 1.4271, 1.4257, 1.4255, 1.4253, 1.4252, 1.4241, 1.5548, 1.553, 1.5148, 1.5119, 1.5105, 1.5088, 1.5082, 1.4992, 1.4967, 1.4921, 1.4897, 1.4873, 1.4866, 1.4837, 1.4826, 1.4822, 1.4819, 1.4811, 1.4798, 1.4785, 1.4704, 1.4678, 1.4676, 1.4649, 1.4648, 1.4642, 1.4625, 1.4618, 1.4568, 1.4553, 1.5852, 1.5462, 1.5347, 1.5175, 1.5137, 1.5083, 1.5022, 1.4959, 1.4954, 1.4913, 1.4882, 1.4877, 1.4865, 1.4857, 1.4823, 1.4821, 1.4797, 1.4792, 1.4789, 1.4767, 1.4726, 1.4692, 1.4692, 1.4692, 1.4665, 1.4641, 1.4629, 1.458, 1.4564, 1.4562, 1.5934, 1.5742, 1.5403, 1.5247, 1.5168, 1.5137, 1.5094, 1.5035, 1.4946, 1.4861, 1.4779, 1.4687, 1.4638, 1.4621, 1.4607, 1.459, 1.4568, 1.4567, 1.4508, 1.4495, 1.4462, 1.4456, 1.4434, 1.4403, 1.4399, 1.435, 1.4347, 1.4342, 1.434, 1.4336, 1.4334, 1.5655, 1.5528, 1.5455, 1.5408, 1.5232, 1.5081, 1.5027, 1.5012, 1.4902, 1.4875, 1.4843, 1.4797, 1.4781, 1.4773, 1.4744, 1.4714, 1.4691, 1.4606, 1.4602, 1.4588, 1.4562, 1.4548, 1.451, 1.4504, 1.4478, 1.4437, 1.4427, 1.4413, 1.4412, 1.44], \"logprob\": [30.0, 29.0, 28.0, 27.0, 26.0, 25.0, 24.0, 23.0, 22.0, 21.0, 20.0, 19.0, 18.0, 17.0, 16.0, 15.0, 14.0, 13.0, 12.0, 11.0, 10.0, 9.0, 8.0, 7.0, 6.0, 5.0, 4.0, 3.0, 2.0, 1.0, -3.8167, -3.9547, -4.026, -4.1196, -4.2414, -4.4933, -4.5059, -4.5199, -4.5318, -4.5605, -4.6131, -4.6468, -4.6498, -4.6507, -4.6737, -4.7018, -4.7619, -4.765, -4.7981, -4.8269, -4.8547, -4.8651, -4.8874, -4.8949, -4.9058, -4.9156, -4.9167, -4.9165, -4.9191, -4.9223, -3.8753, -3.908, -4.4171, -4.4528, -4.4644, -4.4825, -4.4837, -4.5751, -4.5988, -4.6386, -4.6599, -4.676, -4.6863, -4.713, -4.7187, -4.7255, -4.7244, -4.7312, -4.7382, -4.7554, -4.8181, -4.8342, -4.8377, -4.8545, -4.8581, -4.8636, -4.8751, -4.875, -4.9143, -4.9268, -3.2609, -4.0813, -4.2347, -4.4365, -4.4755, -4.5298, -4.5839, -4.641, -4.6475, -4.6754, -4.7096, -4.714, -4.7238, -4.7248, -4.7566, -4.7551, -4.7762, -4.7803, -4.7827, -4.8012, -4.8322, -4.8563, -4.8563, -4.8563, -4.8743, -4.8921, -4.896, -4.9361, -4.9469, -4.9472, -2.9648, -3.5659, -4.1674, -4.3614, -4.4458, -4.4773, -4.5201, -4.5779, -4.6573, -4.7249, -4.7927, -4.8631, -4.8981, -4.9087, -4.9179, -4.9311, -4.9466, -4.9462, -4.9865, -4.995, -5.0147, -5.0202, -5.0326, -5.0487, -5.0539, -5.0856, -5.0867, -5.0894, -5.0882, -5.0938, -5.0832, -3.8602, -4.0647, -4.1695, -4.2303, -4.4303, -4.5768, -4.6271, -4.6427, -4.7332, -4.7553, -4.7797, -4.8118, -4.8259, -4.8338, -4.8526, -4.8748, -4.8902, -4.9495, -4.9496, -4.9585, -4.9793, -4.9884, -5.013, -5.0157, -5.0219, -5.0577, -5.0639, -5.0719, -5.0728, -5.0802]}, \"token.table\": {\"Topic\": [4, 4, 1, 3, 5, 1, 1, 2, 5, 3, 3, 3, 5, 2, 4, 5, 4, 4, 3, 1, 5, 1, 2, 2, 3, 2, 1, 2, 4, 4, 3, 3, 4, 4, 2, 2, 2, 4, 3, 4, 1, 2, 2, 4, 2, 4, 2, 2, 2, 2, 1, 3, 4, 1, 3, 1, 3, 1, 2, 2, 5, 1, 4, 1, 1, 5, 2, 3, 4, 3, 5, 5, 1, 5, 1, 3, 3, 1, 2, 5, 1, 5, 5, 2, 1, 4, 2, 5, 5, 3, 5, 4, 3, 2, 4, 5, 5, 4, 5, 1, 1, 2, 4, 4, 5, 5, 4, 3, 5, 3, 5, 4, 1, 3, 2, 3, 2, 4, 1, 4, 3, 4, 4, 5, 1, 3, 3, 2, 3, 4, 2, 2, 5, 1, 3, 1, 5, 3, 3, 5, 5, 4, 1, 3, 5, 2, 1, 1, 5, 4, 1], \"Freq\": [0.7771849906234946, 0.9302143616686929, 0.8851458869034622, 0.8499674397100235, 0.8960419237769952, 0.9688208506160088, 0.89478966965332, 0.9330329249041062, 0.8049198165124999, 0.9547531719952116, 0.8359955828705624, 0.8174472382076277, 0.8123021284637847, 0.8890931339594207, 0.8139549633707355, 0.9062798002181399, 0.8181182438544335, 0.7910845852120504, 0.8345456650757358, 0.868034373585746, 0.8724351813154101, 0.8667232011072303, 0.8707465163258319, 0.8735973728837494, 0.8914386319064883, 0.9020594045972706, 0.9056664772306251, 0.9346173126427786, 0.9400007598610504, 0.9510006282619775, 0.9506464313837443, 0.8161067873271519, 0.8125729392877156, 0.9366687683180387, 0.796001333335297, 0.917068858625319, 0.9015599934399192, 0.8149912372289427, 0.8731684313658984, 0.8288383643941484, 0.9483275385115023, 0.7912762197501221, 0.8934915500782434, 0.9631743766804504, 0.792357651101407, 0.7873240750369949, 0.8860118339114544, 0.9417253323099312, 0.9102055488929723, 0.800621247016558, 0.9061408479824754, 0.9283143520063076, 0.9327295296382582, 0.9064918329827587, 0.8870774652758925, 0.8837550364290775, 0.8946344840134842, 0.939334653509255, 0.9022770388283644, 0.8667262500454287, 0.9292676458194843, 0.8284891171442121, 0.9245056519038729, 0.7944336495978974, 0.792516767227817, 0.8073014851399067, 0.7873162033554333, 0.7943894526212183, 0.861684727673948, 0.8770776931050966, 0.7463370413483456, 0.7521073072871246, 0.8980602874852694, 0.8760289905845635, 0.8586886020462466, 0.9644274588180077, 0.9635564321110579, 0.9102099462068187, 0.9474949602419244, 0.878225538017089, 0.8173995773908402, 0.9220347877351163, 0.9700954867946908, 0.9433369980240136, 0.908366117228965, 0.7949167295007398, 0.957252159818058, 0.732872566494783, 0.9698703850870203, 0.7945715978753255, 0.91624198324618, 0.9612550627598313, 0.9192554643382024, 0.9565682314834014, 0.8094027748155603, 0.8206326737639351, 0.9101079997665744, 0.9535855201455594, 0.8066317036742829, 0.9580977170088304, 0.8385167215799265, 0.9321387970838043, 0.9569849603894404, 0.7692195673037209, 0.9682520797108287, 0.8382372495326248, 0.8728940810962571, 0.9051719188666499, 0.7678451479899506, 0.9552864766318613, 0.8786601835586614, 0.7530604585581037, 0.8970712196334463, 0.9222734866737442, 0.8590688230823864, 0.9227358365473792, 0.7837190395836916, 0.9895439211387078, 0.8977849626578922, 0.7476907657359895, 0.9216879658509337, 0.7655147066705443, 0.9636722656713944, 0.9216980842683213, 0.8896347665507927, 0.7845996587183048, 0.8314730762150323, 0.9388284634244797, 0.836279725672645, 0.8437610317294347, 0.8134036077524399, 0.8853894825867662, 0.801357644777923, 0.9158095793725395, 0.7876239850482483, 0.9464741012670851, 0.8927013913302877, 0.8914385764686324, 0.891438617753035, 0.7695129487678377, 0.7972215697936557, 0.8133212774984597, 0.9163924084915208, 0.9636287331255419, 0.8615650878700721, 0.9578283616178463, 0.9359482305000806, 0.9127940634039348, 0.7722829811758153, 0.8970356009552228, 0.8674379344153688], \"Term\": [\"allows u\", \"austin power\", \"best year\", \"big fat\", \"big screen\", \"birthday girl\", \"black comedy\", \"blade ii\", \"blue crush\", \"bourne identity\", \"break heart\", \"brown sugar\", \"brutally honest\", \"cautionary tale\", \"changing lane\", \"character study\", \"charlie kaufman\", \"charming funny\", \"comic timing\", \"coming-of-age story\", \"coming-of-age tale\", \"compelling story\", \"credit roll\", \"darkly funny\", \"de force\", \"de niro\", \"de palma\", \"deeply felt\", \"director michael\", \"directorial debut\", \"doe give\", \"doe make\", \"douglas mcgrath\", \"edge seat\", \"enough make\", \"ensemble cast\", \"every bit\", \"every day\", \"every frame\", \"feature debut\", \"feel like\", \"feeling like\", \"female friendship\", \"first feature\", \"first time\", \"fun watch\", \"funny touching\", \"give u\", \"good time\", \"great deal\", \"grey zone\", \"guilty pleasure\", \"ha become\", \"ha crafted\", \"ha created\", \"ha done\", \"ha enough\", \"ha lot\", \"ha never\", \"ha something\", \"hard resist\", \"hong kong\", \"human face\", \"human nature\", \"human spirit\", \"keep thing\", \"lady duke\", \"lan yu\", \"lead performance\", \"like mike\", \"long time\", \"long way\", \"look back\", \"look like\", \"lot fun\", \"love story\", \"lovely amazing\", \"make great\", \"make one\", \"make u\", \"make worth\", \"manages find\", \"michael moore\", \"minority report\", \"moonlight mile\", \"mostly martha\", \"motion picture\", \"much better\", \"much fun\", \"much like\", \"never let\", \"new york\", \"new zealand\", \"nothing short\", \"offer much\", \"often funny\", \"often hilarious\", \"one best\", \"one greatest\", \"one man\", \"one rare\", \"one thing\", \"one year\", \"oscar nomination\", \"piece work\", \"play like\", \"pleasant enough\", \"pretty much\", \"production value\", \"psychological drama\", \"quiet american\", \"quite funny\", \"read lip\", \"recent memory\", \"recent year\", \"red dragon\", \"reign fire\", \"romantic comedy\", \"running time\", \"ryan gosling\", \"safe conduct\", \"secret ballot\", \"seems like\", \"sense humor\", \"soap opera\", \"solid performance\", \"son bride\", \"special effect\", \"spy kid\", \"start finish\", \"steven spielberg\", \"still manages\", \"stuart little\", \"subject matter\", \"tale love\", \"tell story\", \"terrific performance\", \"tour de\", \"tour de force\", \"two lead\", \"ultimately satisfying\", \"wa one\", \"well worth\", \"wild ride\", \"wild thornberrys\", \"work well\", \"worth look\", \"worth seeing\", \"worth watching\", \"year best\", \"young woman\"]}, \"R\": 30, \"lambda.step\": 0.01, \"plot.opts\": {\"xlab\": \"PC1\", \"ylab\": \"PC2\"}, \"topic.order\": [1, 3, 5, 4, 2]};\n",
       "\n",
       "function LDAvis_load_lib(url, callback){\n",
       "  var s = document.createElement('script');\n",
       "  s.src = url;\n",
       "  s.async = true;\n",
       "  s.onreadystatechange = s.onload = callback;\n",
       "  s.onerror = function(){console.warn(\"failed to load library \" + url);};\n",
       "  document.getElementsByTagName(\"head\")[0].appendChild(s);\n",
       "}\n",
       "\n",
       "if(typeof(LDAvis) !== \"undefined\"){\n",
       "   // already loaded: just create the visualization\n",
       "   !function(LDAvis){\n",
       "       new LDAvis(\"#\" + \"ldavis_el1017213772190479767957678896\", ldavis_el1017213772190479767957678896_data);\n",
       "   }(LDAvis);\n",
       "}else if(typeof define === \"function\" && define.amd){\n",
       "   // require.js is available: use it to load d3/LDAvis\n",
       "   require.config({paths: {d3: \"https://cdnjs.cloudflare.com/ajax/libs/d3/3.5.5/d3.min\"}});\n",
       "   require([\"d3\"], function(d3){\n",
       "      window.d3 = d3;\n",
       "      LDAvis_load_lib(\"https://cdn.rawgit.com/bmabey/pyLDAvis/files/ldavis.v1.0.0.js\", function(){\n",
       "        new LDAvis(\"#\" + \"ldavis_el1017213772190479767957678896\", ldavis_el1017213772190479767957678896_data);\n",
       "      });\n",
       "    });\n",
       "}else{\n",
       "    // require.js not available: dynamically load d3 & LDAvis\n",
       "    LDAvis_load_lib(\"https://cdnjs.cloudflare.com/ajax/libs/d3/3.5.5/d3.min.js\", function(){\n",
       "         LDAvis_load_lib(\"https://cdn.rawgit.com/bmabey/pyLDAvis/files/ldavis.v1.0.0.js\", function(){\n",
       "                 new LDAvis(\"#\" + \"ldavis_el1017213772190479767957678896\", ldavis_el1017213772190479767957678896_data);\n",
       "            })\n",
       "         });\n",
       "}\n",
       "</script>"
      ],
      "text/plain": [
       "PreparedData(topic_coordinates=            Freq  cluster  topics         x         y\n",
       "topic                                                \n",
       "0      20.649145        1       1 -0.271745 -0.038012\n",
       "2      19.931036        1       2  0.106288 -0.244227\n",
       "4      19.849157        1       3  0.056545  0.139043\n",
       "3      19.846376        1       4  0.051113  0.076256\n",
       "1      19.724286        1       5  0.057799  0.066940, topic_info=     Category       Freq                   Term      Total  loglift  logprob\n",
       "term                                                                        \n",
       "528   Default  26.000000        romantic comedy  26.000000  30.0000  30.0000\n",
       "356   Default  19.000000             love story  19.000000  29.0000  29.0000\n",
       "446   Default  14.000000               one best  14.000000  28.0000  28.0000\n",
       "608   Default  12.000000         subject matter  12.000000  27.0000  27.0000\n",
       "67    Default  11.000000        character study  11.000000  26.0000  26.0000\n",
       "239   Default  10.000000              good time  10.000000  25.0000  25.0000\n",
       "573   Default  10.000000         special effect  10.000000  24.0000  24.0000\n",
       "192   Default  10.000000              feel like  10.000000  23.0000  23.0000\n",
       "714   Default   9.000000           worth seeing   9.000000  22.0000  22.0000\n",
       "371   Default   9.000000                 make u   9.000000  21.0000  21.0000\n",
       "252   Default   9.000000             ha created   9.000000  20.0000  20.0000\n",
       "31    Default   9.000000              best year   9.000000  19.0000  19.0000\n",
       "427   Default   8.000000               new york   8.000000  18.0000  18.0000\n",
       "481   Default   8.000000             piece work   8.000000  17.0000  17.0000\n",
       "36    Default   7.000000             big screen   7.000000  16.0000  16.0000\n",
       "255   Default   7.000000              ha enough   7.000000  15.0000  15.0000\n",
       "729   Default   8.000000            young woman   8.000000  14.0000  14.0000\n",
       "327   Default   6.000000       lead performance   6.000000  13.0000  13.0000\n",
       "107   Default   6.000000                de niro   6.000000  12.0000  12.0000\n",
       "546   Default   6.000000            sense humor   6.000000  11.0000  11.0000\n",
       "512   Default   6.000000          recent memory   6.000000  10.0000  10.0000\n",
       "17    Default   6.000000           austin power   6.000000   9.0000   9.0000\n",
       "457   Default   6.000000              one thing   6.000000   8.0000   8.0000\n",
       "229   Default   6.000000                 give u   6.000000   7.0000   7.0000\n",
       "495   Default   6.000000    psychological drama   6.000000   6.0000   6.0000\n",
       "460   Default   6.000000               one year   6.000000   5.0000   5.0000\n",
       "403   Default   6.000000         motion picture   6.000000   4.0000   4.0000\n",
       "704   Default   6.000000              work well   6.000000   3.0000   3.0000\n",
       "711   Default   6.000000             worth look   6.000000   2.0000   2.0000\n",
       "629   Default   6.000000             tell story   6.000000   1.0000   1.0000\n",
       "...       ...        ...                    ...        ...      ...      ...\n",
       "67     Topic5  10.414738        character study  11.034120   1.5655  -3.8602\n",
       "371    Topic5   8.488817                 make u   9.109277   1.5528  -4.0647\n",
       "481    Topic5   7.643751             piece work   8.262311   1.5455  -4.1695\n",
       "36     Topic5   7.193283             big screen   7.812134   1.5408  -4.2303\n",
       "546    Topic5   5.889339            sense humor   6.509724   1.5232  -4.4303\n",
       "349    Topic5   5.086454              look like   5.707574   1.5081  -4.5768\n",
       "422    Topic5   4.837112              never let   5.457074   1.5027  -4.6271\n",
       "270    Topic5   4.762014            hard resist   5.380581   1.5012  -4.6427\n",
       "43     Topic5   4.350118             blue crush   4.969439   1.4902  -4.7332\n",
       "443    Topic5   4.255180            often funny   4.874288   1.4875  -4.7553\n",
       "482    Topic5   4.152475              play like   4.771919   1.4843  -4.7797\n",
       "693    Topic5   4.021423       wild thornberrys   4.642714   1.4797  -4.8118\n",
       "86     Topic5   3.965127     coming-of-age tale   4.584868   1.4781  -4.8259\n",
       "501    Topic5   3.933815         quiet american   4.552386   1.4773  -4.8338\n",
       "630    Topic5   3.860657   terrific performance   4.480782   1.4744  -4.8526\n",
       "444    Topic5   3.775724        often hilarious   4.395083   1.4714  -4.8748\n",
       "375    Topic5   3.718106           manages find   4.338231   1.4691  -4.8902\n",
       "387    Topic5   3.504134          michael moore   4.123305   1.4606  -4.9495\n",
       "408    Topic5   3.503483               much fun   4.124262   1.4602  -4.9496\n",
       "407    Topic5   3.472502            much better   4.093481   1.4588  -4.9585\n",
       "344    Topic5   3.401077              long time   4.019632   1.4562  -4.9793\n",
       "345    Topic5   3.370240               long way   3.988793   1.4548  -4.9884\n",
       "494    Topic5   3.288453       production value   3.907038   1.4510  -5.0130\n",
       "654    Topic5   3.279419               two lead   3.898570   1.4504  -5.0157\n",
       "717    Topic5   3.259302         worth watching   3.884586   1.4478  -5.0219\n",
       "660    Topic5   3.144497  ultimately satisfying   3.763069   1.4437  -5.0577\n",
       "607    Topic5   3.125070          stuart little   3.743647   1.4427  -5.0639\n",
       "450    Topic5   3.100225           one greatest   3.719169   1.4413  -5.0719\n",
       "310    Topic5   3.097514             keep thing   3.716084   1.4412  -5.0728\n",
       "53     Topic5   3.074614        brutally honest   3.693207   1.4400  -5.0802\n",
       "\n",
       "[181 rows x 6 columns], token_table=      Topic      Freq                   Term\n",
       "term                                        \n",
       "5         4  0.777185               allows u\n",
       "17        4  0.930214           austin power\n",
       "31        1  0.885146              best year\n",
       "34        3  0.849967                big fat\n",
       "36        5  0.896042             big screen\n",
       "37        1  0.968821          birthday girl\n",
       "38        1  0.894790           black comedy\n",
       "40        2  0.933033               blade ii\n",
       "43        5  0.804920             blue crush\n",
       "45        3  0.954753        bourne identity\n",
       "48        3  0.835996            break heart\n",
       "52        3  0.817447            brown sugar\n",
       "53        5  0.812302        brutally honest\n",
       "58        2  0.889093        cautionary tale\n",
       "61        4  0.813955          changing lane\n",
       "67        5  0.906280        character study\n",
       "68        4  0.818118        charlie kaufman\n",
       "70        4  0.791085         charming funny\n",
       "83        3  0.834546           comic timing\n",
       "85        1  0.868034    coming-of-age story\n",
       "86        5  0.872435     coming-of-age tale\n",
       "87        1  0.866723       compelling story\n",
       "95        2  0.870747            credit roll\n",
       "101       2  0.873597           darkly funny\n",
       "105       3  0.891439               de force\n",
       "107       2  0.902059                de niro\n",
       "108       1  0.905666               de palma\n",
       "110       2  0.934617            deeply felt\n",
       "124       4  0.940001       director michael\n",
       "130       4  0.951001      directorial debut\n",
       "...     ...       ...                    ...\n",
       "541       4  0.765515          secret ballot\n",
       "545       4  0.963672             seems like\n",
       "546       5  0.921698            sense humor\n",
       "562       1  0.889635             soap opera\n",
       "564       3  0.784600      solid performance\n",
       "568       3  0.831473              son bride\n",
       "573       2  0.938828         special effect\n",
       "577       3  0.836280                spy kid\n",
       "581       4  0.843761           start finish\n",
       "586       2  0.813404       steven spielberg\n",
       "590       2  0.885389          still manages\n",
       "607       5  0.801358          stuart little\n",
       "608       1  0.915810         subject matter\n",
       "625       3  0.787624              tale love\n",
       "629       1  0.946474             tell story\n",
       "630       5  0.892701   terrific performance\n",
       "645       3  0.891439                tour de\n",
       "646       3  0.891439          tour de force\n",
       "654       5  0.769513               two lead\n",
       "660       5  0.797222  ultimately satisfying\n",
       "669       4  0.813321                 wa one\n",
       "687       1  0.916392             well worth\n",
       "692       3  0.963629              wild ride\n",
       "693       5  0.861565       wild thornberrys\n",
       "704       2  0.957828              work well\n",
       "711       1  0.935948             worth look\n",
       "714       1  0.912794           worth seeing\n",
       "717       5  0.772283         worth watching\n",
       "721       4  0.897036              year best\n",
       "729       1  0.867438            young woman\n",
       "\n",
       "[151 rows x 3 columns], R=30, lambda_step=0.01, plot_opts={'xlab': 'PC1', 'ylab': 'PC2'}, topic_order=[1, 3, 5, 4, 2])"
      ]
     },
     "execution_count": 38,
     "metadata": {},
     "output_type": "execute_result"
    }
   ],
   "source": [
    "pyLDAvis.sklearn.prepare(lda, term_idf_matrix, term_idf_vectorizer)"
   ]
  },
  {
   "cell_type": "markdown",
   "metadata": {},
   "source": [
    "#### Topic modeling using NMF "
   ]
  },
  {
   "cell_type": "code",
   "execution_count": 55,
   "metadata": {
    "scrolled": true
   },
   "outputs": [
    {
     "name": "stdout",
     "output_type": "stream",
     "text": [
      "CPU times: user 243 ms, sys: 288 ms, total: 531 ms\n",
      "Wall time: 200 ms\n",
      "\n",
      "Fitting the Non-negative Matrix Factorization model with tf-idf features: \n",
      "\n",
      "Topic #0:\n",
      "romantic comedy sandra bullock hugh grant interesting character new york much fun start finish point view might well one greatest\n",
      "Topic #1:\n",
      "feel like still feel doe feel make feel one feel like one two hour spy kid tv series three hour\n",
      "Topic #2:\n",
      "play like like one like bad big screen young woman seem like whole thing point view never seen after-school special\n",
      "Topic #3:\n",
      "love story lan yu story one birthday girl edge seat one best like bad good intention good job good thing\n",
      "Topic #4:\n",
      "special effect action sequence jackie chan minority report hollywood ending queen damned time machine funny moment after-school special harry potter\n",
      "\n"
     ]
    }
   ],
   "source": [
    "# Fit the NMF model\n",
    "%time nmf = NMF(n_components=5, random_state=1,alpha=.1, l1_ratio=.5).fit(term_idf_matrix)\n",
    "#alpha = learning rate\n",
    "#l1_ratio = \n",
    "print(\"\\nFitting the Non-negative Matrix Factorization model with tf-idf features: \\n\")\n",
    "print_top_words(nmf, term_idf_feature_names, 10)"
   ]
  }
 ],
 "metadata": {
  "kernelspec": {
   "display_name": "Python 3",
   "language": "python",
   "name": "python3"
  },
  "language_info": {
   "codemirror_mode": {
    "name": "ipython",
    "version": 3
   },
   "file_extension": ".py",
   "mimetype": "text/x-python",
   "name": "python",
   "nbconvert_exporter": "python",
   "pygments_lexer": "ipython3",
   "version": "3.6.3"
  }
 },
 "nbformat": 4,
 "nbformat_minor": 2
}
