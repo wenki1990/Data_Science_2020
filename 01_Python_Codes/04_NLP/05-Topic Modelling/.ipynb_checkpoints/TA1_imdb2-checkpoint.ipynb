{
 "cells": [
  {
   "cell_type": "markdown",
   "metadata": {},
   "source": [
    "## Topic Modelling"
   ]
  },
  {
   "cell_type": "markdown",
   "metadata": {},
   "source": [
    "\n",
    "####  Functions to support text analytics of imdb reviews\n"
   ]
  },
  {
   "cell_type": "code",
   "execution_count": 1,
   "metadata": {
    "collapsed": true,
    "scrolled": true
   },
   "outputs": [],
   "source": [
    "import requests\n",
    "import re\n",
    "from bs4 import BeautifulSoup\n",
    "import pandas as pd\n",
    "import numpy as np\n",
    "import matplotlib\n",
    "import matplotlib.pyplot as plt\n",
    "from collections import defaultdict\n",
    "from itertools import combinations\n",
    "from ggplot import *\n",
    "import unicodedata\n",
    "from textblob import TextBlob\n",
    "import nltk\n",
    "from itertools import izip\n",
    "from sklearn.feature_extraction.text import TfidfVectorizer\n",
    "from sklearn.feature_extraction.text import CountVectorizer\n",
    "from sklearn.decomposition import NMF, LatentDirichletAllocation\n",
    "\n",
    "%matplotlib inline \n",
    "matplotlib.style.use('ggplot') "
   ]
  },
  {
   "cell_type": "code",
   "execution_count": 2,
   "metadata": {
    "collapsed": true,
    "scrolled": false
   },
   "outputs": [],
   "source": [
    "# Modules to support text analytics \n",
    "\n",
    "def requestPage(url): \n",
    "    try:\n",
    "        response = requests.get(url)  \n",
    "        page  = BeautifulSoup(response.text, 'html.parser')\n",
    "        return page\n",
    "        \n",
    "    except(ConnectionError, Exception), e:\n",
    "        print \"Exception is :\", e\n",
    "\n",
    "        \n",
    "def extractRatings(page,i):\n",
    "    data_rating = {}\n",
    "    i = i + 1 \n",
    "    for b in page.select('div[id=\"tn15content\"] img'):\n",
    "        rating = b.get(\"alt\")\n",
    "        if rating is not None and rating != u\"[Next]\" and rating != u\"[Prev]\":\n",
    "            data_rating.update({i:rating.encode('utf-8')})\n",
    "            i = i + 1\n",
    "    return data_rating\n",
    "\n",
    "def extractReviews(page,i):\n",
    "    data_review = {}\n",
    "    i = i + 1 \n",
    "    for a in page.select('div[id=\"tn15content\"] p'):\n",
    "        review = a.get_text().replace(\"\\n\",\" \").replace(\"*** This review may contain spoilers ***\", \"IGNORE\").replace(\"Add another review\",\"IGNORE\")\n",
    "        if review != \"IGNORE\":\n",
    "            data_review.update({i:review.encode('utf-8')})\n",
    "            i = i + 1 \n",
    "    return data_review\n",
    "\n",
    "def tokenize(text):\n",
    "    # first tokenize by sentence, then by word to ensure that punctuation is caught as it's own token\n",
    "    tokens = [word.lower() for sent in nltk.sent_tokenize(text) for word in nltk.word_tokenize(sent)]\n",
    "    filtered_tokens = []\n",
    "    # filter out any tokens not containing letters (e.g., numeric tokens, raw punctuation)\n",
    "    for token in tokens:\n",
    "        if re.search('[a-zA-Z]', token):\n",
    "            filtered_tokens.append(token)\n",
    "    return filtered_tokens\n",
    "\n",
    "def print_top_words(model, feature_names, n_top_words):\n",
    "    for topic_idx, topic in enumerate(model.components_):\n",
    "        print(\"Topic #%d:\" % topic_idx)\n",
    "        print(\" \".join([feature_names[i]\n",
    "                        for i in topic.argsort()[:-n_top_words - 1:-1]]))\n",
    "    print()"
   ]
  },
  {
   "cell_type": "markdown",
   "metadata": {},
   "source": [
    "### Extract IMDB movie reviews ( 50 positive , 50 negative ) for movie = Titanic ( 1997 ) \n",
    "   http://www.imdb.com/title/tt0120338/\n",
    "    "
   ]
  },
  {
   "cell_type": "code",
   "execution_count": 3,
   "metadata": {},
   "outputs": [
    {
     "name": "stdout",
     "output_type": "stream",
     "text": [
      "\n",
      " Extracted ratings & reviews\n"
     ]
    }
   ],
   "source": [
    "# Movie name = Up\n",
    "\n",
    "p_url = \"http://www.imdb.com/title/tt0120338/reviews?filter=love;filter=love;start=\" # positive reviews link\n",
    "n_url = \"http://www.imdb.com/title/tt0120338/reviews?filter=hate;filter=hate;start=\" # negative reviews link\n",
    "\n",
    "# DataFrame for all extracted reviews\n",
    "imdb = pd.DataFrame()\n",
    "\n",
    "# Pagination for 50 reviews \n",
    "pagination = [0,10,20,30,40] # pagination for imdb pagination to get top 50 reviews in a category \n",
    "\n",
    "for counter in pagination:\n",
    "\n",
    "    positive_url = p_url + str(counter)\n",
    "    negative_url = n_url + str(counter)\n",
    "    \n",
    "    # Request url for reviews \n",
    "    responses_positive = requestPage(positive_url)\n",
    "    responses_negative = requestPage(negative_url)\n",
    "    \n",
    "    # Extract ratings and reviews \n",
    "    ratings_positive  = extractRatings(responses_positive,counter)    \n",
    "    reviews_positive  = extractReviews(responses_positive,counter)\n",
    "    \n",
    "    ratings_negative  = extractRatings(responses_negative,counter+50)\n",
    "    reviews_negative  = extractReviews(responses_negative,counter+50)\n",
    "    \n",
    "    # Copy the extracted data into dataframes\n",
    "    df_p = pd.DataFrame(columns=['ratings','reviews'])\n",
    "    df_p = pd.DataFrame([ratings_positive,reviews_positive]).T\n",
    "    \n",
    "    df_n = pd.DataFrame(columns=['ratings','reviews'])\n",
    "    df_n = pd.DataFrame([ratings_negative,reviews_negative]).T\n",
    "    \n",
    "    # Create master dataframe for text analytics \n",
    "    imdb = imdb.append([df_p,df_n])\n",
    "    \n",
    "print \"\\n Extracted ratings & reviews\""
   ]
  },
  {
   "cell_type": "code",
   "execution_count": 4,
   "metadata": {},
   "outputs": [
    {
     "data": {
      "text/html": [
       "<div>\n",
       "<table border=\"1\" class=\"dataframe\">\n",
       "  <thead>\n",
       "    <tr style=\"text-align: right;\">\n",
       "      <th></th>\n",
       "      <th>0</th>\n",
       "      <th>1</th>\n",
       "    </tr>\n",
       "  </thead>\n",
       "  <tbody>\n",
       "  </tbody>\n",
       "</table>\n",
       "</div>"
      ],
      "text/plain": [
       "Empty DataFrame\n",
       "Columns: [0, 1]\n",
       "Index: []"
      ]
     },
     "execution_count": 4,
     "metadata": {},
     "output_type": "execute_result"
    }
   ],
   "source": [
    "imdb.head()"
   ]
  },
  {
   "cell_type": "code",
   "execution_count": 6,
   "metadata": {},
   "outputs": [
    {
     "name": "stdout",
     "output_type": "stream",
     "text": [
      "   ratings                                            reviews\n",
      "1    10/10   Every once in a while the conversation will t...\n",
      "2    10/10    To all the miserable people who have done ev...\n",
      "3    10/10    I find it so amazing that even after all the...\n",
      "4    10/10   This movie re-wrote film history in every way...\n",
      "5    10/10   Back in 1997, do I remember that year: Clinto...\n",
      "6    10/10   James Cameron's 'Titanic' is essentially a ro...\n",
      "7    10/10   Thirteen years after Titanic launched and all...\n",
      "8    10/10   It's a crying freaking shame that this outsta...\n",
      "9    10/10    When you have a film this big and successful...\n",
      "10   10/10   Good Lord. This movie right here, it's a mast...\n",
      "    ratings                                            reviews\n",
      "91     1/10    Alright... where to begin. This is.. without...\n",
      "92     1/10   This movie is the biggest waste of an opportu...\n",
      "93     1/10    This movie should have never have been nomin...\n",
      "94     1/10    I have said it before, and I'll say it again...\n",
      "95     1/10    I don't see what all the hype is about this ...\n",
      "96     1/10    Your average American loves Titanic. This is...\n",
      "97     1/10    Actually reading a lot of the previous revie...\n",
      "98     1/10    Why does everyone say this is a good movie w...\n",
      "99     1/10    What a dog! A wonderful exercise by Hollywoo...\n",
      "100    1/10    Why is this the biggest grossing movie of al...\n"
     ]
    }
   ],
   "source": [
    "imdb.columns = ['ratings', 'reviews']\n",
    "imdb = imdb.sort_index()\n",
    "print imdb.head(10)\n",
    "print imdb.tail(10)"
   ]
  },
  {
   "cell_type": "code",
   "execution_count": 7,
   "metadata": {
    "collapsed": true
   },
   "outputs": [],
   "source": [
    "# Convert user ratings from string to float \n",
    "temp_ratings =  imdb['ratings'].str.split('/', expand = True ).astype(float)\n",
    "temp_ratings['divide'] = temp_ratings[0].div(temp_ratings[1], axis='index')\n",
    "imdb['ratings'] = temp_ratings['divide']"
   ]
  },
  {
   "cell_type": "code",
   "execution_count": 8,
   "metadata": {},
   "outputs": [
    {
     "data": {
      "text/html": [
       "<div>\n",
       "<table border=\"1\" class=\"dataframe\">\n",
       "  <thead>\n",
       "    <tr style=\"text-align: right;\">\n",
       "      <th></th>\n",
       "      <th>ratings</th>\n",
       "      <th>reviews</th>\n",
       "    </tr>\n",
       "  </thead>\n",
       "  <tbody>\n",
       "    <tr>\n",
       "      <th>91</th>\n",
       "      <td>0.1</td>\n",
       "      <td>Alright... where to begin. This is.. without...</td>\n",
       "    </tr>\n",
       "    <tr>\n",
       "      <th>92</th>\n",
       "      <td>0.1</td>\n",
       "      <td>This movie is the biggest waste of an opportu...</td>\n",
       "    </tr>\n",
       "    <tr>\n",
       "      <th>93</th>\n",
       "      <td>0.1</td>\n",
       "      <td>This movie should have never have been nomin...</td>\n",
       "    </tr>\n",
       "    <tr>\n",
       "      <th>94</th>\n",
       "      <td>0.1</td>\n",
       "      <td>I have said it before, and I'll say it again...</td>\n",
       "    </tr>\n",
       "    <tr>\n",
       "      <th>95</th>\n",
       "      <td>0.1</td>\n",
       "      <td>I don't see what all the hype is about this ...</td>\n",
       "    </tr>\n",
       "    <tr>\n",
       "      <th>96</th>\n",
       "      <td>0.1</td>\n",
       "      <td>Your average American loves Titanic. This is...</td>\n",
       "    </tr>\n",
       "    <tr>\n",
       "      <th>97</th>\n",
       "      <td>0.1</td>\n",
       "      <td>Actually reading a lot of the previous revie...</td>\n",
       "    </tr>\n",
       "    <tr>\n",
       "      <th>98</th>\n",
       "      <td>0.1</td>\n",
       "      <td>Why does everyone say this is a good movie w...</td>\n",
       "    </tr>\n",
       "    <tr>\n",
       "      <th>99</th>\n",
       "      <td>0.1</td>\n",
       "      <td>What a dog! A wonderful exercise by Hollywoo...</td>\n",
       "    </tr>\n",
       "    <tr>\n",
       "      <th>100</th>\n",
       "      <td>0.1</td>\n",
       "      <td>Why is this the biggest grossing movie of al...</td>\n",
       "    </tr>\n",
       "  </tbody>\n",
       "</table>\n",
       "</div>"
      ],
      "text/plain": [
       "     ratings                                            reviews\n",
       "91       0.1    Alright... where to begin. This is.. without...\n",
       "92       0.1   This movie is the biggest waste of an opportu...\n",
       "93       0.1    This movie should have never have been nomin...\n",
       "94       0.1    I have said it before, and I'll say it again...\n",
       "95       0.1    I don't see what all the hype is about this ...\n",
       "96       0.1    Your average American loves Titanic. This is...\n",
       "97       0.1    Actually reading a lot of the previous revie...\n",
       "98       0.1    Why does everyone say this is a good movie w...\n",
       "99       0.1    What a dog! A wonderful exercise by Hollywoo...\n",
       "100      0.1    Why is this the biggest grossing movie of al..."
      ]
     },
     "execution_count": 8,
     "metadata": {},
     "output_type": "execute_result"
    }
   ],
   "source": [
    "imdb.tail(10)"
   ]
  },
  {
   "cell_type": "markdown",
   "metadata": {},
   "source": [
    "\n",
    "### Identify polarity & subjectivity ( sentiment analysis ) of all movie reviews \n"
   ]
  },
  {
   "cell_type": "code",
   "execution_count": 9,
   "metadata": {},
   "outputs": [
    {
     "data": {
      "text/html": [
       "<div>\n",
       "<table border=\"1\" class=\"dataframe\">\n",
       "  <thead>\n",
       "    <tr style=\"text-align: right;\">\n",
       "      <th></th>\n",
       "      <th>ratings</th>\n",
       "      <th>reviews</th>\n",
       "      <th>polarity</th>\n",
       "      <th>subjectivity</th>\n",
       "    </tr>\n",
       "  </thead>\n",
       "  <tbody>\n",
       "    <tr>\n",
       "      <th>91</th>\n",
       "      <td>0.1</td>\n",
       "      <td>Alright... where to begin. This is.. without...</td>\n",
       "      <td>0.298106</td>\n",
       "      <td>0.504167</td>\n",
       "    </tr>\n",
       "    <tr>\n",
       "      <th>92</th>\n",
       "      <td>0.1</td>\n",
       "      <td>This movie is the biggest waste of an opportu...</td>\n",
       "      <td>0.097222</td>\n",
       "      <td>0.701111</td>\n",
       "    </tr>\n",
       "    <tr>\n",
       "      <th>93</th>\n",
       "      <td>0.1</td>\n",
       "      <td>This movie should have never have been nomin...</td>\n",
       "      <td>0.031250</td>\n",
       "      <td>0.575000</td>\n",
       "    </tr>\n",
       "    <tr>\n",
       "      <th>94</th>\n",
       "      <td>0.1</td>\n",
       "      <td>I have said it before, and I'll say it again...</td>\n",
       "      <td>0.113091</td>\n",
       "      <td>0.514425</td>\n",
       "    </tr>\n",
       "    <tr>\n",
       "      <th>95</th>\n",
       "      <td>0.1</td>\n",
       "      <td>I don't see what all the hype is about this ...</td>\n",
       "      <td>-0.030919</td>\n",
       "      <td>0.421402</td>\n",
       "    </tr>\n",
       "    <tr>\n",
       "      <th>96</th>\n",
       "      <td>0.1</td>\n",
       "      <td>Your average American loves Titanic. This is...</td>\n",
       "      <td>0.014734</td>\n",
       "      <td>0.471261</td>\n",
       "    </tr>\n",
       "    <tr>\n",
       "      <th>97</th>\n",
       "      <td>0.1</td>\n",
       "      <td>Actually reading a lot of the previous revie...</td>\n",
       "      <td>-0.088302</td>\n",
       "      <td>0.528534</td>\n",
       "    </tr>\n",
       "    <tr>\n",
       "      <th>98</th>\n",
       "      <td>0.1</td>\n",
       "      <td>Why does everyone say this is a good movie w...</td>\n",
       "      <td>-0.027848</td>\n",
       "      <td>0.636391</td>\n",
       "    </tr>\n",
       "    <tr>\n",
       "      <th>99</th>\n",
       "      <td>0.1</td>\n",
       "      <td>What a dog! A wonderful exercise by Hollywoo...</td>\n",
       "      <td>0.097994</td>\n",
       "      <td>0.432562</td>\n",
       "    </tr>\n",
       "    <tr>\n",
       "      <th>100</th>\n",
       "      <td>0.1</td>\n",
       "      <td>Why is this the biggest grossing movie of al...</td>\n",
       "      <td>0.167273</td>\n",
       "      <td>0.290909</td>\n",
       "    </tr>\n",
       "  </tbody>\n",
       "</table>\n",
       "</div>"
      ],
      "text/plain": [
       "     ratings                                            reviews  polarity  \\\n",
       "91       0.1    Alright... where to begin. This is.. without...  0.298106   \n",
       "92       0.1   This movie is the biggest waste of an opportu...  0.097222   \n",
       "93       0.1    This movie should have never have been nomin...  0.031250   \n",
       "94       0.1    I have said it before, and I'll say it again...  0.113091   \n",
       "95       0.1    I don't see what all the hype is about this ... -0.030919   \n",
       "96       0.1    Your average American loves Titanic. This is...  0.014734   \n",
       "97       0.1    Actually reading a lot of the previous revie... -0.088302   \n",
       "98       0.1    Why does everyone say this is a good movie w... -0.027848   \n",
       "99       0.1    What a dog! A wonderful exercise by Hollywoo...  0.097994   \n",
       "100      0.1    Why is this the biggest grossing movie of al...  0.167273   \n",
       "\n",
       "     subjectivity  \n",
       "91       0.504167  \n",
       "92       0.701111  \n",
       "93       0.575000  \n",
       "94       0.514425  \n",
       "95       0.421402  \n",
       "96       0.471261  \n",
       "97       0.528534  \n",
       "98       0.636391  \n",
       "99       0.432562  \n",
       "100      0.290909  "
      ]
     },
     "execution_count": 9,
     "metadata": {},
     "output_type": "execute_result"
    }
   ],
   "source": [
    "# Find polarity and subjectivity of the reviews ( sentiment analysis)\n",
    "\n",
    "imdb['polarity'] = imdb.reviews.apply(lambda s: TextBlob(unicode(s, errors='ignore')).sentiment.polarity)\n",
    "imdb['subjectivity'] = imdb.reviews.apply(lambda s: TextBlob(unicode(s, errors='ignore')).sentiment.subjectivity)\n",
    "imdb.head(15)\n",
    "imdb.tail(10)"
   ]
  },
  {
   "cell_type": "code",
   "execution_count": 12,
   "metadata": {},
   "outputs": [
    {
     "data": {
      "text/html": [
       "<div>\n",
       "<table border=\"1\" class=\"dataframe\">\n",
       "  <thead>\n",
       "    <tr style=\"text-align: right;\">\n",
       "      <th></th>\n",
       "      <th>ratings</th>\n",
       "      <th>reviews</th>\n",
       "      <th>polarity</th>\n",
       "      <th>subjectivity</th>\n",
       "    </tr>\n",
       "  </thead>\n",
       "  <tbody>\n",
       "    <tr>\n",
       "      <th>1</th>\n",
       "      <td>1.0</td>\n",
       "      <td>Every once in a while the conversation will t...</td>\n",
       "      <td>0.158136</td>\n",
       "      <td>0.558948</td>\n",
       "    </tr>\n",
       "    <tr>\n",
       "      <th>2</th>\n",
       "      <td>1.0</td>\n",
       "      <td>To all the miserable people who have done ev...</td>\n",
       "      <td>0.152778</td>\n",
       "      <td>0.563889</td>\n",
       "    </tr>\n",
       "    <tr>\n",
       "      <th>3</th>\n",
       "      <td>1.0</td>\n",
       "      <td>I find it so amazing that even after all the...</td>\n",
       "      <td>0.240171</td>\n",
       "      <td>0.453155</td>\n",
       "    </tr>\n",
       "    <tr>\n",
       "      <th>4</th>\n",
       "      <td>1.0</td>\n",
       "      <td>This movie re-wrote film history in every way...</td>\n",
       "      <td>0.441667</td>\n",
       "      <td>0.682143</td>\n",
       "    </tr>\n",
       "    <tr>\n",
       "      <th>5</th>\n",
       "      <td>1.0</td>\n",
       "      <td>Back in 1997, do I remember that year: Clinto...</td>\n",
       "      <td>0.257593</td>\n",
       "      <td>0.607704</td>\n",
       "    </tr>\n",
       "    <tr>\n",
       "      <th>6</th>\n",
       "      <td>1.0</td>\n",
       "      <td>James Cameron's 'Titanic' is essentially a ro...</td>\n",
       "      <td>0.133479</td>\n",
       "      <td>0.567009</td>\n",
       "    </tr>\n",
       "    <tr>\n",
       "      <th>7</th>\n",
       "      <td>1.0</td>\n",
       "      <td>It's a crying freaking shame that this outsta...</td>\n",
       "      <td>0.168599</td>\n",
       "      <td>0.589010</td>\n",
       "    </tr>\n",
       "    <tr>\n",
       "      <th>8</th>\n",
       "      <td>1.0</td>\n",
       "      <td>Thirteen years after Titanic launched and all...</td>\n",
       "      <td>0.210227</td>\n",
       "      <td>0.517424</td>\n",
       "    </tr>\n",
       "    <tr>\n",
       "      <th>9</th>\n",
       "      <td>1.0</td>\n",
       "      <td>When you have a film this big and successful...</td>\n",
       "      <td>0.168932</td>\n",
       "      <td>0.568299</td>\n",
       "    </tr>\n",
       "    <tr>\n",
       "      <th>10</th>\n",
       "      <td>1.0</td>\n",
       "      <td>It really physically hurts me when i don't se...</td>\n",
       "      <td>0.285317</td>\n",
       "      <td>0.462982</td>\n",
       "    </tr>\n",
       "    <tr>\n",
       "      <th>11</th>\n",
       "      <td>1.0</td>\n",
       "      <td>Good Lord. This movie right here, it's a mast...</td>\n",
       "      <td>0.219643</td>\n",
       "      <td>0.628671</td>\n",
       "    </tr>\n",
       "    <tr>\n",
       "      <th>12</th>\n",
       "      <td>1.0</td>\n",
       "      <td>This is EXACTLY what I think: It annoys me wh...</td>\n",
       "      <td>0.198482</td>\n",
       "      <td>0.449656</td>\n",
       "    </tr>\n",
       "    <tr>\n",
       "      <th>13</th>\n",
       "      <td>1.0</td>\n",
       "      <td>Titanic is one of my all time favourite films...</td>\n",
       "      <td>0.300154</td>\n",
       "      <td>0.573118</td>\n",
       "    </tr>\n",
       "    <tr>\n",
       "      <th>14</th>\n",
       "      <td>1.0</td>\n",
       "      <td>Even though some of the actual events did not...</td>\n",
       "      <td>0.367708</td>\n",
       "      <td>0.519792</td>\n",
       "    </tr>\n",
       "    <tr>\n",
       "      <th>15</th>\n",
       "      <td>1.0</td>\n",
       "      <td>The work done off screen was completely worth...</td>\n",
       "      <td>0.259101</td>\n",
       "      <td>0.540046</td>\n",
       "    </tr>\n",
       "  </tbody>\n",
       "</table>\n",
       "</div>"
      ],
      "text/plain": [
       "    ratings                                            reviews  polarity  \\\n",
       "1       1.0   Every once in a while the conversation will t...  0.158136   \n",
       "2       1.0    To all the miserable people who have done ev...  0.152778   \n",
       "3       1.0    I find it so amazing that even after all the...  0.240171   \n",
       "4       1.0   This movie re-wrote film history in every way...  0.441667   \n",
       "5       1.0   Back in 1997, do I remember that year: Clinto...  0.257593   \n",
       "6       1.0   James Cameron's 'Titanic' is essentially a ro...  0.133479   \n",
       "7       1.0   It's a crying freaking shame that this outsta...  0.168599   \n",
       "8       1.0   Thirteen years after Titanic launched and all...  0.210227   \n",
       "9       1.0    When you have a film this big and successful...  0.168932   \n",
       "10      1.0   It really physically hurts me when i don't se...  0.285317   \n",
       "11      1.0   Good Lord. This movie right here, it's a mast...  0.219643   \n",
       "12      1.0   This is EXACTLY what I think: It annoys me wh...  0.198482   \n",
       "13      1.0   Titanic is one of my all time favourite films...  0.300154   \n",
       "14      1.0   Even though some of the actual events did not...  0.367708   \n",
       "15      1.0   The work done off screen was completely worth...  0.259101   \n",
       "\n",
       "    subjectivity  \n",
       "1       0.558948  \n",
       "2       0.563889  \n",
       "3       0.453155  \n",
       "4       0.682143  \n",
       "5       0.607704  \n",
       "6       0.567009  \n",
       "7       0.589010  \n",
       "8       0.517424  \n",
       "9       0.568299  \n",
       "10      0.462982  \n",
       "11      0.628671  \n",
       "12      0.449656  \n",
       "13      0.573118  \n",
       "14      0.519792  \n",
       "15      0.540046  "
      ]
     },
     "execution_count": 12,
     "metadata": {},
     "output_type": "execute_result"
    }
   ],
   "source": [
    "imdb.head(15)"
   ]
  },
  {
   "cell_type": "markdown",
   "metadata": {},
   "source": [
    "### Co-relation between movie review polarity and star ratings from the users \n"
   ]
  },
  {
   "cell_type": "code",
   "execution_count": 8,
   "metadata": {},
   "outputs": [
    {
     "name": "stdout",
     "output_type": "stream",
     "text": [
      "               ratings  polarity  subjectivity\n",
      "ratings       1.000000  0.626604      0.212020\n",
      "polarity      0.626604  1.000000      0.220655\n",
      "subjectivity  0.212020  0.220655      1.000000\n"
     ]
    },
    {
     "data": {
      "image/png": "[encoded data removed]",
      "text/plain": [
       "<matplotlib.figure.Figure at 0x7f076f21ae90>"
      ]
     },
     "metadata": {},
     "output_type": "display_data"
    }
   ],
   "source": [
    "print imdb[['ratings','polarity','subjectivity']].corr()\n",
    "\n",
    "ax = imdb['polarity'][1:50].plot(figsize=(12, 6))\n",
    "ax = imdb['polarity'][51:100].plot(figsize=(12, 6))\n",
    "ax.set_xlabel(\"IMDB 100 Reviews\", fontsize=12)\n",
    "ax.set_ylabel(\"Polarity\", fontsize=12)\n",
    "plt.show()\n"
   ]
  },
  {
   "cell_type": "code",
   "execution_count": 13,
   "metadata": {},
   "outputs": [
    {
     "name": "stdout",
     "output_type": "stream",
     "text": [
      "           ratings  polarity\n",
      "ratings   1.000000  0.654353\n",
      "polarity  0.654353  1.000000\n"
     ]
    }
   ],
   "source": [
    "print imdb[['ratings','polarity']].corr()"
   ]
  },
  {
   "cell_type": "code",
   "execution_count": 10,
   "metadata": {
    "scrolled": true
   },
   "outputs": [
    {
     "data": {
      "text/plain": [
       "2    0.152778\n",
       "3    0.240171\n",
       "4    0.441667\n",
       "5    0.257593\n",
       "Name: polarity, dtype: float64"
      ]
     },
     "execution_count": 10,
     "metadata": {},
     "output_type": "execute_result"
    }
   ],
   "source": [
    " imdb['polarity'][1:5]"
   ]
  },
  {
   "cell_type": "code",
   "execution_count": 12,
   "metadata": {},
   "outputs": [
    {
     "data": {
      "text/plain": [
       "1.0"
      ]
     },
     "execution_count": 12,
     "metadata": {},
     "output_type": "execute_result"
    }
   ],
   "source": [
    "text = \" this is a awesome review , but i would consider this as pathetic\"\n",
    "blob = TextBlob(text)\n",
    "\n",
    "TextBlob(unicode(text, errors='ignore')).sentiment.subjectivity"
   ]
  },
  {
   "cell_type": "markdown",
   "metadata": {},
   "source": [
    "### Stopwords = [ NLTK stopwords + Extended words from multiple iterations of text analysis ) "
   ]
  },
  {
   "cell_type": "code",
   "execution_count": 13,
   "metadata": {
    "scrolled": false
   },
   "outputs": [
    {
     "name": "stdout",
     "output_type": "stream",
     "text": [
      "[u'i', u'me', u'my', u'myself', u'we', u'our', u'ours', u'ourselves', u'you', u'your', u'yours', u'yourself', u'yourselves', u'he', u'him', u'his', u'himself', u'she', u'her', u'hers', u'herself', u'it', u'its', u'itself', u'they', u'them', u'their', u'theirs', u'themselves', u'what', u'which', u'who', u'whom', u'this', u'that', u'these', u'those', u'am', u'is', u'are', u'was', u'were', u'be', u'been', u'being', u'have', u'has', u'had', u'having', u'do', u'does', u'did', u'doing', u'a', u'an', u'the', u'and', u'but', u'if', u'or', u'because', u'as', u'until', u'while', u'of', u'at', u'by', u'for', u'with', u'about', u'against', u'between', u'into', u'through', u'during', u'before', u'after', u'above', u'below', u'to', u'from', u'up', u'down', u'in', u'out', u'on', u'off', u'over', u'under', u'again', u'further', u'then', u'once', u'here', u'there', u'when', u'where', u'why', u'how', u'all', u'any', u'both', u'each', u'few', u'more', u'most', u'other', u'some', u'such', u'no', u'nor', u'not', u'only', u'own', u'same', u'so', u'than', u'too', u'very', u's', u't', u'can', u'will', u'just', u'don', u'should', u'now', u'd', u'll', u'm', u'o', u're', u've', u'y', u'ain', u'aren', u'couldn', u'didn', u'doesn', u'hadn', u'hasn', u'haven', u'isn', u'ma', u'mightn', u'mustn', u'needn', u'shan', u'shouldn', u'wasn', u'weren', u'won', u'wouldn', \"'ll\", \"'d\", \"'m\", \"'re\", \"'s\", \"'ve\", \"ca n't\", 'r', \"n't\", 'ca', 'see', 'get', 'movies', 'movie', 'go', 'say', 'come', 'many', 'another', 'could', 'would', 'made', 'really', 'want', 'even', 'odd', 'films', 'plot', 'ever', 'actually', 'also', 'movie', 'film']\n"
     ]
    }
   ],
   "source": [
    "stop_words = nltk.corpus.stopwords.words('english')\n",
    "extended_stopwords = ['\\'ll','\\'d','\\'m','\\'re','\\'s','\\'ve','ca n\\'t','r','n\\'t','ca','see','get','movies','movie','go','say','come','many','another','could','would','made','really','want','even','odd','films','plot','ever','actually','also','movie','film']\n",
    "stopwords = stop_words + extended_stopwords\n",
    "\n",
    "print stopwords"
   ]
  },
  {
   "cell_type": "markdown",
   "metadata": {},
   "source": [
    "\n",
    "###  Document Term Matrix using TF-IDF weighing scheme ( unigrams & bigrams ) \n"
   ]
  },
  {
   "cell_type": "code",
   "execution_count": 15,
   "metadata": {
    "scrolled": true
   },
   "outputs": [
    {
     "name": "stdout",
     "output_type": "stream",
     "text": [
      "CPU times: user 380 ms, sys: 20 ms, total: 400 ms\n",
      "Wall time: 377 ms\n",
      "(100, 42)\n"
     ]
    }
   ],
   "source": [
    "term_idf_vectorizer       = TfidfVectorizer(max_df=0.9, max_features=2000,min_df=0.2, stop_words=stopwords, use_idf=True, tokenizer=tokenize, ngram_range=(1,1))\n",
    "%time term_idf_matrix     = term_idf_vectorizer.fit_transform(imdb.reviews) \n",
    "term_idf_feature_names    = term_idf_vectorizer.get_feature_names()\n",
    "print (term_idf_matrix).shape"
   ]
  },
  {
   "cell_type": "markdown",
   "metadata": {},
   "source": [
    "### TF-IDF Features on model params  ( min_df = 0.3 , max_df = 0.9 )"
   ]
  },
  {
   "cell_type": "code",
   "execution_count": 16,
   "metadata": {},
   "outputs": [
    {
     "name": "stdout",
     "output_type": "stream",
     "text": [
      "[u'acting', u'best', u'better', u'cameron', u'characters', u'dicaprio', u'disaster', u'effects', u'every', u'first', u'good', u'great', u'hours', u'jack', u'james', u'kate', u'know', u'leonardo', u'life', u'like', u'love', u'make', u'much', u'never', u'one', u'people', u'rose', u'seen', u'ship', u'sinking', u'special', u'still', u'story', u'think', u'time', u'times', u'titanic', u'two', u'watch', u'way', u'well', u'winslet']\n"
     ]
    },
    {
     "data": {
      "text/plain": [
       "[(u'titanic', 17.626590222509247),\n",
       " (u'one', 13.211957745078777),\n",
       " (u'love', 12.230488865533097),\n",
       " (u'people', 12.013901397062293),\n",
       " (u'ship', 11.836631605644003),\n",
       " (u'time', 11.31619812623377),\n",
       " (u'story', 11.090597352939504),\n",
       " (u'like', 10.162975853455603),\n",
       " (u'cameron', 9.8618963430581292),\n",
       " (u'best', 8.6579386437821189),\n",
       " (u'rose', 8.6398108245288903),\n",
       " (u'jack', 8.4676706001685051),\n",
       " (u'good', 7.8338524573719317),\n",
       " (u'effects', 7.7517857502390877),\n",
       " (u'great', 7.6691982141145605),\n",
       " (u'james', 7.6027791024468625),\n",
       " (u'winslet', 7.5396571444955027),\n",
       " (u'seen', 7.5145752695694243),\n",
       " (u'never', 7.2983087567258087),\n",
       " (u'every', 6.9948687318212093),\n",
       " (u'watch', 6.8684168722304868),\n",
       " (u'two', 6.7539253740925851),\n",
       " (u'special', 6.7355732010118619),\n",
       " (u'think', 6.6984485126159088),\n",
       " (u'dicaprio', 6.6326902837130888),\n",
       " (u'acting', 6.5874552092916812),\n",
       " (u'much', 6.5381385757945516),\n",
       " (u'first', 6.5276457965125765),\n",
       " (u'kate', 6.4983942984604077),\n",
       " (u'way', 6.3407714589391393),\n",
       " (u'well', 6.3286995581896281),\n",
       " (u'make', 6.2972916588788976),\n",
       " (u'characters', 6.2252185555346919),\n",
       " (u'life', 6.183897520699551),\n",
       " (u'hours', 6.1227783377737266),\n",
       " (u'sinking', 5.9274989109231875),\n",
       " (u'know', 5.8054626607318323),\n",
       " (u'still', 5.5824629679433784),\n",
       " (u'better', 5.1824798240023222),\n",
       " (u'times', 4.9476610710868272),\n",
       " (u'leonardo', 4.5343383861361932),\n",
       " (u'disaster', 4.4339116322294361)]"
      ]
     },
     "execution_count": 16,
     "metadata": {},
     "output_type": "execute_result"
    }
   ],
   "source": [
    "print term_idf_feature_names\n",
    "\n",
    "tfidf = zip(term_idf_vectorizer.get_feature_names(),np.asarray(term_idf_matrix.sum(axis=0)).ravel())\n",
    "term_idf_frequency = sorted(tfidf,key=lambda x: x[1],reverse=True)\n",
    "term_idf_frequency\n",
    "\n"
   ]
  },
  {
   "cell_type": "markdown",
   "metadata": {},
   "source": [
    "###  Document Term Matrix using Term Frequency (TF)  weighing scheme ( unigrams & bigrams ) "
   ]
  },
  {
   "cell_type": "code",
   "execution_count": 18,
   "metadata": {},
   "outputs": [
    {
     "name": "stdout",
     "output_type": "stream",
     "text": [
      "CPU times: user 416 ms, sys: 16 ms, total: 432 ms\n",
      "Wall time: 416 ms\n",
      "(100, 47)\n"
     ]
    }
   ],
   "source": [
    "count_vectorizer    = CountVectorizer(max_df=0.9, max_features=2000,min_df=0.2, stop_words=stopwords, tokenizer=tokenize, ngram_range=(1,2))\n",
    "%time term_frequency_matrix = count_vectorizer.fit_transform(imdb.reviews) \n",
    "term_frequency_feature_names    = count_vectorizer.get_feature_names()\n",
    "print (term_frequency_matrix).shape "
   ]
  },
  {
   "cell_type": "markdown",
   "metadata": {},
   "source": [
    "### Term Frequency  Features on model params  ( min_df = 0.3 , max_df = 0.9 )"
   ]
  },
  {
   "cell_type": "code",
   "execution_count": 19,
   "metadata": {
    "scrolled": false
   },
   "outputs": [
    {
     "name": "stdout",
     "output_type": "stream",
     "text": [
      "[u'acting', u'best', u'better', u'cameron', u'characters', u'dicaprio', u'disaster', u'effects', u'every', u'first', u'good', u'great', u'hours', u'jack', u'james', u'james cameron', u'kate', u'kate winslet', u'know', u'leonardo', u'leonardo dicaprio', u'life', u'like', u'love', u'love story', u'make', u'much', u'never', u'one', u'people', u'rose', u'seen', u'ship', u'sinking', u'special', u'special effects', u'still', u'story', u'think', u'time', u'times', u'titanic', u'two', u'watch', u'way', u'well', u'winslet']\n"
     ]
    },
    {
     "data": {
      "text/plain": [
       "[(u'titanic', 182),\n",
       " (u'love', 110),\n",
       " (u'one', 109),\n",
       " (u'ship', 103),\n",
       " (u'story', 98),\n",
       " (u'time', 94),\n",
       " (u'people', 84),\n",
       " (u'cameron', 81),\n",
       " (u'like', 76),\n",
       " (u'rose', 65),\n",
       " (u'jack', 61),\n",
       " (u'james', 58),\n",
       " (u'best', 55),\n",
       " (u'winslet', 54),\n",
       " (u'effects', 51),\n",
       " (u'dicaprio', 47),\n",
       " (u'good', 47),\n",
       " (u'great', 46),\n",
       " (u'love story', 46),\n",
       " (u'well', 43),\n",
       " (u'james cameron', 42),\n",
       " (u'kate', 42),\n",
       " (u'much', 42),\n",
       " (u'never', 42),\n",
       " (u'seen', 42),\n",
       " (u'special', 42),\n",
       " (u'every', 40),\n",
       " (u'think', 40),\n",
       " (u'sinking', 39),\n",
       " (u'make', 38),\n",
       " (u'watch', 37),\n",
       " (u'characters', 36),\n",
       " (u'special effects', 36),\n",
       " (u'two', 36),\n",
       " (u'still', 34),\n",
       " (u'acting', 33),\n",
       " (u'kate winslet', 32),\n",
       " (u'way', 31),\n",
       " (u'better', 30),\n",
       " (u'first', 30),\n",
       " (u'know', 30),\n",
       " (u'life', 29),\n",
       " (u'leonardo', 28),\n",
       " (u'disaster', 27),\n",
       " (u'hours', 26),\n",
       " (u'times', 26),\n",
       " (u'leonardo dicaprio', 20)]"
      ]
     },
     "execution_count": 19,
     "metadata": {},
     "output_type": "execute_result"
    }
   ],
   "source": [
    "print term_frequency_feature_names\n",
    "\n",
    "tf = zip(count_vectorizer.get_feature_names(),np.asarray(term_frequency_matrix.sum(axis=0)).ravel())\n",
    "term_frequency = sorted(tf,key=lambda x: x[1],reverse=True)\n",
    "term_frequency"
   ]
  },
  {
   "cell_type": "markdown",
   "metadata": {},
   "source": [
    "### Topic extraction with Non-negative Matrix Factorization using TF-IDF Features "
   ]
  },
  {
   "cell_type": "code",
   "execution_count": 24,
   "metadata": {},
   "outputs": [
    {
     "name": "stdout",
     "output_type": "stream",
     "text": [
      "CPU times: user 64 ms, sys: 124 ms, total: 188 ms\n",
      "Wall time: 58.8 ms\n",
      "\n",
      "Fitting the Non-negative Matrix Factorization model with tf-idf features: \n",
      "\n",
      "Topic #0:\n",
      "titanic jack rose ship winslet well story dicaprio love kate\n",
      "Topic #1:\n",
      "time people one like think every watch love seen titanic\n",
      "Topic #2:\n",
      "effects special cameron good characters james make hours sinking story\n",
      "()\n"
     ]
    }
   ],
   "source": [
    "# Fit the NMF model\n",
    "%time nmf = NMF(n_components=3, random_state=1,alpha=.1, l1_ratio=.5).fit(term_idf_matrix)\n",
    "\n",
    "print(\"\\nFitting the Non-negative Matrix Factorization model with tf-idf features: \\n\")\n",
    "print_top_words(nmf, term_idf_feature_names, 10)"
   ]
  },
  {
   "cell_type": "markdown",
   "metadata": {},
   "source": [
    "### Topic extraction with Latent Dirichlet Allocation using TF Features "
   ]
  },
  {
   "cell_type": "code",
   "execution_count": 27,
   "metadata": {},
   "outputs": [
    {
     "name": "stdout",
     "output_type": "stream",
     "text": [
      "CPU times: user 384 ms, sys: 0 ns, total: 384 ms\n",
      "Wall time: 389 ms\n",
      "\n",
      "Topics using Latent Dirichlet Allocation model with Term frequencies: \n",
      "\n",
      "Topic #0:\n",
      "titanic ship love rose jack story one cameron never james\n",
      "Topic #1:\n",
      "titanic time one people love like story cameron effects best\n",
      "()\n"
     ]
    }
   ],
   "source": [
    "lda = LatentDirichletAllocation(n_topics=2, max_iter=10,learning_method='online',learning_offset=10.,random_state=1)\n",
    "%time lda.fit(term_frequency_matrix)\n",
    "print(\"\\nTopics using Latent Dirichlet Allocation model with Term frequencies: \\n\")\n",
    "print_top_words(lda, term_frequency_feature_names, 10)"
   ]
  },
  {
   "cell_type": "markdown",
   "metadata": {},
   "source": [
    "###  LDA Topic modeling using only Bigram features  based on frequency ( avoid unigram noise ) "
   ]
  },
  {
   "cell_type": "code",
   "execution_count": 28,
   "metadata": {
    "scrolled": false
   },
   "outputs": [
    {
     "name": "stdout",
     "output_type": "stream",
     "text": [
      "CPU times: user 380 ms, sys: 12 ms, total: 392 ms\n",
      "Wall time: 374 ms\n",
      "(100, 26)\n",
      "\n",
      " Bigram Features based on Term Frequency \n",
      " \n"
     ]
    },
    {
     "data": {
      "text/plain": [
       "[(u'love story', 46),\n",
       " (u'james cameron', 42),\n",
       " (u'special effects', 36),\n",
       " (u'kate winslet', 32),\n",
       " (u'leonardo dicaprio', 20),\n",
       " (u'jack rose', 18),\n",
       " (u'billy zane', 17),\n",
       " (u'kathy bates', 12),\n",
       " (u'first time', 11),\n",
       " (u'jack dawson', 10),\n",
       " (u'every time', 9),\n",
       " (u'ship sinking', 9),\n",
       " (u'celine dion', 8),\n",
       " (u'gloria stuart', 8),\n",
       " (u'sinking ship', 8),\n",
       " (u'dicaprio winslet', 7),\n",
       " (u'james horner', 7),\n",
       " (u'one best', 7),\n",
       " (u'best picture', 6),\n",
       " (u'dicaprio kate', 6),\n",
       " (u'dicaprio kate winslet', 6),\n",
       " (u'fall love', 6),\n",
       " (u'falls love', 6),\n",
       " (u'much money', 6),\n",
       " (u'ship sink', 6),\n",
       " (u'year old', 6)]"
      ]
     },
     "execution_count": 28,
     "metadata": {},
     "output_type": "execute_result"
    }
   ],
   "source": [
    "bigram_vectorizer    = CountVectorizer(max_df=0.9, max_features=200,min_df=0.06, stop_words=stopwords, tokenizer=tokenize, ngram_range=(2,3))\n",
    "%time dtm_bigram_matrix = bigram_vectorizer.fit_transform(imdb.reviews) \n",
    "bigram_frequency_feature_names    = bigram_vectorizer.get_feature_names()\n",
    "print (dtm_bigram_matrix).shape\n",
    "print (\"\\n Bigram Features based on Term Frequency \\n \")\n",
    "tf = zip(bigram_vectorizer.get_feature_names(),np.asarray(dtm_bigram_matrix.sum(axis=0)).ravel())\n",
    "bigram_term_frequency = sorted(tf,key=lambda x: x[1],reverse=True)\n",
    "bigram_term_frequency"
   ]
  },
  {
   "cell_type": "code",
   "execution_count": 16,
   "metadata": {
    "collapsed": true
   },
   "outputs": [],
   "source": [
    "#from IPython.display import Image\n",
    "#Image(filename='up_imdb_review.png')"
   ]
  },
  {
   "cell_type": "markdown",
   "metadata": {},
   "source": [
    "###  Topics = 5 , Displaying top 10 words based on probability "
   ]
  },
  {
   "cell_type": "code",
   "execution_count": 29,
   "metadata": {},
   "outputs": [
    {
     "name": "stdout",
     "output_type": "stream",
     "text": [
      "CPU times: user 96 ms, sys: 0 ns, total: 96 ms\n",
      "Wall time: 93.2 ms\n",
      "\n",
      "Topics using Latent Dirichlet Allocation model with Term frequencies: \n",
      "\n",
      "Topic #0:\n",
      "james cameron kate winslet billy zane leonardo dicaprio kathy bates\n",
      "Topic #1:\n",
      "love story special effects jack rose james cameron leonardo dicaprio\n",
      "()\n"
     ]
    }
   ],
   "source": [
    "lda = LatentDirichletAllocation(n_topics=2, max_iter=4,learning_method='batch',learning_offset=50.,random_state=0)\n",
    "%time lda.fit(dtm_bigram_matrix)\n",
    "print(\"\\nTopics using Latent Dirichlet Allocation model with Term frequencies: \\n\")\n",
    "print_top_words(lda, bigram_frequency_feature_names,5)"
   ]
  },
  {
   "cell_type": "markdown",
   "metadata": {},
   "source": [
    "###  Recommendation based on movie attributes [ Titanic( 1997)  ] "
   ]
  },
  {
   "cell_type": "markdown",
   "metadata": {},
   "source": [
    "    [ Floating house, Paradise falls, Thousands Balloons, Old man & Boy , Retirement Home flying to South America, Boy scout, bird = Kevin ] \n",
    "     \n",
    "     Very innovative animation movie ( may be better than toy story ) which will attract young and old because of its characters. The director needs to retain the theme where he effectively utilized talking animals, explorer , adventures, bonding ( young kid with old man ) which got him success. \n",
    "     \n",
    "     Pixar , Disney should make more animation movies with actors Edward Asner , Christopher Plummer & Jordan Nagai\n",
    "    "
   ]
  },
  {
   "cell_type": "code",
   "execution_count": 33,
   "metadata": {},
   "outputs": [
    {
     "name": "stdout",
     "output_type": "stream",
     "text": [
      "CPU times: user 300 ms, sys: 12 ms, total: 312 ms\n",
      "Wall time: 298 ms\n",
      "(100, 42)\n"
     ]
    }
   ],
   "source": [
    "term_idf_vectorizer       = TfidfVectorizer(max_df=0.9, max_features=2000,min_df=0.2, stop_words=stopwords, use_idf=False, tokenizer=tokenize, ngram_range=(1,1))\n",
    "%time term_idf_matrix     = term_idf_vectorizer.fit_transform(imdb.reviews) \n",
    "term_idf_feature_names    = term_idf_vectorizer.get_feature_names()\n",
    "print (term_idf_matrix).shape"
   ]
  },
  {
   "cell_type": "code",
   "execution_count": 34,
   "metadata": {},
   "outputs": [
    {
     "name": "stdout",
     "output_type": "stream",
     "text": [
      "[u'acting', u'best', u'better', u'cameron', u'characters', u'dicaprio', u'disaster', u'effects', u'every', u'first', u'good', u'great', u'hours', u'jack', u'james', u'james cameron', u'kate', u'kate winslet', u'know', u'leonardo', u'leonardo dicaprio', u'life', u'like', u'love', u'love story', u'make', u'much', u'never', u'one', u'people', u'rose', u'seen', u'ship', u'sinking', u'special', u'special effects', u'still', u'story', u'think', u'time', u'times', u'titanic', u'two', u'watch', u'way', u'well', u'winslet']\n"
     ]
    },
    {
     "data": {
      "text/plain": [
       "[(u'titanic', 182),\n",
       " (u'love', 110),\n",
       " (u'one', 109),\n",
       " (u'ship', 103),\n",
       " (u'story', 98),\n",
       " (u'time', 94),\n",
       " (u'people', 84),\n",
       " (u'cameron', 81),\n",
       " (u'like', 76),\n",
       " (u'rose', 65),\n",
       " (u'jack', 61),\n",
       " (u'james', 58),\n",
       " (u'best', 55),\n",
       " (u'winslet', 54),\n",
       " (u'effects', 51),\n",
       " (u'dicaprio', 47),\n",
       " (u'good', 47),\n",
       " (u'great', 46),\n",
       " (u'love story', 46),\n",
       " (u'well', 43),\n",
       " (u'james cameron', 42),\n",
       " (u'kate', 42),\n",
       " (u'much', 42),\n",
       " (u'never', 42),\n",
       " (u'seen', 42),\n",
       " (u'special', 42),\n",
       " (u'every', 40),\n",
       " (u'think', 40),\n",
       " (u'sinking', 39),\n",
       " (u'make', 38),\n",
       " (u'watch', 37),\n",
       " (u'characters', 36),\n",
       " (u'special effects', 36),\n",
       " (u'two', 36),\n",
       " (u'still', 34),\n",
       " (u'acting', 33),\n",
       " (u'kate winslet', 32),\n",
       " (u'way', 31),\n",
       " (u'better', 30),\n",
       " (u'first', 30),\n",
       " (u'know', 30),\n",
       " (u'life', 29),\n",
       " (u'leonardo', 28),\n",
       " (u'disaster', 27),\n",
       " (u'hours', 26),\n",
       " (u'times', 26),\n",
       " (u'leonardo dicaprio', 20)]"
      ]
     },
     "execution_count": 34,
     "metadata": {},
     "output_type": "execute_result"
    }
   ],
   "source": [
    "print term_frequency_feature_names\n",
    "\n",
    "tf = zip(count_vectorizer.get_feature_names(),np.asarray(term_frequency_matrix.sum(axis=0)).ravel())\n",
    "term_frequency = sorted(tf,key=lambda x: x[1],reverse=True)\n",
    "term_frequency"
   ]
  }
 ],
 "metadata": {
  "kernelspec": {
   "display_name": "Python 3",
   "language": "python",
   "name": "python3"
  },
  "language_info": {
   "codemirror_mode": {
    "name": "ipython",
    "version": 3
   },
   "file_extension": ".py",
   "mimetype": "text/x-python",
   "name": "python",
   "nbconvert_exporter": "python",
   "pygments_lexer": "ipython3",
   "version": "3.6.3"
  }
 },
 "nbformat": 4,
 "nbformat_minor": 1
}
