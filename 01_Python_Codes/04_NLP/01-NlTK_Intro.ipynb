{
 "cells": [
  {
   "cell_type": "code",
   "execution_count": 39,
   "metadata": {
    "collapsed": true
   },
   "outputs": [],
   "source": [
    "import nltk"
   ]
  },
  {
   "cell_type": "code",
   "execution_count": 40,
   "metadata": {
    "collapsed": true
   },
   "outputs": [],
   "source": [
    "from nltk import ngrams\n",
    "from nltk import sent_tokenize\n",
    "from nltk import word_tokenize\n",
    "from nltk import pos_tag"
   ]
  },
  {
   "cell_type": "code",
   "execution_count": 82,
   "metadata": {
    "collapsed": true
   },
   "outputs": [],
   "source": [
    "text = \"This is a machine learnig course, we teach data science. We use R and Python?\""
   ]
  },
  {
   "cell_type": "code",
   "execution_count": 83,
   "metadata": {},
   "outputs": [
    {
     "data": {
      "text/plain": [
       "'This is a machine learnig course, we teach data science. We use R and Python?'"
      ]
     },
     "execution_count": 83,
     "metadata": {},
     "output_type": "execute_result"
    }
   ],
   "source": [
    "text"
   ]
  },
  {
   "cell_type": "code",
   "execution_count": 84,
   "metadata": {
    "collapsed": true,
    "scrolled": true
   },
   "outputs": [],
   "source": [
    "token = word_tokenize(text) # returns list"
   ]
  },
  {
   "cell_type": "code",
   "execution_count": 85,
   "metadata": {
    "scrolled": true
   },
   "outputs": [
    {
     "data": {
      "text/plain": [
       "['This',\n",
       " 'is',\n",
       " 'a',\n",
       " 'machine',\n",
       " 'learnig',\n",
       " 'course',\n",
       " ',',\n",
       " 'we',\n",
       " 'teach',\n",
       " 'data',\n",
       " 'science',\n",
       " '.',\n",
       " 'We',\n",
       " 'use',\n",
       " 'R',\n",
       " 'and',\n",
       " 'Python',\n",
       " '?']"
      ]
     },
     "execution_count": 85,
     "metadata": {},
     "output_type": "execute_result"
    }
   ],
   "source": [
    "token"
   ]
  },
  {
   "cell_type": "code",
   "execution_count": 86,
   "metadata": {
    "collapsed": true,
    "scrolled": true
   },
   "outputs": [],
   "source": [
    "sent_tokens = sent_tokenize(text) # returns list"
   ]
  },
  {
   "cell_type": "code",
   "execution_count": 87,
   "metadata": {
    "scrolled": true
   },
   "outputs": [
    {
     "data": {
      "text/plain": [
       "['This is a machine learnig course, we teach data science.',\n",
       " 'We use R and Python?']"
      ]
     },
     "execution_count": 87,
     "metadata": {},
     "output_type": "execute_result"
    }
   ],
   "source": [
    "sent_tokens"
   ]
  },
  {
   "cell_type": "code",
   "execution_count": 94,
   "metadata": {
    "collapsed": true
   },
   "outputs": [],
   "source": [
    "bigrams = ngrams(token,2) # returns ref of type ngrams pointing to word list"
   ]
  },
  {
   "cell_type": "code",
   "execution_count": 48,
   "metadata": {},
   "outputs": [
    {
     "data": {
      "text/plain": [
       "<generator object ngrams at 0x000001D85712ECA8>"
      ]
     },
     "execution_count": 48,
     "metadata": {},
     "output_type": "execute_result"
    }
   ],
   "source": [
    "bigrams"
   ]
  },
  {
   "cell_type": "code",
   "execution_count": 95,
   "metadata": {},
   "outputs": [
    {
     "name": "stdout",
     "output_type": "stream",
     "text": [
      "('This', 'is')\n",
      "('is', 'a')\n",
      "('a', 'machine')\n",
      "('machine', 'learnig')\n",
      "('learnig', 'course')\n",
      "('course', ',')\n",
      "(',', 'we')\n",
      "('we', 'teach')\n",
      "('teach', 'data')\n",
      "('data', 'science')\n",
      "('science', '.')\n",
      "('.', 'We')\n",
      "('We', 'use')\n",
      "('use', 'R')\n",
      "('R', 'and')\n",
      "('and', 'Python')\n",
      "('Python', '?')\n"
     ]
    }
   ],
   "source": [
    "for k in bigrams:\n",
    "    print(k)"
   ]
  },
  {
   "cell_type": "code",
   "execution_count": 50,
   "metadata": {},
   "outputs": [
    {
     "name": "stdout",
     "output_type": "stream",
     "text": [
      "This\n",
      "is\n",
      "a\n",
      "machine\n",
      "learnig\n",
      "course\n",
      ",\n",
      "we\n",
      "teach\n",
      "data\n",
      "science\n",
      ".\n",
      "We\n",
      "use\n",
      "R\n",
      "and\n",
      "Python\n",
      "?\n"
     ]
    }
   ],
   "source": [
    "for token in token: \n",
    "    print(token)"
   ]
  },
  {
   "cell_type": "code",
   "execution_count": 65,
   "metadata": {
    "collapsed": true
   },
   "outputs": [],
   "source": [
    "trigrams =ngrams(token,3)"
   ]
  },
  {
   "cell_type": "code",
   "execution_count": 52,
   "metadata": {},
   "outputs": [
    {
     "name": "stdout",
     "output_type": "stream",
     "text": [
      "<generator object ngrams at 0x000001D856C90830>\n"
     ]
    }
   ],
   "source": [
    "print(trigrams)"
   ]
  },
  {
   "cell_type": "code",
   "execution_count": 66,
   "metadata": {
    "scrolled": true
   },
   "outputs": [
    {
     "name": "stdout",
     "output_type": "stream",
     "text": [
      "('This', 'is', 'a')\n",
      "('is', 'a', 'machine')\n",
      "('a', 'machine', 'learnig')\n",
      "('machine', 'learnig', 'course')\n",
      "('learnig', 'course', ',')\n",
      "('course', ',', 'we')\n",
      "(',', 'we', 'teach')\n",
      "('we', 'teach', 'data')\n",
      "('teach', 'data', 'science')\n",
      "('data', 'science', '.')\n",
      "('science', '.', 'We')\n",
      "('.', 'We', 'use')\n",
      "('We', 'use', 'R')\n",
      "('use', 'R', 'and')\n",
      "('R', 'and', 'Python')\n",
      "('and', 'Python', '?')\n"
     ]
    }
   ],
   "source": [
    "for k in trigrams:\n",
    "    print(k)      # returns tuples"
   ]
  },
  {
   "cell_type": "code",
   "execution_count": 56,
   "metadata": {
    "collapsed": true
   },
   "outputs": [],
   "source": [
    "for grams in bigrams:\n",
    "    print(grams)"
   ]
  },
  {
   "cell_type": "code",
   "execution_count": 13,
   "metadata": {
    "collapsed": true
   },
   "outputs": [],
   "source": [
    "from nltk import sent_tokenize\n",
    "sent_token=nltk.sent_tokenize(text)"
   ]
  },
  {
   "cell_type": "code",
   "execution_count": 14,
   "metadata": {},
   "outputs": [
    {
     "name": "stdout",
     "output_type": "stream",
     "text": [
      "This is a machine learnig course, we teach data science.\n",
      "We use R and Python?\n"
     ]
    }
   ],
   "source": [
    "for sent in sent_token:\n",
    "    print(sent)"
   ]
  },
  {
   "cell_type": "code",
   "execution_count": 14,
   "metadata": {
    "collapsed": true
   },
   "outputs": [],
   "source": [
    "trigrams = ngrams(token,3)"
   ]
  },
  {
   "cell_type": "code",
   "execution_count": 15,
   "metadata": {},
   "outputs": [
    {
     "name": "stdout",
     "output_type": "stream",
     "text": [
      "('This', 'is', 'a')\n",
      "('is', 'a', 'machine')\n",
      "('a', 'machine', 'learnig')\n",
      "('machine', 'learnig', 'course')\n",
      "('learnig', 'course', ',')\n",
      "('course', ',', 'we')\n",
      "(',', 'we', 'teach')\n",
      "('we', 'teach', 'data')\n",
      "('teach', 'data', 'science')\n",
      "('data', 'science', '.')\n",
      "('science', '.', 'We')\n",
      "('.', 'We', 'use')\n",
      "('We', 'use', 'R')\n",
      "('use', 'R', 'and')\n",
      "('R', 'and', 'Python')\n",
      "('and', 'Python', '?')\n"
     ]
    }
   ],
   "source": [
    "for grams in trigrams:\n",
    "    print(grams)"
   ]
  },
  {
   "cell_type": "code",
   "execution_count": 19,
   "metadata": {
    "collapsed": true
   },
   "outputs": [],
   "source": [
    "sentences = nltk.sent_tokenize(text)\n"
   ]
  },
  {
   "cell_type": "code",
   "execution_count": 20,
   "metadata": {
    "scrolled": true
   },
   "outputs": [
    {
     "data": {
      "text/plain": [
       "['This is a machine learnig course, we teach data science.',\n",
       " 'We use R and Python?']"
      ]
     },
     "execution_count": 20,
     "metadata": {},
     "output_type": "execute_result"
    }
   ],
   "source": [
    "sentences"
   ]
  },
  {
   "cell_type": "code",
   "execution_count": 79,
   "metadata": {
    "collapsed": true
   },
   "outputs": [],
   "source": [
    "corpus = [\n",
    "...     'This is the first document 999.',\n",
    "...     'This is the second second document.',\n",
    "...     'And the third one.',\n",
    "...     'Is this the first document?',\n",
    "... ]"
   ]
  },
  {
   "cell_type": "code",
   "execution_count": 96,
   "metadata": {
    "collapsed": true
   },
   "outputs": [],
   "source": [
    "from sklearn.feature_extraction.text import TfidfVectorizer\n",
    "vectorizer = TfidfVectorizer(min_df=1, max_df= 3,use_idf=False,ngram_range=(2,3))\n",
    "#use_idf = False --> gives normalized term frequencies\n",
    "#ngram_range = (2,3)--> gives tfidf matrix for both bigrams and trigrams\n",
    "# matrix will contain only words(not case sensitive), numbers and does not contain any punctiations,special symbols like @,$,#.\n",
    "#if spl symbols and punct are part of words, then they are stripped off\n",
    "a = vectorizer.fit_transform(corpus)"
   ]
  },
  {
   "cell_type": "code",
   "execution_count": 97,
   "metadata": {},
   "outputs": [
    {
     "data": {
      "text/plain": [
       "array([[ 0.        ,  0.        ,  0.33333333,  0.33333333,  0.33333333,\n",
       "         0.33333333,  0.33333333,  0.        ,  0.        ,  0.        ,\n",
       "         0.        ,  0.        ,  0.        ,  0.33333333,  0.33333333,\n",
       "         0.        ,  0.        ,  0.        ,  0.        ,  0.        ,\n",
       "         0.33333333,  0.33333333,  0.        ,  0.        ],\n",
       "       [ 0.        ,  0.        ,  0.        ,  0.        ,  0.        ,\n",
       "         0.33333333,  0.        ,  0.33333333,  0.        ,  0.        ,\n",
       "         0.33333333,  0.33333333,  0.33333333,  0.        ,  0.        ,\n",
       "         0.33333333,  0.33333333,  0.        ,  0.        ,  0.        ,\n",
       "         0.33333333,  0.33333333,  0.        ,  0.        ],\n",
       "       [ 0.4472136 ,  0.4472136 ,  0.        ,  0.        ,  0.        ,\n",
       "         0.        ,  0.        ,  0.        ,  0.        ,  0.        ,\n",
       "         0.        ,  0.        ,  0.        ,  0.        ,  0.        ,\n",
       "         0.        ,  0.        ,  0.4472136 ,  0.4472136 ,  0.4472136 ,\n",
       "         0.        ,  0.        ,  0.        ,  0.        ],\n",
       "       [ 0.        ,  0.        ,  0.        ,  0.37796447,  0.        ,\n",
       "         0.        ,  0.        ,  0.        ,  0.37796447,  0.37796447,\n",
       "         0.        ,  0.        ,  0.        ,  0.37796447,  0.37796447,\n",
       "         0.        ,  0.        ,  0.        ,  0.        ,  0.        ,\n",
       "         0.        ,  0.        ,  0.37796447,  0.37796447]])"
      ]
     },
     "execution_count": 97,
     "metadata": {},
     "output_type": "execute_result"
    }
   ],
   "source": [
    "a.toarray()"
   ]
  }
 ],
 "metadata": {
  "kernelspec": {
   "display_name": "Python 3",
   "language": "python",
   "name": "python3"
  },
  "language_info": {
   "codemirror_mode": {
    "name": "ipython",
    "version": 3
   },
   "file_extension": ".py",
   "mimetype": "text/x-python",
   "name": "python",
   "nbconvert_exporter": "python",
   "pygments_lexer": "ipython3",
   "version": "3.6.3"
  }
 },
 "nbformat": 4,
 "nbformat_minor": 2
}
